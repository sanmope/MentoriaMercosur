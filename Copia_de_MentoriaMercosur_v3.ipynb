{
  "nbformat": 4,
  "nbformat_minor": 0,
  "metadata": {
    "kernelspec": {
      "display_name": "Python 3",
      "language": "python",
      "name": "python3"
    },
    "language_info": {
      "codemirror_mode": {
        "name": "ipython",
        "version": 3
      },
      "file_extension": ".py",
      "mimetype": "text/x-python",
      "name": "python",
      "nbconvert_exporter": "python",
      "pygments_lexer": "ipython3",
      "version": "3.7.4"
    },
    "toc": {
      "base_numbering": 1,
      "nav_menu": {},
      "number_sections": true,
      "sideBar": true,
      "skip_h1_title": false,
      "title_cell": "Table of Contents",
      "title_sidebar": "Contents",
      "toc_cell": false,
      "toc_position": {
        "height": "calc(100% - 180px)",
        "left": "10px",
        "top": "150px",
        "width": "240px"
      },
      "toc_section_display": true,
      "toc_window_display": true
    },
    "colab": {
      "name": "Copia de MentoriaMercosur v3.ipynb",
      "provenance": [],
      "private_outputs": true,
      "collapsed_sections": [],
      "include_colab_link": true
    }
  },
  "cells": [
    {
      "cell_type": "markdown",
      "metadata": {
        "id": "view-in-github",
        "colab_type": "text"
      },
      "source": [
        "<a href=\"https://colab.research.google.com/github/sanmope/MentoriaMercosur/blob/master/Copia_de_MentoriaMercosur_v3.ipynb\" target=\"_parent\"><img src=\"https://colab.research.google.com/assets/colab-badge.svg\" alt=\"Open In Colab\"/></a>"
      ]
    },
    {
      "cell_type": "markdown",
      "metadata": {
        "id": "2Trvu4svcOQE",
        "colab_type": "text"
      },
      "source": [
        "## Predicción de indicadores sociales para países del MERCOSUR - Grupo I\n",
        "\n",
        "\n",
        "\n",
        "[Link a la descripción del proyecto](https://github.com/jfrau/DiploDatos2020/blob/master/README.md)"
      ]
    },
    {
      "cell_type": "markdown",
      "metadata": {
        "id": "FDc7Y_MU_q8O",
        "colab_type": "text"
      },
      "source": [
        "## Introducción"
      ]
    },
    {
      "cell_type": "markdown",
      "metadata": {
        "id": "WEFs-GyL7cCG",
        "colab_type": "text"
      },
      "source": [
        " En el presente informe se analizan de forma exhaustiva los datos de variables relacionadas a diferentes indicadores sociales relevados por el Banco Mundial. La base de datos utilizada es de  libre acceso y puede descargarse del siguiente [link](https://drive.google.com/drive/folders/1NVxgmk_pED1FtnqWl_M4-2vRPiyd6Pri?usp=sharing).\n",
        "\n",
        " Los indicadores seleccionados para el estudio abarcan las dimensiones de Educación, Género, Medio Ambiente, Pobreza, Protección Social y Salud para el período 1960-2019 de los paises pertenecientes al Mercosur.\n",
        "\n",
        " Los países en análisis son: Argentina, Brasil, Paraguay, Uruguay, Venezuela, Bolivia, Chile, Colombia, Ecuador, Guyana, Perú y Suriname.\n",
        "\n",
        "El objetivo final de la investigación es predecir el valor del año 2019 de los indicadores para cada país. Es por ello que en esta primera aproximación, se realiza un análisis profundo de la base de datos para corroborar si existe suficiente información para lograr el objetivo.\n",
        "\n",
        " En el siguiente repositorio, en primera instancia se realizan las importaciones de la librerias y bases de datos correspondientes. Luego, se construye un dataset único y se realiza un breve análisis de la información en forma general. Por último, se analiza de forma exhaustiva cada una de las dimensiones sociales a considerar.\n",
        "\n",
        "\n",
        " El proceso de análisis que se sigue para cada dimensión social es el mismo. Primero, se realiza un análisis por feature para toda la región, luego de seleccionar aquellos features con mayor información, se analizan de forma abarcativa los features seleccionados por país con el propósito de determinar si los features muestran comportamientos similares entre los paises y si existe suficiente información para predecir y utilizarlo como prueba al año 2019. Para eso se hace uso de técnicas de análisis y visualziacion de datos: heatmap, histogramas, tablas, boxplot, gráficos de barras y de líneas."
      ]
    },
    {
      "cell_type": "markdown",
      "metadata": {
        "id": "ki9uFv9RcOQG",
        "colab_type": "text"
      },
      "source": [
        "## Importacion de Librerías"
      ]
    },
    {
      "cell_type": "code",
      "metadata": {
        "id": "DIH-Tjn8cOQJ",
        "colab_type": "code",
        "colab": {}
      },
      "source": [
        "import pandas as pd\n",
        "!pip install sidetable\n",
        "import sidetable\n",
        "\n",
        "\n",
        "#Visualización\n",
        "import matplotlib.pyplot as plt\n",
        "import seaborn as sns\n",
        "\n",
        "import numpy as np"
      ],
      "execution_count": null,
      "outputs": []
    },
    {
      "cell_type": "code",
      "metadata": {
        "id": "JcoiWF6jcOQX",
        "colab_type": "code",
        "colab": {}
      },
      "source": [
        "# Para que pandas no trunque aquellas celdas con contenido muy largo (como textos)\n",
        "pd.set_option('display.max_colwidth', -1)\n",
        "# Para que pandas no trunque la vista de todas las columnas\n",
        "pd.set_option('display.max_columns', None)\n"
      ],
      "execution_count": null,
      "outputs": []
    },
    {
      "cell_type": "code",
      "metadata": {
        "id": "ZHJ4YvHmfuVF",
        "colab_type": "code",
        "colab": {}
      },
      "source": [
        "import sys\n",
        "in_colab = 'google.colab' in sys.modules\n",
        "\n",
        "if in_colab:\n",
        "  BASE_DIR = \"https://raw.githubusercontent.com/sanmope/MentoriaMercosur/master/\"\n",
        "else:\n",
        "  BASE_DIR = \"..\"\n"
      ],
      "execution_count": null,
      "outputs": []
    },
    {
      "cell_type": "markdown",
      "metadata": {
        "id": "BipUI7wBcOQh",
        "colab_type": "text"
      },
      "source": [
        "Cargamos los datasets de cada uno de los indicadores a predecir. "
      ]
    },
    {
      "cell_type": "markdown",
      "metadata": {
        "id": "MLj4m1qqurLa",
        "colab_type": "text"
      },
      "source": [
        "## Lectura de archivos\n"
      ]
    },
    {
      "cell_type": "code",
      "metadata": {
        "id": "D6MkRBwKcOQi",
        "colab_type": "code",
        "colab": {}
      },
      "source": [
        "education =  pd.read_csv(BASE_DIR + '/educacion_mercosur_cleaned.csv')\n",
        "gender = pd.read_csv(BASE_DIR + 'gender_mercosur_cleaned.csv')\n",
        "environment = pd.read_csv(BASE_DIR + 'environment_mercosur_cleaned.csv')\n",
        "health = pd.read_csv(BASE_DIR + 'health_mercosur_cleaned.csv')\n",
        "poverty = pd.read_csv(BASE_DIR + 'poverty_mercosur_cleaned.csv')\n",
        "social_protection = pd.read_csv(BASE_DIR + 'socialprotection_mercosur_cleaned.csv')"
      ],
      "execution_count": null,
      "outputs": []
    },
    {
      "cell_type": "markdown",
      "metadata": {
        "id": "3GQcIRTlcOQ1",
        "colab_type": "text"
      },
      "source": [
        "Renombramos la primera columna como ***Features*** en todos los datasets."
      ]
    },
    {
      "cell_type": "code",
      "metadata": {
        "id": "Ya5_F6XKcOQ2",
        "colab_type": "code",
        "colab": {}
      },
      "source": [
        "#Corrección del nombre de la primera columna\n",
        "education = education.rename(columns={\"Unnamed: 0\": \"features\"})\n",
        "gender = gender.rename(columns={\"Unnamed: 0\": \"features\"})\n",
        "environment = environment.rename(columns={\"Unnamed: 0\": \"features\"})\n",
        "health = health.rename(columns={\"Unnamed: 0\": \"features\"})\n",
        "poverty = poverty.rename(columns={\"Unnamed: 0\": \"features\"})\n",
        "social_protection = social_protection.rename(columns={\"Unnamed: 0\": \"features\"})"
      ],
      "execution_count": null,
      "outputs": []
    },
    {
      "cell_type": "markdown",
      "metadata": {
        "id": "Rkp-HizOcOQ5",
        "colab_type": "text"
      },
      "source": [
        "Por último veamos las dimensiones de cada uno de los datasets considerados:"
      ]
    },
    {
      "cell_type": "code",
      "metadata": {
        "scrolled": true,
        "id": "WjAWXSnncOQ6",
        "colab_type": "code",
        "colab": {}
      },
      "source": [
        "print('Dimensiones de los datasets: \\n',\n",
        "      'Educación:',education.shape, '\\n', \n",
        "      'Género:',gender.shape,'\\n',\n",
        "     'Medio Ambiente:', environment.shape, '\\n',\n",
        "     'Salud:', health.shape, '\\n',\n",
        "      'Pobreza:',poverty.shape, '\\n',\n",
        "      'Protección Social:',social_protection.shape)"
      ],
      "execution_count": null,
      "outputs": []
    },
    {
      "cell_type": "markdown",
      "metadata": {
        "id": "pM22UriwcORT",
        "colab_type": "text"
      },
      "source": [
        "Es posible acceder a la metadata de las bases consideradas a través del siguiente [link](https://drive.google.com/drive/folders/11QPQHD_hxeMZZ-VH9ppM9KXL46HRxSjy?usp=sharing).\n",
        "\n",
        "La metadata es una explicación breve sobre el significado de cada variable y la fuente de datos, es un \"Diccionario de datos\". Estos datos deben ser tomados de consulta y para dar sentido a los valores y/o información hallada."
      ]
    },
    {
      "cell_type": "markdown",
      "metadata": {
        "id": "H1t9QjfEcORv",
        "colab_type": "text"
      },
      "source": [
        "## Breve Descripción del Dataset Unificado"
      ]
    },
    {
      "cell_type": "markdown",
      "metadata": {
        "id": "1DcM96PrcORv",
        "colab_type": "text"
      },
      "source": [
        "Con el propósito de tener una base de datos consolidada para utilizar durante el proceso de investigación, se construye un dataset único."
      ]
    },
    {
      "cell_type": "code",
      "metadata": {
        "id": "CaiPpA5_cORw",
        "colab_type": "code",
        "colab": {}
      },
      "source": [
        "dataset =pd.concat([education, gender, environment, health, poverty, social_protection])\n",
        "print ( \"Considerando toda la información de forma conjunta, la base de datos con la que se realiza la mentoría \\n tiene el siguiente tamaño: \"+ str( dataset.shape))"
      ],
      "execution_count": null,
      "outputs": []
    },
    {
      "cell_type": "code",
      "metadata": {
        "scrolled": false,
        "id": "GwAy_oM1cOR3",
        "colab_type": "code",
        "colab": {}
      },
      "source": [
        "print(\"El dataset esta constituido por las siguientes columnas: \")\n",
        "\n",
        "dataset.columns"
      ],
      "execution_count": null,
      "outputs": []
    },
    {
      "cell_type": "code",
      "metadata": {
        "scrolled": true,
        "id": "2vRo6LILcOR8",
        "colab_type": "code",
        "colab": {}
      },
      "source": [
        "dataset.head(3)"
      ],
      "execution_count": null,
      "outputs": []
    },
    {
      "cell_type": "markdown",
      "metadata": {
        "id": "6ImfrS7b1An_",
        "colab_type": "text"
      },
      "source": [
        "### Features"
      ]
    },
    {
      "cell_type": "code",
      "metadata": {
        "id": "nrkNCm9YoYX3",
        "colab_type": "code",
        "colab": {}
      },
      "source": [
        "print( \"En la base de datos consolidada existen: \" + str(len(dataset['features'].unique())) + \" features en total\")"
      ],
      "execution_count": null,
      "outputs": []
    },
    {
      "cell_type": "code",
      "metadata": {
        "id": "I5JixGrrxZJp",
        "colab_type": "code",
        "colab": {}
      },
      "source": [
        "featureByIndicator = dataset[[\"features\", \"Indicator\"]].drop_duplicates().groupby('Indicator')['features'].count()\n",
        "\n",
        "print( \"La cantidad de features que existen por indicador es:\")\n",
        "featureByIndicator"
      ],
      "execution_count": null,
      "outputs": []
    },
    {
      "cell_type": "code",
      "metadata": {
        "id": "RCaI-0QUyV0d",
        "colab_type": "code",
        "colab": {}
      },
      "source": [
        "featureByIndicator = dataset[[\"features\", \"Indicator\"]].drop_duplicates().groupby('Indicator')['features'].count().reset_index()\n",
        "_ind_max = featureByIndicator[featureByIndicator[\"features\"] == featureByIndicator[\"features\"].max()]\n",
        "print(\"El indicador con mayor cantidad de features es: \")\n",
        "_ind_max\n"
      ],
      "execution_count": null,
      "outputs": []
    },
    {
      "cell_type": "code",
      "metadata": {
        "id": "nBmH2SA10eSX",
        "colab_type": "code",
        "colab": {}
      },
      "source": [
        "featureByIndicator = dataset[[\"features\", \"Indicator\"]].drop_duplicates().groupby('Indicator')['features'].count().reset_index()\n",
        "_ind_min = featureByIndicator[featureByIndicator[\"features\"] == featureByIndicator[\"features\"].min()]\n",
        "print(\"El indicador con menor cantidad de features es: \")\n",
        "_ind_min"
      ],
      "execution_count": null,
      "outputs": []
    },
    {
      "cell_type": "markdown",
      "metadata": {
        "id": "PEWc_m6J1DzH",
        "colab_type": "text"
      },
      "source": [
        "### Países"
      ]
    },
    {
      "cell_type": "code",
      "metadata": {
        "id": "S1OlJZCl1LI4",
        "colab_type": "code",
        "colab": {}
      },
      "source": [
        "print( \"En la base de datos consolidada existen: \" + str(len(dataset['Country Name'].unique())) + \" países en total\")"
      ],
      "execution_count": null,
      "outputs": []
    },
    {
      "cell_type": "code",
      "metadata": {
        "id": "jd15OLMP1Slv",
        "colab_type": "code",
        "colab": {}
      },
      "source": [
        "print( \"Los países consdierados en el ánalisis son los siguientes:  \")\n",
        "print(dataset[\"Country Name\"].unique())"
      ],
      "execution_count": null,
      "outputs": []
    },
    {
      "cell_type": "code",
      "metadata": {
        "id": "9pSTI-rDpD52",
        "colab_type": "code",
        "colab": {}
      },
      "source": [
        "featureByCountry = dataset.groupby('Country Name')['features'].count()\n",
        "print(\"La cantidad de features por país para todo el dataset es: \")\n",
        "print(featureByCountry)"
      ],
      "execution_count": null,
      "outputs": []
    },
    {
      "cell_type": "markdown",
      "metadata": {
        "id": "xJTbtF3-i89C",
        "colab_type": "text"
      },
      "source": [
        "Podemos observar que existen la misma cantidad de features por cada pais."
      ]
    },
    {
      "cell_type": "markdown",
      "metadata": {
        "id": "ZfMu7XXE2U5X",
        "colab_type": "text"
      },
      "source": [
        "Una vez realizada una breve descripción de los datos que componen el dataset consolidado, se procede a realizar un análisis mas detallado por indicador, en el siguiente orden:\n",
        "\n",
        "\n",
        "*   Género\n",
        "*   Salud\n",
        "*   Educación\n",
        "*   Protección Social\n",
        "*   Pobreza\n",
        "*   Medio Ambiente\n",
        "\n"
      ]
    },
    {
      "cell_type": "markdown",
      "metadata": {
        "id": "xqqN5_680OWp",
        "colab_type": "text"
      },
      "source": [
        "## GÉNERO"
      ]
    },
    {
      "cell_type": "markdown",
      "metadata": {
        "id": "n6pI4d3gWiMf",
        "colab_type": "text"
      },
      "source": [
        "1. ¿Cuántos **tipos de Features diferentes** existen por indicador considerado? ¿Todos los países mantienen esa misma cantidad para el mismo indicador?"
      ]
    },
    {
      "cell_type": "code",
      "metadata": {
        "id": "379AOstX0sar",
        "colab_type": "code",
        "colab": {}
      },
      "source": [
        "print(\"El indicador de género tiene \" + str(len(gender[\"features\"].unique())) + \" features.\")\n",
        "print(\"El análisis se lleva a cabo consdierando \" + str(len(gender[\"Country Name\"].unique())) + \" países.\")\n",
        "print(gender[\"Country Name\"].unique())"
      ],
      "execution_count": null,
      "outputs": []
    },
    {
      "cell_type": "code",
      "metadata": {
        "id": "wNtP2aQp1rAW",
        "colab_type": "code",
        "colab": {}
      },
      "source": [
        "countries = gender['Country Name'].unique()\n",
        "\n",
        "for countries in countries:\n",
        "    \n",
        "    print(\"La cantidad de features que posee \" + str(countries) + \": \" + str(gender[gender['Country Name']==countries]['features'].count()) )"
      ],
      "execution_count": null,
      "outputs": []
    },
    {
      "cell_type": "markdown",
      "metadata": {
        "id": "wm1VMjI42SnG",
        "colab_type": "text"
      },
      "source": [
        "### Análisis por Feature para toda la Región\n",
        "\n",
        "---\n",
        "\n"
      ]
    },
    {
      "cell_type": "markdown",
      "metadata": {
        "id": "hdcBxSWtX3F5",
        "colab_type": "text"
      },
      "source": [
        "2.  ¿Cuál es la **proporción de valores nulos** para cada Feature dentro de cada Indicador con respecto al intervalo temporal considerado? ¿Estos valores nulos se encuentran dispersos a lo largo de todo el intervalo temporal o existen agrupamientos (más chicos y/o más grandes) de los mismos? ¿Qué decisión se podría tomar con respecto a los mismos en un futuro?\n",
        "3. ¿Cómo es la distribución de valores nulos por año (por columnas del dataset)?. Teniendo en cuenta que el objetivo final de la mentoría es realizar una predicción de cada Feature para el año 2019, ¿se disponen de datos suficientes para comparar las predicciones que se obtendrán con el valor real en ese año?"
      ]
    },
    {
      "cell_type": "code",
      "metadata": {
        "id": "UiV8TKDN81Gm",
        "colab_type": "code",
        "colab": {}
      },
      "source": [
        "print(\"Los features de género que existen son los siguientes: \\n\", str(gender['features'].unique()))"
      ],
      "execution_count": null,
      "outputs": []
    },
    {
      "cell_type": "markdown",
      "metadata": {
        "id": "wk_TWZ212ff7",
        "colab_type": "text"
      },
      "source": [
        "Para llevar a cabo el análisis de los datos nulos, se construye una matriz por feature y por año en la que se muestra el porcentaje de registros existentes para cada combinación considerando toda la región."
      ]
    },
    {
      "cell_type": "code",
      "metadata": {
        "id": "0nfVuXrX2qma",
        "colab_type": "code",
        "colab": {}
      },
      "source": [
        "GenderValuesByICode = gender.groupby(\"Indicator Code\").count().drop([\"Country Code\", \"Country Name\", \"Indicator\", \"features\"], axis=1)\n",
        "GenderValuesByICode[\"Valor\"] = GenderValuesByICode.sum(axis=1)\n",
        "GenderValuesByICode = GenderValuesByICode.sort_values(by=['Valor'], ascending=False)\n",
        "GenderValuesByICode = ((GenderValuesByICode/12)*100).drop(columns = [\"Valor\"])\n",
        "GenderValuesByICode = GenderValuesByICode.rename(columns = lambda x : str(x)[:4])\n",
        "round(GenderValuesByICode,2)\n"
      ],
      "execution_count": null,
      "outputs": []
    },
    {
      "cell_type": "markdown",
      "metadata": {
        "id": "YIZF4Udt9FJq",
        "colab_type": "text"
      },
      "source": [
        "Se construye un mapa de calor para visualizar aquellas features con mayor porcentaje de registros, mientras mas oscuro el color menos proporción de registros hay para dicha combinación."
      ]
    },
    {
      "cell_type": "code",
      "metadata": {
        "id": "F0AxAaIu3pFh",
        "colab_type": "code",
        "colab": {}
      },
      "source": [
        "plt.figure(figsize=(60,30))\n",
        "sns.heatmap(GenderValuesByICode, cbar=True, linewidths=0.1,  vmin=0, vmax=100)\n",
        "sns.set(font_scale=4)"
      ],
      "execution_count": null,
      "outputs": []
    },
    {
      "cell_type": "markdown",
      "metadata": {
        "id": "MbkvMuRd9R7C",
        "colab_type": "text"
      },
      "source": [
        "Como puede observarse graficamente, durante el periodo de 1970 a 1990 se concentra la mayor cantidad de nulos."
      ]
    },
    {
      "cell_type": "code",
      "metadata": {
        "id": "vpaIHMRN9Syj",
        "colab_type": "code",
        "colab": {}
      },
      "source": [
        "GenderByYear = pd.melt(gender.drop([\"Country Code\", \"Country Name\", \"Indicator\",\n",
        "                            \"features\"], axis=1), id_vars = [\"Indicator Code\"])\n",
        "GenderByYear[\"variable\"] = pd.to_numeric(GenderByYear[\"variable\"] )\n",
        "GenderByYear = GenderByYear.rename(columns = {\"variable\": \"Year\"})\n",
        "TotalData_1990 = (GenderByYear[\"Year\"]<=1990).sum()\n",
        "WithData_1990 = ((GenderByYear[\"Year\"]<=1990) & (GenderByYear[\"value\"]>0)).sum()\n",
        "\n",
        "print( \"El % de registros sin datos para el período de 1970 a 1990 es de: \\n\" \n",
        "      +  str(round((1 - (WithData_1990/TotalData_1990))*100,2)) + \"%\") \n",
        "\n",
        "TotalData_2019 = (GenderByYear[\"Year\"]>1990).sum()\n",
        "WithData_2019 = ((GenderByYear[\"Year\"]>1990) & (GenderByYear[\"value\"]>0)).sum()\n",
        "Check = len (GenderByYear) == (TotalData_2019 + TotalData_1990 )\n",
        "\n",
        "\n",
        "print( \"El % de registros sin datos para el período de 1991 a 2019 es de: \\n\" \n",
        "      +  str(round((1 - (WithData_2019/TotalData_2019))*100,2)) + \"%\") \n"
      ],
      "execution_count": null,
      "outputs": []
    },
    {
      "cell_type": "markdown",
      "metadata": {
        "id": "-ZA7OSnT9voP",
        "colab_type": "text"
      },
      "source": [
        "Se seleccionan en un principio los 30 features con mas datos en toda la región:"
      ]
    },
    {
      "cell_type": "code",
      "metadata": {
        "id": "yFs6kLMj8fZv",
        "colab_type": "code",
        "colab": {}
      },
      "source": [
        "GenderValuesByICode = GenderValuesByICode.reset_index()\n",
        "GenderValuesByICode[\"features\"] = GenderValuesByICode[\"Indicator Code\"]\n",
        "GenderValuesByICode[\"features\"] = GenderValuesByICode[\"features\"].map(gender.set_index(\"Indicator Code\")[\"features\"].to_dict())\n",
        "FeaturesGenderSelection = GenderValuesByICode.iloc[0:30][[\"Indicator Code\", \"features\"]].set_index(\"Indicator Code\")\n",
        "FeaturesGenderSelection"
      ],
      "execution_count": null,
      "outputs": []
    },
    {
      "cell_type": "markdown",
      "metadata": {
        "id": "tKI4AAFS9jX5",
        "colab_type": "text"
      },
      "source": [
        "En una primera instancia, dado que la dimensión en estudio es el género, se considera necesario seleccionar como variables de estudio aquellas que representen tanto la situación de los hombres como de las mujeres. Es decir, si se considera el indicador \"Relación entre empleo y población, mayores de 15 años, mujeres (%)\", entonces se seleccionará para el análisis la misma variable para hombres. Es por eso que se amplia la cantidad de features de punto de partida relevantes para abarcar ambos sexos."
      ]
    },
    {
      "cell_type": "code",
      "metadata": {
        "id": "zIAsNzF499Qn",
        "colab_type": "code",
        "colab": {}
      },
      "source": [
        "IDCodeSelection = GenderValuesByICode.iloc[0:30].reset_index()\n",
        "IDCodeSelection = IDCodeSelection[\"Indicator Code\"].to_list()\n",
        "AddIDCode = [\"SE.PRM.ENRL.MA.ZS\", \"SE.SEC.ENRL.GC.MA.ZS\", \"SL.TLF.TOTL.MA.ZS\", \"SL.EMP.WORK.FE.ZS\", \"SL.EMP.VULN.MA.ZS\", \"SE.SEC.ENRL.VO.MA.ZS\", \"SE.SEC.ENRL.MA.ZS\"]\n",
        "GenderIDCode =  IDCodeSelection + AddIDCode\n",
        "\n",
        "GenderValues = GenderValuesByICode[GenderValuesByICode[\"Indicator Code\"].isin(GenderIDCode)]\n",
        "\n",
        "GenderValues = GenderValues.reset_index()\n",
        "GenderValues[\"features\"] = GenderValues[\"Indicator Code\"]\n",
        "GenderValues[\"features\"] = GenderValues[\"features\"].map(gender.set_index(\"Indicator Code\")[\"features\"].to_dict())\n",
        "FeaturesGender = GenderValues[[\"Indicator Code\", \"features\"]].set_index(\"Indicator Code\")\n",
        "\n",
        "print(\"Se agregaron \"+ str(len(FeaturesGender)- len(FeaturesGenderSelection)) + \" features al listado original. Quedando en total \" + str(len(FeaturesGender)) + \" features.\" )\n",
        "FeaturesGender"
      ],
      "execution_count": null,
      "outputs": []
    },
    {
      "cell_type": "markdown",
      "metadata": {
        "id": "36twemAbCUVU",
        "colab_type": "text"
      },
      "source": [
        "### Análisis por País para cada Feature"
      ]
    },
    {
      "cell_type": "markdown",
      "metadata": {
        "id": "hgUHiynEYDqK",
        "colab_type": "text"
      },
      "source": [
        "4. Volviendo a los resultados del punto 2, elegir como mínimo 15 Features por Indicador con al menos el 50% de valores no nulos (y en lo posible los mismos para todos los países) y mostrar gráficamente, con gráficos de distribución o de cajas por ejemplo, la distribución de los mismos. ¿Qué se puede observar de estas distribuciones? ¿Son normales? ¿Qué sucede con los outliers? ¿Observan alguna similitud entre los features elegidos?. Para estos mismos 15 Features realizar el gráfico de línea de su serie temporal y analizarlo."
      ]
    },
    {
      "cell_type": "markdown",
      "metadata": {
        "id": "qMfvdiTU3LrD",
        "colab_type": "text"
      },
      "source": [
        "Se construye una matriz para determinar cuál es el porcentaje de registros con datos considerando las 32 features seleccionadas por país y año. Es decir, por ejemplo, para Chile en el año 1970 el 65.6% de los features tiene valores."
      ]
    },
    {
      "cell_type": "code",
      "metadata": {
        "id": "mp6QTXdYR523",
        "colab_type": "code",
        "colab": {}
      },
      "source": [
        "RelevantFeaturesGender = gender[gender[\"Indicator Code\"].isin(GenderIDCode)]\n",
        "GenderDataByCountry = RelevantFeaturesGender.groupby(\"Country Name\").count().drop([\"features\", \"Indicator\", \"Country Code\", \"Indicator Code\"], axis=1)\n",
        "GenderDataByCountry[\"Valor\"] = GenderDataByCountry.sum(axis=1)\n",
        "GenderDataByCountry = GenderDataByCountry.sort_values(by=['Valor'], ascending=False)\n",
        "GenderDataByCountry = ((GenderDataByCountry/len(RelevantFeaturesGender[\"Indicator Code\"].unique()))*100).drop(columns = [\"Valor\"])\n",
        "GenderDataByCountry = GenderDataByCountry.rename(columns = lambda x : str(x)[:4])\n",
        "round(GenderDataByCountry,2)"
      ],
      "execution_count": null,
      "outputs": []
    },
    {
      "cell_type": "code",
      "metadata": {
        "id": "YaScGhGRR9J8",
        "colab_type": "code",
        "colab": {}
      },
      "source": [
        "plt.figure(figsize=(40, 20))\n",
        "sns.heatmap(GenderDataByCountry, cbar=True, linewidths=.3, vmin=0, vmax=100)\n",
        "sns.set(font_scale=4)"
      ],
      "execution_count": null,
      "outputs": []
    },
    {
      "cell_type": "markdown",
      "metadata": {
        "id": "euYMbJT35BUx",
        "colab_type": "text"
      },
      "source": [
        "Se realiza un heatmap considerando como centro el 50% de esta forma se puede visualizar cuáles son las combinaciones que tienen mas del 50% de registros con datos."
      ]
    },
    {
      "cell_type": "code",
      "metadata": {
        "id": "0l3jZ48xSE-2",
        "colab_type": "code",
        "colab": {}
      },
      "source": [
        "plt.figure(figsize=(40, 20))\n",
        "sns.heatmap(GenderDataByCountry, cbar=True, linewidths=.3, center=50, cmap=\"PRGn\")\n",
        "sns.set(font_scale=4)"
      ],
      "execution_count": null,
      "outputs": []
    },
    {
      "cell_type": "code",
      "metadata": {
        "id": "FHHTCQCu5Ph-",
        "colab_type": "code",
        "colab": {}
      },
      "source": [
        "_porc_paises_mas_50 = round((GenderDataByCountry[GenderDataByCountry>50].count()/len(gender[\"Country Name\"].unique()))*100, 0).astype(int)\n",
        "\n",
        "print(\"El % de países con más del 50% de los features con datos para cada año es: \\n\" + str(_porc_paises_mas_50))"
      ],
      "execution_count": null,
      "outputs": []
    },
    {
      "cell_type": "markdown",
      "metadata": {
        "id": "u_i84FQtSMI0",
        "colab_type": "text"
      },
      "source": [
        "A partir de 1991, todos los paises en análisis tienen información para más del 50% de los features relevantes. Esto se evidencia en el heatmap, donde aquellas combinaciones con más del 50% de registros se muestran en diferentes tonalidades de verdes. Aquellas combinaciones que no alcanzan el 50% de los registros tienen diferentes tonalidades de violeta."
      ]
    },
    {
      "cell_type": "markdown",
      "metadata": {
        "id": "PUVeMZqvCPq7",
        "colab_type": "text"
      },
      "source": [
        "Se modifica la estructura del dataset para poder analizar el porcentaje de registros con datos por país, por feature y por año, para decidir qué features considerar para cada país."
      ]
    },
    {
      "cell_type": "code",
      "metadata": {
        "id": "wZlNCYCAgWCw",
        "colab_type": "code",
        "colab": {}
      },
      "source": [
        "GenderFeaturesByID = RelevantFeaturesGender.drop([\"Country Code\", \"Indicator\", \"features\"], axis=1)\n",
        "GenderFeaturesByID = GenderFeaturesByID.groupby([\"Country Name\", \"Indicator Code\"]).count()\n",
        "GenderFeaturesByID[\"Porcentaje de Registros\"] = (GenderFeaturesByID.sum(axis=1)/50)*100\n",
        "GenderFeaturesByID = GenderFeaturesByID[\"Porcentaje de Registros\"].reset_index().sort_values(by='Indicator Code', ascending=False)\n",
        "\n",
        "countries = gender['Country Name'].drop_duplicates().to_list()\n",
        "for country in countries:\n",
        "    plt.figure(figsize=(20, 10))\n",
        "    sns.barplot(x=\"Indicator Code\", y=\"Porcentaje de Registros\", data=GenderFeaturesByID[GenderFeaturesByID[\"Country Name\"]== country], color = \"r\")\n",
        "    plt.xticks(fontsize=14, rotation=90)\n",
        "    plt.yticks(fontsize=14)\n",
        "    plt.xlabel('Indicator Code', fontsize=14)\n",
        "    plt.ylabel('Porcentaje con Datos', fontsize=14)\n",
        "    plt.title(\"Porcentaje con Datos por Indicador de \" + str(country) + \"\\n\", fontsize=18)\n",
        "    plt.axhline(y=50,linewidth=1, color='black')\n"
      ],
      "execution_count": null,
      "outputs": []
    },
    {
      "cell_type": "markdown",
      "metadata": {
        "id": "mMEmnCP-kQIf",
        "colab_type": "text"
      },
      "source": [
        "Como puede observarse en los gráficos de barra, la mayoría de los países tienen más del 50% de información de los de los features seleccionados para el análisis. Brasil es el país con mayor cantidad de features (13) que tienen un registro menor al 50%. Luego, le siguen Bolivia, Uruguay y Guyana."
      ]
    },
    {
      "cell_type": "code",
      "metadata": {
        "id": "pd585UoFySs9",
        "colab_type": "code",
        "colab": {}
      },
      "source": [
        "#Se seleccionan del dataset solo aquellas columnas relevantes para el gráfico\n",
        "GenderFeaturesByID = RelevantFeaturesGender.drop([\"Country Code\", \"Indicator\", \"features\"], axis=1)\n",
        "#Contamos todas las combinaciones existentes por país e indicator code para cada año\n",
        "GenderFeaturesByID = GenderFeaturesByID.groupby([\"Country Name\", \"Indicator Code\"]).count()\n",
        "#Sumamos las combinaciones de país e indicator code para todos los años, \n",
        "#Para luego, dado que la cantidad de años de análisis es 50, \n",
        "#obtener el porcentaje de registros por país e indicator code para todo el período en análisis\n",
        "GenderFeaturesByID[\"Porcentaje de Registros\"] = (GenderFeaturesByID.sum(axis=1)/50)*100\n",
        "#Para Facilitar la lectura del cuadro, se crea una columna que identifica si el % de registros es mayor o menor a 50%\n",
        "GenderFeaturesByID[\"Mayor a 50%\"] = GenderFeaturesByID[\"Porcentaje de Registros\"]>50\n",
        "#Ordenamos por Indicator Code, para seleccionar las mismas variables para todos los países, y, luego, en caso que algún\n",
        "# país no tenga más del 50% para algún feature, repetimos el proceso ordenando en base al % de registros.\n",
        "GenderFeaturesByID = GenderFeaturesByID[[\"Porcentaje de Registros\" , \"Mayor a 50%\"]].reset_index().sort_values(by='Indicator Code', ascending=False)\n",
        "countries = gender['Country Name'].drop_duplicates()\n",
        "\n",
        "GenderIDbyCountry = []\n",
        "for country in countries:\n",
        "       GenderIDbyCountry.append( GenderFeaturesByID.loc[GenderFeaturesByID[\"Country Name\"]==country].iloc[0:15] )\n",
        "GenderIDbyCountry"
      ],
      "execution_count": null,
      "outputs": []
    },
    {
      "cell_type": "markdown",
      "metadata": {
        "id": "C8ObzzH2nFFR",
        "colab_type": "text"
      },
      "source": [
        "De los 15 features seleccionados para Género, todos los países cumplen con la condición de tener mas del 50% de datos en el período."
      ]
    },
    {
      "cell_type": "code",
      "metadata": {
        "id": "t2MY2rymzTIS",
        "colab_type": "code",
        "colab": {}
      },
      "source": [
        "#Se definen los features seleccionados\n",
        "\n",
        "GenderIDbyCountry = GenderIDbyCountry.copy()\n",
        "GenderIDFeatures = GenderIDbyCountry[0][\"Indicator Code\"].unique()\n",
        "GenderIDFeatures"
      ],
      "execution_count": null,
      "outputs": []
    },
    {
      "cell_type": "code",
      "metadata": {
        "id": "IhXY0gR-DjGO",
        "colab_type": "code",
        "colab": {}
      },
      "source": [
        "                                                                                                 \n",
        "print(\"Asignación de ID Code elegidos con su respectivo feature.\" )\n",
        "gender[gender[\"Indicator Code\"].isin(GenderIDFeatures)][[\"Indicator Code\", \"features\"]].drop_duplicates().reset_index().drop(columns=[\"index\"])"
      ],
      "execution_count": null,
      "outputs": []
    },
    {
      "cell_type": "markdown",
      "metadata": {
        "id": "Y9dU3VNRZR2o",
        "colab_type": "text"
      },
      "source": [
        "#### Funciones de Densidad por Feature para cada país"
      ]
    },
    {
      "cell_type": "markdown",
      "metadata": {
        "id": "gNcN_j7JG3ds",
        "colab_type": "text"
      },
      "source": [
        "Para realizar los siguientes análisis, se construye un dataset que tenga solo las columnas relevantes de análisis y que solo considere los ID Features seleccionados en el paso anterior. "
      ]
    },
    {
      "cell_type": "code",
      "metadata": {
        "id": "jIU0S-rg2Obv",
        "colab_type": "code",
        "colab": {}
      },
      "source": [
        "columns=gender.columns\n",
        "GenderData=gender.drop([\"Indicator\", \"Country Code\", \"features\"], axis=1).rename(columns = lambda x : str(x)[:4] if x in columns[5:] else x)\n",
        "GenderData=GenderData[GenderData[\"Indicator Code\"].isin(GenderIDFeatures)]"
      ],
      "execution_count": null,
      "outputs": []
    },
    {
      "cell_type": "code",
      "metadata": {
        "id": "WZnn3RgZ8kt5",
        "colab_type": "code",
        "colab": {}
      },
      "source": [
        "GenderDataMelt = pd.melt(GenderData, id_vars = [\"Indicator Code\" , \"Country Name\"])\n",
        "GenderDataMelt[\"variable\"] = pd.to_numeric(GenderDataMelt[\"variable\"] )\n",
        "GenderDataMelt = GenderDataMelt.rename(columns = {\"variable\": \"Year\"})\n",
        "GenderDataMelt"
      ],
      "execution_count": null,
      "outputs": []
    },
    {
      "cell_type": "markdown",
      "metadata": {
        "id": "DyBas67YHkTh",
        "colab_type": "text"
      },
      "source": [
        "Se crea un dataset por país"
      ]
    },
    {
      "cell_type": "code",
      "metadata": {
        "id": "d61rzZ2hIfwZ",
        "colab_type": "code",
        "colab": {}
      },
      "source": [
        "GenderDataMelt = GenderDataMelt.copy()\n",
        "arg=GenderDataMelt[GenderDataMelt[\"Country Name\"]==\"Argentina\"]\n",
        "bra=GenderDataMelt[GenderDataMelt[\"Country Name\"]==\"Brasil\"]\n",
        "ur=GenderDataMelt[GenderDataMelt[\"Country Name\"]==\"Uruguay\"]\n",
        "par=GenderDataMelt[GenderDataMelt[\"Country Name\"]==\"Paraguay\"]\n",
        "ven=GenderDataMelt[GenderDataMelt[\"Country Name\"]==\"Venezuela\"]\n",
        "bol=GenderDataMelt[GenderDataMelt[\"Country Name\"]==\"Bolivia\"]\n",
        "chi=GenderDataMelt[GenderDataMelt[\"Country Name\"]==\"Chile\"]\n",
        "guy=GenderDataMelt[GenderDataMelt[\"Country Name\"]==\"Guyana\"]\n",
        "sur=GenderDataMelt[GenderDataMelt[\"Country Name\"]==\"Suriname\"]\n",
        "col=GenderDataMelt[GenderDataMelt[\"Country Name\"]==\"Colombia\"]\n",
        "ecu=GenderDataMelt[GenderDataMelt[\"Country Name\"]==\"Ecuador\"]\n",
        "per=GenderDataMelt[GenderDataMelt[\"Country Name\"]==\"Perú\"]\n"
      ],
      "execution_count": null,
      "outputs": []
    },
    {
      "cell_type": "markdown",
      "metadata": {
        "id": "ZtDmOmE4HpDr",
        "colab_type": "text"
      },
      "source": [
        "Se grafican las curvas de densidad para cada ID Features"
      ]
    },
    {
      "cell_type": "code",
      "metadata": {
        "colab_type": "code",
        "id": "Ll8dQFDs93rE",
        "colab": {}
      },
      "source": [
        "GenderIDbyCountry = GenderIDbyCountry.copy()\n",
        "GenderIDFeatures = GenderIDbyCountry[0][\"Indicator Code\"].unique()\n",
        "\n",
        "for Features in GenderIDFeatures:\n",
        "    plt.figure(figsize=(13,6))\n",
        "    sns.distplot(arg[arg[\"Indicator Code\"]==Features][\"value\"], label=\"arg\", hist=False)\n",
        "    sns.distplot(bra[bra[\"Indicator Code\"]==Features][\"value\"], label=\"bra\", hist=False)\n",
        "    sns.distplot(ur[ur[\"Indicator Code\"]==Features][\"value\"], label=\"ur\", hist=False)\n",
        "    sns.distplot(par[par[\"Indicator Code\"]==Features][\"value\"], label=\"par\", hist=False)\n",
        "    sns.distplot(ven[ven[\"Indicator Code\"]==Features][\"value\"], label=\"ven\", hist=False)\n",
        "    sns.distplot(bol[bol[\"Indicator Code\"]==Features][\"value\"], label=\"bol\", hist=False)\n",
        "    sns.distplot(chi[chi[\"Indicator Code\"]==Features][\"value\"], label=\"chi\", hist=False)\n",
        "    sns.distplot(guy[guy[\"Indicator Code\"]==Features][\"value\"], label=\"guy\", hist=False)\n",
        "    sns.distplot(sur[sur[\"Indicator Code\"]==Features][\"value\"], label=\"sur\", hist=False)\n",
        "    sns.distplot(col[col[\"Indicator Code\"]==Features][\"value\"], label=\"col\", hist=False)\n",
        "    sns.distplot(ecu[ecu[\"Indicator Code\"]==Features][\"value\"], label=\"ecu\", hist=False)\n",
        "    sns.distplot(per[per[\"Indicator Code\"]==Features][\"value\"], label=\"per\", hist=False)\n",
        "    plt.title(\"Funciones de densidad \"+ str(Features) + \" por país\", fontsize=20)\n",
        "    plt.legend(loc='upper center', bbox_to_anchor=(1.4, 1), shadow=True, ncol=2, fontsize= 'xx-small')\n",
        "    plt.xticks(fontsize=16, rotation=90)\n",
        "    plt.yticks(fontsize=16)\n",
        "    plt.xlabel('Valor', fontsize=16)\n",
        "   \n",
        "  \n",
        "\n",
        "    "
      ],
      "execution_count": null,
      "outputs": []
    },
    {
      "cell_type": "markdown",
      "metadata": {
        "id": "49PcEE1cJ0fI",
        "colab_type": "text"
      },
      "source": [
        "Como puede evidenciarse en todos los histogramas, las distribuciones de cada feature en los diferentes países difiere bastante. Es decir, en la región cada uno de los features se distribuye diferente dependiendo del país que se analice. Es posible que con un análisis mas detallado de cada feature, se encuentren países donde la feature se distribuye similar."
      ]
    },
    {
      "cell_type": "markdown",
      "metadata": {
        "id": "91r9U7IJZcCQ",
        "colab_type": "text"
      },
      "source": [
        "#### BoxPlot por Feature"
      ]
    },
    {
      "cell_type": "markdown",
      "metadata": {
        "id": "vtNKP9ycKiTE",
        "colab_type": "text"
      },
      "source": [
        "Para profundizar el análisis llevado a cabo hasta ahora, se construyen Box Plot para cada feature por país. "
      ]
    },
    {
      "cell_type": "code",
      "metadata": {
        "id": "hfvpmrGGYsQU",
        "colab_type": "code",
        "colab": {}
      },
      "source": [
        "GenderIDbyCountry = GenderIDbyCountry.copy()\n",
        "GenderIDFeatures = GenderIDbyCountry[0][\"Indicator Code\"].unique()\n",
        "GenderDataMelt = GenderDataMelt.copy()\n",
        "\n",
        "for Features in GenderIDFeatures:\n",
        "    plt.figure(figsize=(13,6))\n",
        "    sns.boxplot(data=GenderDataMelt[GenderDataMelt[\"Indicator Code\"]==Features], x=\"Country Name\", y=\"value\")\n",
        "    plt.title(\"Boxplot del feature \"+ str(Features) + \" por país\", fontsize=24)\n",
        "    plt.xticks(fontsize=16, rotation=90)\n",
        "    plt.yticks(fontsize=16)\n",
        "    plt.xlabel('País', fontsize=16)\n",
        "    plt.ylabel('Valor', fontsize=16)"
      ],
      "execution_count": null,
      "outputs": []
    },
    {
      "cell_type": "markdown",
      "metadata": {
        "id": "Lim7zNqqyguM",
        "colab_type": "text"
      },
      "source": [
        "En lineas generales podria decirse que hay pocas features que tienen valores extremos (outliers).\n",
        "Tambien a simple vista pareciera que la mayoria de las cajas son pequeñas para muchos de los features, esto habla de que los datos estan concentrados en torno a su mediana. En el caso de los países con cajas más grandes, tienden a ser los mismos para los distintos features; como es el caso de Bolivia, Brasil, Chile, Perú. "
      ]
    },
    {
      "cell_type": "markdown",
      "metadata": {
        "id": "c82aHUDLZoLK",
        "colab_type": "text"
      },
      "source": [
        "#### Series Temporales de los Features por País"
      ]
    },
    {
      "cell_type": "code",
      "metadata": {
        "id": "F4XWDfy_OSVw",
        "colab_type": "code",
        "colab": {}
      },
      "source": [
        "countries = gender['Country Name'].drop_duplicates().to_list()\n",
        "GenderDataMelt = GenderDataMelt.copy()\n",
        "for country in countries:\n",
        "    plt.figure(figsize=(10,6))\n",
        "    sns.lineplot(data=GenderDataMelt[GenderDataMelt[\"Country Name\"]==country], x=\"Year\", y=\"value\", hue=\"Indicator Code\")\n",
        "    plt.title(\"Serie Temporal de los Indicadores en \" + str(country), fontsize=24)\n",
        "    plt.xticks(fontsize=16, rotation=90)\n",
        "    plt.yticks(fontsize=16)\n",
        "    plt.xlabel('País', fontsize=16)\n",
        "    plt.ylabel('Valor', fontsize=16)\n",
        "    plt.legend(loc='upper center', bbox_to_anchor=(2, 1), shadow=True, ncol=2, fontsize= 'xx-small')"
      ],
      "execution_count": null,
      "outputs": []
    },
    {
      "cell_type": "markdown",
      "metadata": {
        "id": "0KFLBuGNbpem",
        "colab_type": "text"
      },
      "source": [
        "En términos generales, puede observarse que en todos los países en ánálisis, la Tasa de mortalidad, adultos, mujeres (por cada 1.000 mujeres adultas) (SP.DYN.AMRT.FE) y la Tasa de mortalidad, adultos, varones (por cada 1.000 varones adultos) (SP.DYN.AMRT.MA ), muestran una tendencia a la baja.\n",
        "\n",
        "\n",
        "Llama la atención el comportamiento de la tasa de mortalidad masculina en Brasil, que muestra un aumento hasta el año 1987 y luego decrece.\n",
        "A su vez, la tasa de mortalidad tanto masculina como femenina en Guyana muestra una tendencia a la baja, sin embargo, en los últimos años aumentó. Venezuela muestra una situación similar a Guyana. \n"
      ]
    },
    {
      "cell_type": "markdown",
      "metadata": {
        "id": "Qq32Wlj_Ry8e",
        "colab_type": "text"
      },
      "source": [
        "##### Gráficos Particulares: Casos Especiales"
      ]
    },
    {
      "cell_type": "markdown",
      "metadata": {
        "id": "gTlX8bdeS0YU",
        "colab_type": "text"
      },
      "source": [
        "###### Brasil"
      ]
    },
    {
      "cell_type": "code",
      "metadata": {
        "id": "wxflXLHiP1OL",
        "colab_type": "code",
        "colab": {}
      },
      "source": [
        "_condicion = (GenderDataMelt[\"Country Name\"]==\"Brasil\") & (GenderDataMelt[\"Indicator Code\"]==\"SP.DYN.AMRT.MA\")\n",
        "plt.figure(figsize=(10,7))\n",
        "sns.lineplot(data=GenderDataMelt[_condicion] , x=\"Year\", y=\"value\")\n",
        "plt.title(\"Serie Temporal de la Tasa de Mortalidad Masculina en Brasil\", fontsize=18)\n",
        "sns.despine()\n",
        "plt.xticks(fontsize=14, rotation=90)\n",
        "plt.yticks(fontsize=14)\n",
        "plt.xlabel('Año', fontsize=14)\n",
        "plt.ylabel('Valor', fontsize=14)\n",
        "plt.xticks(rotation=90)\n"
      ],
      "execution_count": null,
      "outputs": []
    },
    {
      "cell_type": "code",
      "metadata": {
        "id": "qn6dSoX2T9Rt",
        "colab_type": "code",
        "colab": {}
      },
      "source": [
        "_condicion = (GenderDataMelt[\"Country Name\"]==\"Brasil\") & (GenderDataMelt[\"Indicator Code\"]==\"SP.DYN.AMRT.MA\")\n",
        "_df = GenderDataMelt[_condicion]\n",
        "_min = float(GenderDataMelt[_condicion][\"value\"].min())\n",
        "_year_min = _df[_df[\"value\"] == _min]\n",
        "_year_min = int(_year_min[\"Year\"])\n",
        "print( \"El valor mínimo que asume la variable es \" + str(_min) + \" en el año \" + str(_year_min) + \".\")\n",
        "_max = float(GenderDataMelt[_condicion][\"value\"].max())\n",
        "_year_max = _df[_df[\"value\"] == _max]\n",
        "_year_max = int(_year_max[\"Year\"])\n",
        "print( \"El valor máximo que asume la variable es \" + str(_max) + \" en el año \" + str(_year_max) + \".\")\n",
        "print( \"*Vale destacar que la tasa de mortalidad es calculada cada 1000 personas.\")"
      ],
      "execution_count": null,
      "outputs": []
    },
    {
      "cell_type": "markdown",
      "metadata": {
        "id": "0XL29TbhS4Mw",
        "colab_type": "text"
      },
      "source": [
        "###### Guyana"
      ]
    },
    {
      "cell_type": "code",
      "metadata": {
        "id": "ZKB_iVcESIcW",
        "colab_type": "code",
        "colab": {}
      },
      "source": [
        "_condicion = (GenderDataMelt[\"Country Name\"]==\"Guyana\") & ((GenderDataMelt[\"Indicator Code\"]==\"SP.DYN.AMRT.MA\") | (GenderDataMelt[\"Indicator Code\"]==\"SP.DYN.AMRT.FE\"))\n",
        "plt.figure(figsize=(10,7))\n",
        "sns.lineplot(data=GenderDataMelt[_condicion] , x=\"Year\", y=\"value\", hue = \"Indicator Code\")\n",
        "plt.title(\"Serie Temporal de la Tasa de Mortalidad (MA y FE) en Guyana\", fontsize=18)\n",
        "sns.despine()\n",
        "plt.xticks(fontsize=14, rotation=90)\n",
        "plt.yticks(fontsize=14)\n",
        "plt.xlabel('Año', fontsize=14)\n",
        "plt.ylabel('Valor', fontsize=14)\n",
        "plt.xticks(rotation=90)\n",
        "plt.legend(bbox_to_anchor=(1.05, 1), loc='upper left', borderaxespad=0.)\n"
      ],
      "execution_count": null,
      "outputs": []
    },
    {
      "cell_type": "code",
      "metadata": {
        "id": "AfpQON4xYDLp",
        "colab_type": "code",
        "colab": {}
      },
      "source": [
        "_condicion = ((GenderDataMelt[\"Country Name\"]==\"Guyana\") & ((GenderDataMelt[\"Indicator Code\"]==\"SP.DYN.AMRT.MA\") | (GenderDataMelt[\"Indicator Code\"]==\"SP.DYN.AMRT.FE\")))\n",
        "_df = GenderDataMelt[_condicion]\n",
        "_features = [\"SP.DYN.AMRT.MA\", \"SP.DYN.AMRT.FE\"]\n",
        "\n",
        "for Feature in _features:\n",
        "          _min = float(_df[_df[\"Indicator Code\"] == Feature][\"value\"].min())\n",
        "          _year_min = _df[(_df[\"Indicator Code\"] == Feature) & (_df[\"value\"] == _min)]\n",
        "          _year_min = int(_year_min[\"Year\"])\n",
        "          print( \"El valor mínimo que asume la variable \" + str(Feature) + \" es \" + str(_min) + \" en el año \" + str(_year_min) + \".\")\n",
        "          _max = float(_df[_df[\"Indicator Code\"] == Feature][\"value\"].max())\n",
        "          _year_max = _df[(_df[\"Indicator Code\"] == Feature) & (_df[\"value\"] == _max)]\n",
        "          _year_max = int(_year_max[\"Year\"])\n",
        "          print( \"El valor máximo que asume la variable \" + str(Feature) + \" es \" + str(_max) + \" en el año \" + str(_year_max) + \".\")\n"
      ],
      "execution_count": null,
      "outputs": []
    },
    {
      "cell_type": "markdown",
      "metadata": {
        "id": "LtVk9nd4TXmC",
        "colab_type": "text"
      },
      "source": [
        "###### Venezuela"
      ]
    },
    {
      "cell_type": "code",
      "metadata": {
        "id": "S7GRS237Tajd",
        "colab_type": "code",
        "colab": {}
      },
      "source": [
        "_condicion = (GenderDataMelt[\"Country Name\"]==\"Venezuela\") & ((GenderDataMelt[\"Indicator Code\"]==\"SP.DYN.AMRT.MA\") | (GenderDataMelt[\"Indicator Code\"]==\"SP.DYN.AMRT.FE\"))\n",
        "plt.figure(figsize=(10,7))\n",
        "sns.lineplot(data=GenderDataMelt[_condicion] , x=\"Year\", y=\"value\", hue = \"Indicator Code\")\n",
        "plt.title(\"Serie Temporal de la Tasa de Mortalidad (MA y FE) en Venezuela\", fontsize=18)\n",
        "sns.despine()\n",
        "plt.legend(bbox_to_anchor=(1.05, 1), loc='upper left', borderaxespad=0.)\n",
        "plt.xticks(fontsize=14, rotation=90)\n",
        "plt.yticks(fontsize=14)\n",
        "plt.xlabel('Año', fontsize=14)\n",
        "plt.ylabel('Valor', fontsize=14)\n",
        "plt.xticks(rotation=90)\n",
        "plt.legend(bbox_to_anchor=(1.05, 1), loc='upper left', borderaxespad=0.)"
      ],
      "execution_count": null,
      "outputs": []
    },
    {
      "cell_type": "code",
      "metadata": {
        "id": "2I8DkbSjbP6q",
        "colab_type": "code",
        "colab": {}
      },
      "source": [
        "_condicion = (GenderDataMelt[\"Country Name\"]==\"Venezuela\") & ((GenderDataMelt[\"Indicator Code\"]==\"SP.DYN.AMRT.MA\") | (GenderDataMelt[\"Indicator Code\"]==\"SP.DYN.AMRT.FE\"))\n",
        "_df = GenderDataMelt[_condicion]\n",
        "_features = [\"SP.DYN.AMRT.MA\", \"SP.DYN.AMRT.FE\"]\n",
        "\n",
        "for Feature in _features:\n",
        "          _min = float(_df[_df[\"Indicator Code\"] == Feature][\"value\"].min())\n",
        "          _year_min = _df[(_df[\"Indicator Code\"] == Feature) & (_df[\"value\"] == _min)]\n",
        "          _year_min = int(_year_min[\"Year\"])\n",
        "          print( \"El valor mínimo que asume la variable \" + str(Feature) + \" es \" + str(_min) + \" en el año \" + str(_year_min) + \".\")\n",
        "          _max = float(_df[_df[\"Indicator Code\"] == Feature][\"value\"].max())\n",
        "          _year_max = _df[(_df[\"Indicator Code\"] == Feature) & (_df[\"value\"] == _max)]\n",
        "          _year_max = int(_year_max[\"Year\"])\n",
        "          print( \"El valor máximo que asume la variable \" + str(Feature) + \" es \" + str(_max) + \" en el año \" + str(_year_max) + \".\")"
      ],
      "execution_count": null,
      "outputs": []
    },
    {
      "cell_type": "markdown",
      "metadata": {
        "id": "dQL9W6i2eGX9",
        "colab_type": "text"
      },
      "source": [
        "### Determinación de Año a Predecir"
      ]
    },
    {
      "cell_type": "markdown",
      "metadata": {
        "id": "sANB8WLe8Yye",
        "colab_type": "text"
      },
      "source": [
        "Una vez seleccionados los indicadores a predecir por país para la dimensión de género, se verifica que todos los indicadores seleccionados tengan información para el año 2019, para elegirlo como año prueba. Si no se cumple la condición, entonces, se replica el análisis para el año 2018, y se opta por considerarlo como año a predecir."
      ]
    },
    {
      "cell_type": "code",
      "metadata": {
        "id": "Vpt3rny58XOp",
        "colab_type": "code",
        "colab": {}
      },
      "source": [
        "featureWOData_2019  = GenderData[\"2019\"].isna().sum()\n",
        "Data_2019 = (featureWOData_2019/len(GenderData[\"2019\"]))*100\n",
        "\n",
        "print(\"De las 15 features seleccionadas para género, el \" + str(round(Data_2019, 2)) + \"% no posee información para el año 2019.\" )\n",
        "\n",
        "featureWOData_2018  = GenderData[\"2018\"].isna().sum()\n",
        "\n",
        "Data_2018 = (featureWOData_2018/len(GenderData[\"2018\"]))*100\n",
        "\n",
        "print(\"De las 15 features seleccionadas para género, el \" + str(Data_2018) + \"% no posee información para el año 2018.\" )\n",
        "\n"
      ],
      "execution_count": null,
      "outputs": []
    },
    {
      "cell_type": "markdown",
      "metadata": {
        "id": "bg_XliN_9PRp",
        "colab_type": "text"
      },
      "source": [
        "Se llega a la conclusión que no existe suficiente información para el año 2019, por eso se selecciona como año a predecir el 2018."
      ]
    },
    {
      "cell_type": "markdown",
      "metadata": {
        "id": "D-SCgEV9rjBX",
        "colab_type": "text"
      },
      "source": [
        "##SALUD\n"
      ]
    },
    {
      "cell_type": "markdown",
      "metadata": {
        "id": "uuCXtTxzrvwu",
        "colab_type": "text"
      },
      "source": [
        "1. ¿Cuántos **tipos de Features diferentes** existen por indicador considerado? ¿Todos los países mantienen esa misma cantidad para el mismo indicador?"
      ]
    },
    {
      "cell_type": "code",
      "metadata": {
        "id": "U6M5jY0er3fF",
        "colab_type": "code",
        "colab": {}
      },
      "source": [
        "print(\"El indicador de salud tiene \" + str(len(health[\"features\"].unique())) + \" features.\")\n",
        "print(\"El análisis se lleva a cabo consdierando \" + str(len(health[\"Country Name\"].unique())) + \" países.\")\n",
        "print(health[\"Country Name\"].unique())"
      ],
      "execution_count": null,
      "outputs": []
    },
    {
      "cell_type": "code",
      "metadata": {
        "id": "6QsYBaCYsHOa",
        "colab_type": "code",
        "colab": {}
      },
      "source": [
        "countries = health['Country Name'].unique()\n",
        "\n",
        "for countries in countries:\n",
        "    \n",
        "    print(\"La cantidad de features que posee \" + str(countries) + \": \" + str(health[health['Country Name']==countries]['features'].count()) )"
      ],
      "execution_count": null,
      "outputs": []
    },
    {
      "cell_type": "markdown",
      "metadata": {
        "id": "lO-S1oFvr2-j",
        "colab_type": "text"
      },
      "source": [
        "### Análisis por Feature para toda la Región"
      ]
    },
    {
      "cell_type": "markdown",
      "metadata": {
        "id": "rI-BnTa0sX4u",
        "colab_type": "text"
      },
      "source": [
        "2.  ¿Cuál es la **proporción de valores nulos** para cada Feature dentro de cada Indicador con respecto al intervalo temporal considerado? ¿Estos valores nulos se encuentran dispersos a lo largo de todo el intervalo temporal o existen agrupamientos (más chicos y/o más grandes) de los mismos? ¿Qué decisión se podría tomar con respecto a los mismos en un futuro?\n",
        "3. ¿Cómo es la distribución de valores nulos por año (por columnas del dataset)?. Teniendo en cuenta que el objetivo final de la mentoría es realizar una predicción de cada Feature para el año 2019, ¿se disponen de datos suficientes para comparar las predicciones que se obtendrán con el valor real en ese año?\n"
      ]
    },
    {
      "cell_type": "code",
      "metadata": {
        "id": "BKqiv0LUsTgg",
        "colab_type": "code",
        "colab": {}
      },
      "source": [
        "print(\"Los features de salud que existen son los siguientes: \\n\", str(health['features'].unique()))"
      ],
      "execution_count": null,
      "outputs": []
    },
    {
      "cell_type": "markdown",
      "metadata": {
        "id": "sxaVBIf1stHQ",
        "colab_type": "text"
      },
      "source": [
        "Para llevar a cabo el análisis de los datos nulos, se construye una matriz por feature y por año en la que se muestra el porcentaje de registros existentes para cada combinación considerando toda la región."
      ]
    },
    {
      "cell_type": "code",
      "metadata": {
        "id": "ZZaK5ibAsu0S",
        "colab_type": "code",
        "colab": {}
      },
      "source": [
        "HealthValuesByICode = health.groupby(\"Indicator Code\").count().drop([\"Country Code\", \"Country Name\", \"Indicator\", \"features\"], axis=1)\n",
        "HealthValuesByICode[\"Valor\"] = HealthValuesByICode.sum(axis=1)\n",
        "HealthValuesByICode = HealthValuesByICode.sort_values(by=['Valor'], ascending=False)\n",
        "HealthValuesByICode = ((HealthValuesByICode/12)*100).drop(columns = [\"Valor\"])\n",
        "HealthValuesByICode = HealthValuesByICode.rename(columns = lambda x : str(x)[:4])\n",
        "round(HealthValuesByICode,2)"
      ],
      "execution_count": null,
      "outputs": []
    },
    {
      "cell_type": "code",
      "metadata": {
        "id": "leFUSQW2tDkK",
        "colab_type": "code",
        "colab": {}
      },
      "source": [
        "plt.figure(figsize=(60, 30))\n",
        "sns.heatmap(HealthValuesByICode, cbar=True, linewidths=0.1,  vmin=0, vmax=100)\n",
        "sns.set(font_scale=4)"
      ],
      "execution_count": null,
      "outputs": []
    },
    {
      "cell_type": "markdown",
      "metadata": {
        "id": "rT0p0Qjdtasr",
        "colab_type": "text"
      },
      "source": [
        "Este Indicador contiene la mayoria de sus datos completos, con muy pocos año con datos null."
      ]
    },
    {
      "cell_type": "code",
      "metadata": {
        "id": "A5fh21cXuFiH",
        "colab_type": "code",
        "colab": {}
      },
      "source": [
        "HealthValuesByICode = HealthValuesByICode.reset_index()\n",
        "HealthValuesByICode[\"features\"] = HealthValuesByICode[\"Indicator Code\"]\n",
        "HealthValuesByICode[\"features\"] = HealthValuesByICode[\"features\"].map(health.set_index(\"Indicator Code\")[\"features\"].to_dict())\n",
        "FeaturesHealthSelection = HealthValuesByICode.iloc[0:90][[\"Indicator Code\", \"features\"]].set_index(\"Indicator Code\")\n",
        "FeaturesHealthSelection"
      ],
      "execution_count": null,
      "outputs": []
    },
    {
      "cell_type": "markdown",
      "metadata": {
        "id": "Xi2_wFPItQ0y",
        "colab_type": "text"
      },
      "source": [
        "### Análisis por País para cada **Feature**"
      ]
    },
    {
      "cell_type": "markdown",
      "metadata": {
        "id": "utgcrDkKuuho",
        "colab_type": "text"
      },
      "source": [
        "4. Volviendo a los resultados del punto 2, elegir como mínimo 15 Features por Indicador con al menos el 50% de valores no nulos (y en lo posible los mismos para todos los países) y mostrar gráficamente, con gráficos de distribución o de cajas por ejemplo, la distribución de los mismos. ¿Qué se puede observar de estas distribuciones? ¿Son normales? ¿Qué sucede con los outliers? ¿Observan alguna similitud entre los features elegidos?. Para estos mismos 15 Features realizar el gráfico de línea de su serie temporal y analizarlo."
      ]
    },
    {
      "cell_type": "code",
      "metadata": {
        "id": "Bc6B1FpbkM-2",
        "colab_type": "code",
        "colab": {}
      },
      "source": [
        "HealthIDCodeSelection = HealthValuesByICode.iloc[0:30].reset_index()\n",
        "HealthIDCodeSelection = HealthIDCodeSelection[\"Indicator Code\"].to_list()\n",
        "HealthIDCodeSelection"
      ],
      "execution_count": null,
      "outputs": []
    },
    {
      "cell_type": "code",
      "metadata": {
        "id": "NO0IW6EtiscG",
        "colab_type": "code",
        "colab": {}
      },
      "source": [
        "RelevantFeaturesHealth = health[health[\"Indicator Code\"].isin(HealthIDCodeSelection)]\n",
        "HealthDataByCountry = RelevantFeaturesHealth.groupby(\"Country Name\").count().drop([\"features\", \"Indicator\", \"Country Code\", \"Indicator Code\"], axis=1)\n",
        "HealthDataByCountry[\"Valor\"] = HealthDataByCountry.sum(axis=1)\n",
        "HealthDataByCountry = HealthDataByCountry.sort_values(by=['Valor'], ascending=False)\n",
        "HealthDataByCountry = ((HealthDataByCountry/len(RelevantFeaturesHealth[\"Indicator Code\"].unique()))*100).drop(columns = [\"Valor\"])\n",
        "HealthDataByCountry = HealthDataByCountry.rename(columns = lambda x : str(x)[:4])\n",
        "round(HealthDataByCountry,2)"
      ],
      "execution_count": null,
      "outputs": []
    },
    {
      "cell_type": "code",
      "metadata": {
        "id": "yuEXu8pkvjtQ",
        "colab_type": "code",
        "colab": {}
      },
      "source": [
        "plt.figure(figsize=(40, 20))\n",
        "sns.heatmap(HealthDataByCountry, cbar=True, linewidths=.3, vmin=0, vmax=100)\n",
        "sns.set(font_scale=4)"
      ],
      "execution_count": null,
      "outputs": []
    },
    {
      "cell_type": "markdown",
      "metadata": {
        "id": "OLLjp2lXwvAK",
        "colab_type": "text"
      },
      "source": [
        "Podemos observar que todos los paises tienen buena informacion, salvo para el año 2019."
      ]
    },
    {
      "cell_type": "markdown",
      "metadata": {
        "id": "FrJktPAMw_YU",
        "colab_type": "text"
      },
      "source": [
        "Se realiza un heatmap considerando como centro el 50% de esta forma se puede visualizar cuáles son las combinaciones que tienen mas del 50% de registros con datos."
      ]
    },
    {
      "cell_type": "code",
      "metadata": {
        "id": "l3T2ctlYxAvR",
        "colab_type": "code",
        "colab": {}
      },
      "source": [
        "plt.figure(figsize=(40, 20))\n",
        "sns.heatmap(HealthDataByCountry, cbar=True, linewidths=.3, center=50, cmap=\"PRGn\")\n",
        "sns.set(font_scale=4)"
      ],
      "execution_count": null,
      "outputs": []
    },
    {
      "cell_type": "code",
      "metadata": {
        "id": "8bnG5jl0xec8",
        "colab_type": "code",
        "colab": {}
      },
      "source": [
        "_porc_paises_mas_50_health = round((HealthDataByCountry[HealthDataByCountry>50].count()/len(health[\"Country Name\"].unique()))*100, 0).astype(int)\n",
        "\n",
        "print(\"El % de países con más del 50% de los features con datos para cada año es: \\n\" + str(_porc_paises_mas_50_health))"
      ],
      "execution_count": null,
      "outputs": []
    },
    {
      "cell_type": "markdown",
      "metadata": {
        "id": "IKRQ5CQSyeN6",
        "colab_type": "text"
      },
      "source": [
        "Se modifica la estructura del dataset para poder analizar el porcentaje de registros con datos por país, por feature y por año, para decidir qué features considerar para cada país."
      ]
    },
    {
      "cell_type": "code",
      "metadata": {
        "id": "-BfPuPVnyd56",
        "colab_type": "code",
        "colab": {}
      },
      "source": [
        "HealthRelevantFeaturesByID = RelevantFeaturesHealth.drop([\"Country Code\", \"Indicator\", \"features\"], axis=1)\n",
        "HealthRelevantFeaturesByID = HealthRelevantFeaturesByID.groupby([\"Country Name\", \"Indicator Code\"]).count()\n",
        "HealthRelevantFeaturesByID[\"Porcentaje de Registros\"] = (HealthRelevantFeaturesByID.sum(axis=1)/50)*100\n",
        "HealthRelevantFeaturesByID = HealthRelevantFeaturesByID[\"Porcentaje de Registros\"].reset_index().sort_values(by='Indicator Code', ascending=False)\n",
        "\n",
        "countries = health['Country Name'].drop_duplicates().to_list()\n",
        "for countries in countries:\n",
        "    plt.figure(figsize=(20, 10))\n",
        "    sns.barplot(x=\"Indicator Code\", y=\"Porcentaje de Registros\", data=HealthRelevantFeaturesByID[HealthRelevantFeaturesByID[\"Country Name\"]== countries], color = \"r\")\n",
        "    plt.xticks(fontsize=14, rotation=90)\n",
        "    plt.yticks(fontsize=14)\n",
        "    plt.xlabel('Indicator Code', fontsize=14)\n",
        "    plt.ylabel('Porcentaje con Datos', fontsize=14)\n",
        "    plt.title(\"Porcentaje con Datos por Indicador de \" + str(countries) + \"\\n\", fontsize=16)\n",
        "    plt.axhline(y=50,linewidth=1, color='black')"
      ],
      "execution_count": null,
      "outputs": []
    },
    {
      "cell_type": "code",
      "metadata": {
        "id": "SRKqki2_zbte",
        "colab_type": "code",
        "colab": {}
      },
      "source": [
        "#Se seleccionan del dataset solo aquellas columnas relevantes para el gráfico\n",
        "HealthRelevantFeaturesByID = RelevantFeaturesHealth.drop([\"Country Code\", \"Indicator\", \"features\"], axis=1)\n",
        "#Contamos todas las combinaciones existentes por país e indicator code para cada año\n",
        "HealthRelevantFeaturesByID = HealthRelevantFeaturesByID.groupby([\"Country Name\", \"Indicator Code\"]).count()\n",
        "#Sumamos las combinaciones de país e indicator code para todos los años, \n",
        "#Para luego, dado que la cantidad de años de análisis es 50, \n",
        "#obtener el porcentaje de registros por país e indicator code para todo el período en análisis\n",
        "HealthRelevantFeaturesByID[\"Porcentaje de Registros\"] = (HealthRelevantFeaturesByID.sum(axis=1)/50)*100\n",
        "#Para Facilitar la lectura del cuadro, se crea una columna que identifica si el % de registros es mayor o menor a 50%\n",
        "HealthRelevantFeaturesByID[\"Mayor a 50%\"] = HealthRelevantFeaturesByID[\"Porcentaje de Registros\"]>50\n",
        "#Ordenamos por Indicator Code, para seleccionar las mismas variables para todos los países, y, luego, en caso que algún\n",
        "# país no tenga más del 50% para algún feature, repetimos el proceso ordenando en base al % de registros.\n",
        "HealthRelevantFeaturesByID = HealthRelevantFeaturesByID[[\"Porcentaje de Registros\" , \"Mayor a 50%\"]].reset_index().sort_values(by='Indicator Code', ascending=False)\n",
        "countries = health['Country Name'].drop_duplicates()\n",
        "\n",
        "HealthIDbyCountry = []\n",
        "for countries in countries:\n",
        "       HealthIDbyCountry.append( HealthRelevantFeaturesByID.loc[HealthRelevantFeaturesByID[\"Country Name\"]==countries].iloc[0:15] )\n",
        "HealthIDbyCountry"
      ],
      "execution_count": null,
      "outputs": []
    },
    {
      "cell_type": "markdown",
      "metadata": {
        "id": "RQ1YUyw52qF6",
        "colab_type": "text"
      },
      "source": [
        "De los 15 features seleccionados para Salud, todos los países cumplen con la condición de tener mas del 50% de datos en el período."
      ]
    },
    {
      "cell_type": "code",
      "metadata": {
        "id": "ACz9trpc0ObH",
        "colab_type": "code",
        "colab": {}
      },
      "source": [
        "#Se definen los features seleccionados\n",
        "\n",
        "HealthIDFeatures = HealthIDbyCountry[0][\"Indicator Code\"].unique()\n",
        "HealthIDFeatures"
      ],
      "execution_count": null,
      "outputs": []
    },
    {
      "cell_type": "code",
      "metadata": {
        "id": "-PXEkbhI0Y-Y",
        "colab_type": "code",
        "colab": {}
      },
      "source": [
        "print(\"Asignación de ID Code elegidos con su respectivo feature.\" )\n",
        "health[health[\"Indicator Code\"].isin(HealthIDFeatures)][[\"Indicator Code\", \"features\"]].drop_duplicates().reset_index().drop(columns=[\"index\"])"
      ],
      "execution_count": null,
      "outputs": []
    },
    {
      "cell_type": "markdown",
      "metadata": {
        "id": "L67BU_0J0-TP",
        "colab_type": "text"
      },
      "source": [
        "#### Funciones de Densidad por Feature para cada país"
      ]
    },
    {
      "cell_type": "markdown",
      "metadata": {
        "id": "r0xUpuHU1IOy",
        "colab_type": "text"
      },
      "source": [
        "Para realizar los siguientes análisis, se construye un dataset que tenga solo las columnas relevantes de análisis y que solo considere los ID Features seleccionados en el paso anterior."
      ]
    },
    {
      "cell_type": "code",
      "metadata": {
        "id": "fSNdi-3e1IyM",
        "colab_type": "code",
        "colab": {}
      },
      "source": [
        "columns=health.columns\n",
        "HealthData=health.drop([\"Indicator\", \"Country Code\"], axis=1).rename(columns = lambda x : str(x)[:4] if x in columns[5:] else x)\n",
        "HealthData=HealthData[HealthData[\"Indicator Code\"].isin(HealthIDFeatures)]\n",
        "HealthData"
      ],
      "execution_count": null,
      "outputs": []
    },
    {
      "cell_type": "code",
      "metadata": {
        "id": "e793BZP51gFH",
        "colab_type": "code",
        "colab": {}
      },
      "source": [
        "HealthDataMelt = pd.melt(HealthData, id_vars = [\"features\" ,\"Indicator Code\" , \"Country Name\"])\n",
        "HealthDataMelt[\"variable\"] = pd.to_numeric(HealthDataMelt[\"variable\"] )\n",
        "HealthDataMelt = HealthDataMelt.rename(columns = {\"variable\": \"Year\"})"
      ],
      "execution_count": null,
      "outputs": []
    },
    {
      "cell_type": "code",
      "metadata": {
        "id": "jDhKYuyt1sJB",
        "colab_type": "code",
        "colab": {}
      },
      "source": [
        "arg_hea=HealthDataMelt[HealthDataMelt[\"Country Name\"]==\"Argentina\"]\n",
        "bra_hea=HealthDataMelt[HealthDataMelt[\"Country Name\"]==\"Brasil\"]\n",
        "ur_hea=HealthDataMelt[HealthDataMelt[\"Country Name\"]==\"Uruguay\"]\n",
        "par_hea=HealthDataMelt[HealthDataMelt[\"Country Name\"]==\"Paraguay\"]\n",
        "ven_hea=HealthDataMelt[HealthDataMelt[\"Country Name\"]==\"Venezuela\"]\n",
        "bol_hea=HealthDataMelt[HealthDataMelt[\"Country Name\"]==\"Bolivia\"]\n",
        "chi_hea=HealthDataMelt[HealthDataMelt[\"Country Name\"]==\"Chile\"]\n",
        "guy_hea=HealthDataMelt[HealthDataMelt[\"Country Name\"]==\"Guyana\"]\n",
        "sur_hea=HealthDataMelt[HealthDataMelt[\"Country Name\"]==\"Suriname\"]\n",
        "col_hea=HealthDataMelt[HealthDataMelt[\"Country Name\"]==\"Colombia\"]\n",
        "ecu_hea=HealthDataMelt[HealthDataMelt[\"Country Name\"]==\"Ecuador\"]\n",
        "per_hea=HealthDataMelt[HealthDataMelt[\"Country Name\"]==\"Perú\"]"
      ],
      "execution_count": null,
      "outputs": []
    },
    {
      "cell_type": "code",
      "metadata": {
        "id": "x03Uzrkk2Oe5",
        "colab_type": "code",
        "colab": {}
      },
      "source": [
        "HealthIDbyCountry = HealthIDbyCountry.copy()\n",
        "HealthIDFeatures = HealthIDbyCountry[0][\"Indicator Code\"].unique()\n",
        "\n",
        "for HealthIDFeatures in HealthIDFeatures:\n",
        "    plt.figure(figsize=(13,6))\n",
        "    sns.distplot(arg_hea[arg_hea[\"Indicator Code\"]==HealthIDFeatures][\"value\"], label=\"arg\", hist=False)\n",
        "    sns.distplot(bra_hea[bra_hea[\"Indicator Code\"]==HealthIDFeatures][\"value\"], label=\"bra\", hist=False)\n",
        "    sns.distplot(ur_hea[ur_hea[\"Indicator Code\"]==HealthIDFeatures][\"value\"], label=\"ur\", hist=False)\n",
        "    sns.distplot(par_hea[par_hea[\"Indicator Code\"]==HealthIDFeatures][\"value\"], label=\"par\", hist=False)\n",
        "    sns.distplot(ven_hea[ven_hea[\"Indicator Code\"]==HealthIDFeatures][\"value\"], label=\"ven\", hist=False)\n",
        "    sns.distplot(bol_hea[bol_hea[\"Indicator Code\"]==HealthIDFeatures][\"value\"], label=\"bol\", hist=False)\n",
        "    sns.distplot(chi_hea[chi_hea[\"Indicator Code\"]==HealthIDFeatures][\"value\"], label=\"chi\", hist=False)\n",
        "    sns.distplot(guy_hea[guy_hea[\"Indicator Code\"]==HealthIDFeatures][\"value\"], label=\"guy\", hist=False)\n",
        "    sns.distplot(sur_hea[sur_hea[\"Indicator Code\"]==HealthIDFeatures][\"value\"], label=\"sur\", hist=False)\n",
        "    sns.distplot(col_hea[col_hea[\"Indicator Code\"]==HealthIDFeatures][\"value\"], label=\"col\", hist=False)\n",
        "    sns.distplot(ecu_hea[ecu_hea[\"Indicator Code\"]==HealthIDFeatures][\"value\"], label=\"ecu\", hist=False)\n",
        "    sns.distplot(per_hea[per_hea[\"Indicator Code\"]==HealthIDFeatures][\"value\"], label=\"per\", hist=False)\n",
        "    plt.title(\"Funciones de densidad \"+ str(Features) + \" por país\", fontsize=20)\n",
        "    plt.legend(loc='upper center', bbox_to_anchor=(1.4, 1), shadow=True, ncol=2, fontsize= 'xx-small')\n",
        "    plt.xticks(fontsize=16, rotation=90)\n",
        "    plt.yticks(fontsize=16)\n",
        "    plt.xlabel('Valor', fontsize=16)\n",
        "\n",
        "    "
      ],
      "execution_count": null,
      "outputs": []
    },
    {
      "cell_type": "markdown",
      "metadata": {
        "id": "-vpFuGGD3Lp3",
        "colab_type": "text"
      },
      "source": [
        "De los graficos anteriores se desprende que existe una gran heterogeneidad entre países. Para muchos de los features se observa como Bolivia y Argentina presentan una elevada curtosis en relación al resto de los países. "
      ]
    },
    {
      "cell_type": "markdown",
      "metadata": {
        "id": "SltPMVCo7g83",
        "colab_type": "text"
      },
      "source": [
        "#### BoxPlot por Feature"
      ]
    },
    {
      "cell_type": "markdown",
      "metadata": {
        "id": "mrTA86JT7s4K",
        "colab_type": "text"
      },
      "source": [
        "Para profundizar el análisis llevado a cabo hasta ahora, se construyen Box Plot para cada feature por país. "
      ]
    },
    {
      "cell_type": "code",
      "metadata": {
        "id": "a5_NEiQd4qme",
        "colab_type": "code",
        "colab": {}
      },
      "source": [
        "HealthIDbyCountry = HealthIDbyCountry.copy()\n",
        "HealthIDFeatures = HealthIDbyCountry[0][\"Indicator Code\"].unique()\n",
        "HealthDataMelt = HealthDataMelt.copy()\n",
        "\n",
        "for Features in HealthIDFeatures:\n",
        "    plt.figure(figsize=(13,6))\n",
        "    sns.boxplot(data=HealthDataMelt[HealthDataMelt[\"Indicator Code\"]==Features], x=\"Country Name\", y=\"value\")\n",
        "    plt.legend(loc='upper center', bbox_to_anchor=(1.4, 1), shadow=True)\n",
        "    plt.xticks(fontsize=16, rotation=90)\n",
        "    plt.yticks(fontsize=16)\n",
        "    plt.xlabel('País', fontsize=16)\n",
        "    plt.ylabel('Valor', fontsize=16)\n"
      ],
      "execution_count": null,
      "outputs": []
    },
    {
      "cell_type": "markdown",
      "metadata": {
        "id": "oZiCqyrH5A0S",
        "colab_type": "text"
      },
      "source": [
        "Los boxplot permiten observar la existencia de valores atipicos para distintos países en cada uno de los features. Los tamaños de las cajas son variados por feauture y por país, en términos generales los países con menor rango de datos son Argentina y Bolivia, que presentan cajas pequeñas. El resto de los países presentan cajas disimiles para los diferentes features."
      ]
    },
    {
      "cell_type": "markdown",
      "metadata": {
        "id": "Q-SFiGrl4-AT",
        "colab_type": "text"
      },
      "source": [
        "#### Series Temporales de los Features por País"
      ]
    },
    {
      "cell_type": "code",
      "metadata": {
        "id": "N5EyPyuh5COZ",
        "colab_type": "code",
        "colab": {}
      },
      "source": [
        "countries = health['Country Name'].drop_duplicates().to_list()\n",
        "HealthDataMelt = GenderDataMelt.copy()\n",
        "for country in countries:\n",
        "    plt.figure(figsize=(10,7))\n",
        "    sns.lineplot(data=HealthDataMelt[HealthDataMelt[\"Country Name\"]==country], x=\"Year\", y=\"value\", hue=\"Indicator Code\")\n",
        "    plt.title(\"Serie Temporal de los Indicadores en \" + str(country), fontsize=18)\n",
        "    sns.despine()\n",
        "    plt.xticks(fontsize=14, rotation=90)\n",
        "    plt.yticks(fontsize=14)\n",
        "    plt.xlabel('País', fontsize=14)\n",
        "    plt.ylabel('Valor', fontsize=14)\n",
        "    plt.xticks(rotation=90)\n",
        "    plt.legend(loc='upper center', bbox_to_anchor=(2, 1), shadow=True, ncol=2, fontsize= 'xx-small')"
      ],
      "execution_count": null,
      "outputs": []
    },
    {
      "cell_type": "markdown",
      "metadata": {
        "id": "lV4pimSx5l1J",
        "colab_type": "text"
      },
      "source": [
        "### Determinación del Año a Predecir"
      ]
    },
    {
      "cell_type": "markdown",
      "metadata": {
        "id": "r38DOBUW5u_Y",
        "colab_type": "text"
      },
      "source": [
        "Una vez seleccionados los indicadores a predecir por país para la dimensión de género, se verifica que todos los indicadores seleccionados tengan información para el año 2019, para elegirlo como año prueba. Si no se cumple la condición, entonces, se replica el análisis para el año 2018, y se opta por considerarlo como año a predecir."
      ]
    },
    {
      "cell_type": "code",
      "metadata": {
        "id": "PiMLpR_05vxn",
        "colab_type": "code",
        "colab": {}
      },
      "source": [
        "featureWOData_2019  = HealthData[\"2019\"].isna().sum()\n",
        "Data_2019 = (featureWOData_2019/len(HealthData[\"2019\"]))*100\n",
        "\n",
        "print(\"De las 15 features seleccionadas para salud, el \" + str(round(Data_2019, 2)) + \"% no posee información para el año 2019.\" )\n",
        "\n",
        "featureWOData_2018  = HealthData[\"2018\"].isna().sum()\n",
        "\n",
        "Data_2018 = (featureWOData_2018/len(HealthData[\"2018\"]))*100\n",
        "\n",
        "print(\"De las 15 features seleccionadas para salud, el \" + str(Data_2018) + \"% no posee información para el año 2018.\" )\n"
      ],
      "execution_count": null,
      "outputs": []
    },
    {
      "cell_type": "markdown",
      "metadata": {
        "id": "PsB_vkKp57mN",
        "colab_type": "text"
      },
      "source": [
        "Consecuentemente, se proyectará el año 2019."
      ]
    },
    {
      "cell_type": "markdown",
      "metadata": {
        "id": "LSNYgreEV9B5",
        "colab_type": "text"
      },
      "source": [
        "## EDUCACIÓN"
      ]
    },
    {
      "cell_type": "markdown",
      "metadata": {
        "id": "4Yrj_P1zWgPa",
        "colab_type": "text"
      },
      "source": [
        "1. ¿Cuántos **tipos de Features diferentes** existen por indicador considerado? ¿Todos los países mantienen esa misma cantidad para el mismo indicador?\n",
        "\n",
        "Existen 106 features diferentes por país para el indicador educación. Todos los países poseen la misma cantidad."
      ]
    },
    {
      "cell_type": "code",
      "metadata": {
        "id": "kuOpnuhcPLso",
        "colab_type": "code",
        "colab": {}
      },
      "source": [
        "print(\"El indicador de educación tiene \" + str(len(education[\"features\"].unique())) + \" features.\")\n",
        "print(\"El análisis se lleva a cabo consdierando \" + str(len(education[\"Country Name\"].unique())) + \" países.\")\n",
        "print(education[\"Country Name\"].unique())"
      ],
      "execution_count": null,
      "outputs": []
    },
    {
      "cell_type": "code",
      "metadata": {
        "id": "E0NbIZdKWhUh",
        "colab_type": "code",
        "colab": {}
      },
      "source": [
        "countries = education['Country Name'].unique()\n",
        "\n",
        "for countries in countries:\n",
        "    \n",
        "    print(\"La cantidad de features que posee \" + str(countries) + \": \" + str(education[education['Country Name']==countries]['features'].count()) )"
      ],
      "execution_count": null,
      "outputs": []
    },
    {
      "cell_type": "markdown",
      "metadata": {
        "id": "monTTm5OVPRm",
        "colab_type": "text"
      },
      "source": [
        "### Análisis por Feature para toda la Región"
      ]
    },
    {
      "cell_type": "markdown",
      "metadata": {
        "id": "YqIKuTHBWlYg",
        "colab_type": "text"
      },
      "source": [
        "2. ¿Cuál es la proporción de valores nulos para cada Feature dentro de cada Indicador con respecto al intervalo temporal considerado? ¿Estos valores nulos se encuentran dispersos a lo largo de todo el intervalo temporal o existen agrupamientos (más chicos y/o más grandes) de los mismos? ¿Qué decisión se podría tomar con respecto a los mismos en un futuro?\n",
        "3. ¿Cómo es la distribución de valores nulos por año (por columnas del dataset)?. Teniendo en cuenta que el objetivo final de la mentoría es realizar una predicción de cada Feature para el año 2019, ¿se disponen de datos suficientes para comparar las predicciones que se obtendrán con el valor real en ese año?"
      ]
    },
    {
      "cell_type": "code",
      "metadata": {
        "id": "1eH3xPg3PVaT",
        "colab_type": "code",
        "colab": {}
      },
      "source": [
        "print(\"Los features de educación que existen son los siguientes: \\n\", str(education['features'].unique()))"
      ],
      "execution_count": null,
      "outputs": []
    },
    {
      "cell_type": "markdown",
      "metadata": {
        "id": "Cwc7woYUVjPK",
        "colab_type": "text"
      },
      "source": [
        "Para llevar a cabo el análisis de los datos nulos, se construye una matriz por feature y por año en la que se muestra el porcentaje de registros existentes para cada combinación considerando toda la región (promedio de todos los países)."
      ]
    },
    {
      "cell_type": "code",
      "metadata": {
        "id": "f_e3Vcs0W68X",
        "colab_type": "code",
        "colab": {}
      },
      "source": [
        "EducationValuesByICode = education.groupby(\"Indicator Code\").count().drop([\"Country Code\", \"Country Name\", \"Indicator\", \"features\"], axis=1)\n",
        "EducationValuesByICode[\"Valor\"] = EducationValuesByICode.sum(axis=1)\n",
        "EducationValuesByICode = EducationValuesByICode.sort_values(by=['Valor'], ascending=False)\n",
        "EducationValuesByICode = ((EducationValuesByICode/12)*100).drop(columns = [\"Valor\"])\n",
        "EducationValuesByICode = EducationValuesByICode.rename(columns = lambda x : str(x)[:4])\n",
        "round(EducationValuesByICode,2)\n"
      ],
      "execution_count": null,
      "outputs": []
    },
    {
      "cell_type": "markdown",
      "metadata": {
        "id": "Q8OHYKOUVtDZ",
        "colab_type": "text"
      },
      "source": [
        "Se construye un mapa de calor para visualizar aquellas features con mayor porcentaje de registros, mientras mas oscuro el color menos proporción de registros hay para dicha combinación."
      ]
    },
    {
      "cell_type": "code",
      "metadata": {
        "id": "uZ429sFNVvTY",
        "colab_type": "code",
        "colab": {}
      },
      "source": [
        "plt.figure(figsize=(60, 30))\n",
        "sns.heatmap(EducationValuesByICode, cbar=True, linewidths=0.1,  vmin=0, vmax=100)\n",
        "sns.set(font_scale=4)"
      ],
      "execution_count": null,
      "outputs": []
    },
    {
      "cell_type": "markdown",
      "metadata": {
        "id": "uBfRadiUV1-c",
        "colab_type": "text"
      },
      "source": [
        "Tomando el promedio de los países se observa como, para la mayoria de los features, hay valores nulos hasta 1997 y en 2018/2019. Donde exite menor proporción de valores nulos para la mayoría de los features es en el intervalo de tiempo desde 1998 a 2017. Por su parte, hay unos pocos features (los primeros del mapa de calor) que no siguen estas tendencias y poseen gran porporción de valores no nulos para la mayoria de los años."
      ]
    },
    {
      "cell_type": "code",
      "metadata": {
        "id": "N4-xXicOV-YZ",
        "colab_type": "code",
        "colab": {}
      },
      "source": [
        "EducationByYear = pd.melt(education.drop([\"Country Code\", \"Country Name\", \"Indicator\", \"features\"], axis=1), id_vars = [\"Indicator Code\"])\n",
        "EducationByYear[\"variable\"] = pd.to_numeric(EducationByYear[\"variable\"] )\n",
        "EducationByYear = EducationByYear.rename(columns = {\"variable\": \"Year\"})\n",
        "TotalData_1997 = (EducationByYear[\"Year\"]<=1997).sum()\n",
        "WithData_1997 = ((EducationByYear[\"Year\"]<=1997) & (EducationByYear[\"value\"]>0)).sum()\n",
        "\n",
        "print( \"El % de registros sin datos para el período de 1970 a 1997 es de: \\n\" +  str(round((1 - (WithData_1997/TotalData_1997))*100,2)) + \"%\") \n",
        "\n",
        "TotalData_2019 = (EducationByYear[\"Year\"]>1997).sum()\n",
        "WithData_2019 = ((EducationByYear[\"Year\"]>1997) & (EducationByYear[\"value\"]>0)).sum()\n",
        "Check = len (EducationByYear) == (TotalData_2019 + TotalData_1997 )\n",
        "\n",
        "\n",
        "print( \"El % de registros sin datos para el período de 1991 a 2019 es de: \\n\" +  str(round((1 - (WithData_2019/TotalData_2019))*100,2)) + \"%\") "
      ],
      "execution_count": null,
      "outputs": []
    },
    {
      "cell_type": "markdown",
      "metadata": {
        "id": "0W22WG0qZPGm",
        "colab_type": "text"
      },
      "source": [
        "### Análisis por País para cada Feature"
      ]
    },
    {
      "cell_type": "markdown",
      "metadata": {
        "id": "m-nLyFH7Pr4i",
        "colab_type": "text"
      },
      "source": [
        "\n",
        "Se seleccionan los primeros 15 features que poseen más datos:"
      ]
    },
    {
      "cell_type": "code",
      "metadata": {
        "id": "NN1LxBvHPqDZ",
        "colab_type": "code",
        "colab": {}
      },
      "source": [
        "EducationValuesByICode=EducationValuesByICode.reset_index()\n",
        "EducationValuesByICode[\"features\"] = EducationValuesByICode[\"Indicator Code\"]\n",
        "EducationValuesByICode[\"features\"] = EducationValuesByICode[\"features\"].map(education.set_index(\"Indicator Code\")[\"features\"].to_dict())\n",
        "FeaturesEducationSelection = EducationValuesByICode.iloc[0:15][[\"Indicator Code\", \"features\"]].set_index(\"Indicator Code\")\n",
        "FeaturesEducationSelection"
      ],
      "execution_count": null,
      "outputs": []
    },
    {
      "cell_type": "markdown",
      "metadata": {
        "id": "VW07CYxPPwnl",
        "colab_type": "text"
      },
      "source": [
        "Se construye una matriz para determinar cuál es el porcentaje de registros con datos considerando las 15 features seleccionadas por país y año. "
      ]
    },
    {
      "cell_type": "code",
      "metadata": {
        "id": "zG1hFGWLPxwu",
        "colab_type": "code",
        "colab": {}
      },
      "source": [
        "EducationIDCode = FeaturesEducationSelection.reset_index()['Indicator Code'].to_list()\n",
        "\n",
        "RelevantFeaturesEducation = education[education[\"Indicator Code\"].isin(EducationIDCode)]\n",
        "EducationDataByCountry = RelevantFeaturesEducation.groupby(\"Country Name\").count().drop([\"features\", \"Indicator\", \"Country Code\", \"Indicator Code\"], axis=1)\n",
        "EducationDataByCountry[\"Valor\"] = EducationDataByCountry.sum(axis=1)\n",
        "EducationDataByCountry = EducationDataByCountry.sort_values(by=['Valor'], ascending=False)\n",
        "EducationDataByCountry = ((EducationDataByCountry/len(RelevantFeaturesEducation[\"Indicator Code\"].unique()))*100).drop(columns = [\"Valor\"])\n",
        "EducationDataByCountry = EducationDataByCountry.rename(columns = lambda x : str(x)[:4])\n",
        "round(EducationDataByCountry,2)"
      ],
      "execution_count": null,
      "outputs": []
    },
    {
      "cell_type": "code",
      "metadata": {
        "id": "jP6rt6XcP4XZ",
        "colab_type": "code",
        "colab": {}
      },
      "source": [
        "plt.figure(figsize=(40, 20))\n",
        "sns.heatmap(EducationDataByCountry, cbar=True, linewidths=.3, vmin=0, vmax=100)\n",
        "sns.set(font_scale=4)"
      ],
      "execution_count": null,
      "outputs": []
    },
    {
      "cell_type": "markdown",
      "metadata": {
        "id": "n3xquZTdP8Yh",
        "colab_type": "text"
      },
      "source": [
        "Se realiza un heatmap considerando como centro el 50% de esta forma se puede visualizar cuáles son las combinaciones que tienen mas del 50% de registros con datos."
      ]
    },
    {
      "cell_type": "code",
      "metadata": {
        "id": "uzvIjxKGP9ju",
        "colab_type": "code",
        "colab": {}
      },
      "source": [
        "plt.figure(figsize=(40, 20))\n",
        "sns.heatmap(EducationDataByCountry, cbar=True, linewidths=.3, center=50, cmap=\"PRGn\")\n",
        "sns.set(font_scale=4)"
      ],
      "execution_count": null,
      "outputs": []
    },
    {
      "cell_type": "code",
      "metadata": {
        "id": "Woj950BTQB5r",
        "colab_type": "code",
        "colab": {}
      },
      "source": [
        "_porc_paises_mas_50_edu= round((EducationDataByCountry[EducationDataByCountry>50].count()/len(education[\"Country Name\"].unique()))*100, 0).astype(int)\n",
        "\n",
        "print(\"El % de países que tienen más del 50% de los features con datos para cada año es: \\n\" + str(_porc_paises_mas_50_edu))"
      ],
      "execution_count": null,
      "outputs": []
    },
    {
      "cell_type": "code",
      "metadata": {
        "id": "gGFJhKEPQE0u",
        "colab_type": "code",
        "colab": {}
      },
      "source": [
        "EducationByYear = pd.melt(RelevantFeaturesEducation, id_vars = [\"features\", \"Indicator\" , \"Country Name\",\"Country Code\", \"Indicator Code\"])\n",
        "EducationByYear[\"variable\"] = pd.to_numeric(EducationByYear[\"variable\"] )\n",
        "EducationByYear = EducationByYear.rename(columns = {\"variable\": \"Year\"})\n",
        "EducationByYear[\"Year\"] = EducationByYear[\"Year\"].apply(lambda x: str(x)[:4])\n",
        "\n",
        "EducationByYear"
      ],
      "execution_count": null,
      "outputs": []
    },
    {
      "cell_type": "markdown",
      "metadata": {
        "id": "G4TrvU4vQJYa",
        "colab_type": "text"
      },
      "source": [
        "A partir de 1997, la mayoría de los paises en análisis tienen información para más del 50% de los features relevantes. Esto se evidencia en el heatmap, donde aquellas combinaciones con más del 50% de registros se muestran en diferentes tonalidades de verdes. Aquellas combinaciones que no alcanzan el 50% de los registros tienen diferentes tonalidades de violeta. El gráfico anticipa que para el caso de Brasil deberan contemplarse otros features puesto que pareciera presentar gran cantidad de nulos.\n",
        "\n",
        "Se modifica la estructura del dataset para poder analizar el porcentaje de registros con datos por país, por feature y por año, para decidir qué features considerar para cada país."
      ]
    },
    {
      "cell_type": "code",
      "metadata": {
        "id": "JBVOWGCOQLyd",
        "colab_type": "code",
        "colab": {}
      },
      "source": [
        "EducationRelevantFeaturesByID = RelevantFeaturesEducation.drop([\"Country Code\", \"Indicator\", \"features\"], axis=1)\n",
        "EducationRelevantFeaturesByID = EducationRelevantFeaturesByID.groupby([\"Country Name\", \"Indicator Code\"]).count()\n",
        "EducationRelevantFeaturesByID[\"Porcentaje de Registros\"] = (EducationRelevantFeaturesByID.sum(axis=1)/50)*100\n",
        "#RelevantFeaturesByID = RelevantFeaturesByID[\"Porcentaje de Registros\"].reset_index().sort_values(by='Porcentaje de Registros', ascending=True)\n",
        "EducationRelevantFeaturesByID = EducationRelevantFeaturesByID[\"Porcentaje de Registros\"].reset_index().sort_values(by='Indicator Code', ascending=False)\n",
        "\n",
        "countries = education['Country Name'].drop_duplicates().to_list()\n",
        "for countries in countries:\n",
        "    plt.figure(figsize=(20, 10))\n",
        "    sns.barplot(x=\"Indicator Code\", y=\"Porcentaje de Registros\", data=EducationRelevantFeaturesByID[EducationRelevantFeaturesByID[\"Country Name\"]== countries], color = \"r\")\n",
        "    plt.xticks(fontsize=14, rotation=90)\n",
        "    plt.yticks(fontsize=14)\n",
        "    plt.xlabel('Indicator Code', fontsize=14)\n",
        "    plt.ylabel('Porcentaje con Datos', fontsize=14)\n",
        "    plt.title(\"Porcentaje con Datos por Indicador de \" + str(countries) + \"\\n\", fontsize=16)\n",
        "    plt.axhline(y=50,linewidth=1, color='black')"
      ],
      "execution_count": null,
      "outputs": []
    },
    {
      "cell_type": "code",
      "metadata": {
        "id": "3rvlhi4bQWJj",
        "colab_type": "code",
        "colab": {}
      },
      "source": [
        "#Se seleccionan del dataset solo aquellas columnas relevantes para el gráfico\n",
        "EducationRelevantFeaturesByID = RelevantFeaturesEducation.drop([\"Country Code\", \"Indicator\", \"features\"], axis=1)\n",
        "#Contamos todas las combinaciones existentes por país e indicator code para cada año\n",
        "EducationRelevantFeaturesByID = EducationRelevantFeaturesByID.groupby([\"Country Name\", \"Indicator Code\"]).count()\n",
        "#Sumamos las combinaciones de país e indicator code para todos los años, \n",
        "#Para luego, dado que la cantidad de años de análisis es 50, \n",
        "#obtener el porcentaje de registros por país e indicator code para todo el período en análisis\n",
        "EducationRelevantFeaturesByID[\"Porcentaje de Registros\"] = (EducationRelevantFeaturesByID.sum(axis=1)/50)*100\n",
        "#Para Facilitar la lectura del cuadro, se crea una columna que identifica si el % de registros es mayor o menor a 50%\n",
        "EducationRelevantFeaturesByID[\"Mayor a 50%\"] = EducationRelevantFeaturesByID[\"Porcentaje de Registros\"]>50\n",
        "#Ordenamos por Indicator Code, para seleccionar las mismas variables para todos los países, y, luego, en caso que algún\n",
        "# país no tenga más del 50% para algún feature, repetimos el proceso ordenando en base al % de registros.\n",
        "EducationRelevantFeaturesByID = EducationRelevantFeaturesByID[[\"Porcentaje de Registros\" , \"Mayor a 50%\"]].reset_index().sort_values(by='Indicator Code', ascending=False)\n",
        "countries = education['Country Name'].drop_duplicates()\n",
        "EducationIDbyCountry = []\n",
        "for countries in countries:\n",
        "       EducationIDbyCountry.append( EducationRelevantFeaturesByID.loc[EducationRelevantFeaturesByID[\"Country Name\"]==countries].iloc[0:15] )\n",
        "EducationIDbyCountry"
      ],
      "execution_count": null,
      "outputs": []
    },
    {
      "cell_type": "markdown",
      "metadata": {
        "id": "uiyEwx-tQXnq",
        "colab_type": "text"
      },
      "source": [
        "De aquí se desprende que para Guyana y Brasil deben cambiarse algunos features."
      ]
    },
    {
      "cell_type": "code",
      "metadata": {
        "id": "xZGxTi7UQc0r",
        "colab_type": "code",
        "colab": {}
      },
      "source": [
        "# Buscamos primeros 15 features con mas datos para Brasil\n",
        "\n",
        "BraEducationValuesByICode = education[education[\"Country Name\"]==\"Brasil\"].groupby(\"Indicator Code\").count().drop([\"Country Code\", \"Indicator\", \"features\"], axis=1)\n",
        "BraEducationValuesByICode[\"Valor\"] = BraEducationValuesByICode.sum(axis=1)\n",
        "BraEducationValuesByICode = BraEducationValuesByICode.sort_values(by=['Valor'], ascending=False)\n",
        "BraEducationValuesByICode = ((BraEducationValuesByICode/12)*100).drop(columns = [\"Valor\"])\n",
        "BraEducationValuesByICode = BraEducationValuesByICode.rename(columns = lambda x : str(x)[:4])\n",
        "\n",
        "BraEducationValuesByICode.reset_index().iloc[0:15][\"Indicator Code\"].to_list()"
      ],
      "execution_count": null,
      "outputs": []
    },
    {
      "cell_type": "code",
      "metadata": {
        "id": "tG44ZXG9Qfp2",
        "colab_type": "code",
        "colab": {}
      },
      "source": [
        "# Buscamos primeros 15 features con mas datos para Brasil\n",
        "\n",
        "BraEducationValuesByICode = education[education[\"Country Name\"]==\"Brasil\"].groupby(\"Indicator Code\").count().drop([\"Country Code\", \"Indicator\", \"features\"], axis=1)\n",
        "BraEducationValuesByICode[\"Valor\"] = BraEducationValuesByICode.sum(axis=1)\n",
        "BraEducationValuesByICode = BraEducationValuesByICode.sort_values(by=['Valor'], ascending=False)\n",
        "BraEducationValuesByICode = ((BraEducationValuesByICode/12)*100).drop(columns = [\"Valor\"])\n",
        "BraEducationValuesByICode = BraEducationValuesByICode.rename(columns = lambda x : str(x)[:4])\n",
        "\n",
        "BraEducationValuesByICode.reset_index().iloc[0:15][\"Indicator Code\"].to_list()"
      ],
      "execution_count": null,
      "outputs": []
    },
    {
      "cell_type": "markdown",
      "metadata": {
        "id": "d0NmxEbQQjDO",
        "colab_type": "text"
      },
      "source": [
        "De lo anterior se decide añadir a la lista de features, dado que Brasil y Guyana disponen más datos al respecto, a los indicadores SE.TER.ENRL.TC.ZS, SE.PRE.ENRL.TC.ZS, SL.TLF.TOTL.IN, SL.TLF.TOTL.FE.ZS, SE.PRM.REPT.ZS, SL.UEM.TOTL.FE.ZS. Nos quedan, en total, 21 features."
      ]
    },
    {
      "cell_type": "code",
      "metadata": {
        "id": "f-cjAJRWQmds",
        "colab_type": "code",
        "colab": {}
      },
      "source": [
        "#Se definen los features seleccionados\n",
        "\n",
        "EducationIDbyCountry = EducationIDbyCountry.copy()\n",
        "EducationIDFeatures = EducationIDbyCountry[0][\"Indicator Code\"].to_list() + [\"SE.TER.ENRL.TC.ZS\", \"SE.PRE.ENRL.TC.ZS\", \"SL.TLF.TOTL.IN\", \"SL.TLF.TOTL.FE.ZS\", \"SE.PRM.REPT.ZS\", \"SL.UEM.TOTL.FE.ZS\"]\n",
        "EducationIDFeatures"
      ],
      "execution_count": null,
      "outputs": []
    },
    {
      "cell_type": "code",
      "metadata": {
        "id": "MbMCEetkQo-e",
        "colab_type": "code",
        "colab": {}
      },
      "source": [
        "print(\"Asignación de ID Code elegidos con su respectivo feature.\" )\n",
        "education[education[\"Indicator Code\"].isin(EducationIDFeatures)][[\"Indicator Code\", \"features\"]].drop_duplicates().reset_index().drop(columns=[\"index\"])"
      ],
      "execution_count": null,
      "outputs": []
    },
    {
      "cell_type": "markdown",
      "metadata": {
        "id": "nt8ON1DBRDAZ",
        "colab_type": "text"
      },
      "source": [
        "#### Funciones de Densidad por Feature para cada país\n",
        "\n"
      ]
    },
    {
      "cell_type": "markdown",
      "metadata": {
        "id": "R_jJtN3AQuuz",
        "colab_type": "text"
      },
      "source": [
        "Para realizar los siguientes análisis, se construye un dataset que tenga solo las columnas relevantes de análisis y que solo considere los ID Features seleccionados en el paso anterior."
      ]
    },
    {
      "cell_type": "code",
      "metadata": {
        "id": "zeIq4UgXQsD2",
        "colab_type": "code",
        "colab": {}
      },
      "source": [
        "columns=education.columns\n",
        "EducationData=education.drop([\"Indicator\", \"Country Code\", \"features\"], axis=1).rename(columns = lambda x : str(x)[:4] if x in columns[5:] else x)\n",
        "EducationData=EducationData[EducationData[\"Indicator Code\"].isin(EducationIDFeatures)]\n",
        "EducationData"
      ],
      "execution_count": null,
      "outputs": []
    },
    {
      "cell_type": "code",
      "metadata": {
        "id": "BQ5_KYC9Qxfi",
        "colab_type": "code",
        "colab": {}
      },
      "source": [
        "EducationDataMelt = pd.melt(EducationData, id_vars = [\"Indicator Code\" , \"Country Name\"])\n",
        "EducationDataMelt[\"variable\"] = pd.to_numeric(EducationDataMelt[\"variable\"] )\n",
        "EducationDataMelt = EducationDataMelt.rename(columns = {\"variable\": \"Year\"})\n",
        "EducationDataMelt"
      ],
      "execution_count": null,
      "outputs": []
    },
    {
      "cell_type": "markdown",
      "metadata": {
        "id": "UrijxUMPRWUa",
        "colab_type": "text"
      },
      "source": [
        "Se crea un dataset para cada país:"
      ]
    },
    {
      "cell_type": "code",
      "metadata": {
        "id": "Uz0xam77QzUW",
        "colab_type": "code",
        "colab": {}
      },
      "source": [
        "EducationDataMelt = EducationDataMelt.copy()\n",
        "arg_ed=EducationDataMelt[EducationDataMelt[\"Country Name\"]==\"Argentina\"]\n",
        "bra_ed=EducationDataMelt[EducationDataMelt[\"Country Name\"]==\"Brasil\"]\n",
        "ur_ed=EducationDataMelt[EducationDataMelt[\"Country Name\"]==\"Uruguay\"]\n",
        "par_ed=EducationDataMelt[EducationDataMelt[\"Country Name\"]==\"Paraguay\"]\n",
        "ven_ed=EducationDataMelt[EducationDataMelt[\"Country Name\"]==\"Venezuela\"]\n",
        "bol_ed=EducationDataMelt[EducationDataMelt[\"Country Name\"]==\"Bolivia\"]\n",
        "chi_ed=EducationDataMelt[EducationDataMelt[\"Country Name\"]==\"Chile\"]\n",
        "guy_ed=EducationDataMelt[EducationDataMelt[\"Country Name\"]==\"Guyana\"]\n",
        "sur_ed=EducationDataMelt[EducationDataMelt[\"Country Name\"]==\"Suriname\"]\n",
        "col_ed=EducationDataMelt[EducationDataMelt[\"Country Name\"]==\"Colombia\"]\n",
        "ecu_ed=EducationDataMelt[EducationDataMelt[\"Country Name\"]==\"Ecuador\"]\n",
        "per_ed=EducationDataMelt[EducationDataMelt[\"Country Name\"]==\"Perú\"]"
      ],
      "execution_count": null,
      "outputs": []
    },
    {
      "cell_type": "markdown",
      "metadata": {
        "id": "droqMW7PRY8o",
        "colab_type": "text"
      },
      "source": [
        "Se grafican los histogramas para cada ID Features:"
      ]
    },
    {
      "cell_type": "code",
      "metadata": {
        "id": "euMxR-siRbtl",
        "colab_type": "code",
        "colab": {}
      },
      "source": [
        "EducationIDbyCountry = EducationIDbyCountry.copy()\n",
        "EducationIDFeatures = EducationIDbyCountry[0][\"Indicator Code\"].unique()\n",
        "\n",
        "for Features in EducationIDFeatures:\n",
        "    plt.figure(figsize=(13,6))\n",
        "    sns.distplot(arg_ed[arg_ed[\"Indicator Code\"]==Features][\"value\"], label=\"arg\", hist=False)\n",
        "    sns.distplot(bra_ed[bra_ed[\"Indicator Code\"]==Features][\"value\"], label=\"bra\", hist=False)\n",
        "    sns.distplot(ur_ed[ur_ed[\"Indicator Code\"]==Features][\"value\"], label=\"ur\", hist=False)\n",
        "    sns.distplot(par_ed[par_ed[\"Indicator Code\"]==Features][\"value\"], label=\"par\", hist=False)\n",
        "    sns.distplot(ven_ed[ven_ed[\"Indicator Code\"]==Features][\"value\"], label=\"ven\", hist=False)\n",
        "    sns.distplot(bol_ed[bol_ed[\"Indicator Code\"]==Features][\"value\"], label=\"bol\", hist=False)\n",
        "    sns.distplot(chi_ed[chi_ed[\"Indicator Code\"]==Features][\"value\"], label=\"chi\", hist=False)\n",
        "    sns.distplot(guy_ed[guy_ed[\"Indicator Code\"]==Features][\"value\"], label=\"guy\", hist=False)\n",
        "    sns.distplot(sur_ed[sur_ed[\"Indicator Code\"]==Features][\"value\"], label=\"sur\", hist=False)\n",
        "    sns.distplot(col_ed[col_ed[\"Indicator Code\"]==Features][\"value\"], label=\"col\", hist=False)\n",
        "    sns.distplot(ecu_ed[ecu_ed[\"Indicator Code\"]==Features][\"value\"], label=\"ecu\", hist=False)\n",
        "    sns.distplot(per_ed[per_ed[\"Indicator Code\"]==Features][\"value\"], label=\"per\", hist=False)\n",
        "    plt.title(\"Funciones de densidad \"+ str(Features) + \" por país\", fontsize=20)\n",
        "    plt.legend(loc='upper center', bbox_to_anchor=(1.4, 1), shadow=True, ncol=2, fontsize= 'xx-small')\n",
        "    plt.xticks(fontsize=16, rotation=90)\n",
        "    plt.yticks(fontsize=16)\n",
        "    plt.xlabel('Valor', fontsize=16)\n",
        "  \n",
        "\n",
        "    "
      ],
      "execution_count": null,
      "outputs": []
    },
    {
      "cell_type": "markdown",
      "metadata": {
        "id": "CXoQ7AL6gL0G",
        "colab_type": "text"
      },
      "source": [
        "Del analisis de los histogramas por features para cada país se desprende que existe gran heterogeneidad entre países para muchos de los features considerados, presentando funciones de densidad diversas."
      ]
    },
    {
      "cell_type": "markdown",
      "metadata": {
        "id": "D-ocF0Mze4JY",
        "colab_type": "text"
      },
      "source": [
        "#### BoxPlot por Feature"
      ]
    },
    {
      "cell_type": "markdown",
      "metadata": {
        "id": "qkSCJQFqRrFH",
        "colab_type": "text"
      },
      "source": [
        "Para profundizar el análisis llevado a cabo hasta ahora, se construyen Box Plot para cada feature por país."
      ]
    },
    {
      "cell_type": "code",
      "metadata": {
        "id": "tHhrX2r3YsAn",
        "colab_type": "code",
        "colab": {}
      },
      "source": [
        "EducationIDbyCountry = EducationIDbyCountry.copy()\n",
        "EducationIDFeatures = EducationIDbyCountry[0][\"Indicator Code\"].unique()\n",
        "EducationDataMelt = EducationDataMelt.copy()\n",
        "\n",
        "for Features in EducationIDFeatures:\n",
        "    plt.figure(figsize=(13,6))\n",
        "    sns.boxplot(data=EducationDataMelt[EducationDataMelt[\"Indicator Code\"]==Features], x=\"Country Name\", y=\"value\")\n",
        "    plt.legend(loc='upper center', bbox_to_anchor=(1.4, 1), shadow=True)\n",
        "    plt.xticks(fontsize=16, rotation=90)\n",
        "    plt.yticks(fontsize=16)\n",
        "    plt.xlabel('País', fontsize=16)\n",
        "    plt.ylabel('Valor', fontsize=16)\n",
        "    plt.title(\"Boxplot del feature \"+ str(Features) + \" por país\", fontsize=24)"
      ],
      "execution_count": null,
      "outputs": []
    },
    {
      "cell_type": "markdown",
      "metadata": {
        "id": "aIouXAYHRuhh",
        "colab_type": "text"
      },
      "source": [
        "Del analisis de los boxplot por indicador se vuelve a observar que existe mucha heterogeneidad entre países. La presencia de outliers para algunos features es practicamente nula, mientras que para otros es importante y ejerce presión sobre la media."
      ]
    },
    {
      "cell_type": "markdown",
      "metadata": {
        "id": "sSSdc5nPe7Ia",
        "colab_type": "text"
      },
      "source": [
        "#### Series Temporales de los Features por País"
      ]
    },
    {
      "cell_type": "code",
      "metadata": {
        "id": "VDy30QqnY8tC",
        "colab_type": "code",
        "colab": {}
      },
      "source": [
        "countries = education['Country Name'].drop_duplicates().to_list()\n",
        "\n",
        "for country in countries:\n",
        "    plt.figure(figsize=(10,7))\n",
        "    sns.lineplot(data=EducationDataMelt[EducationDataMelt[\"Country Name\"]==country], x=\"Year\", y=\"value\", hue=\"Indicator Code\")\n",
        "    plt.title(\"Serie Temporal de los Indicadores en \" + str(country))\n",
        "    sns.despine()\n",
        "    plt.xticks(rotation=90)\n",
        "    plt.legend(bbox_to_anchor=(1.05, 1), loc='upper left', borderaxespad=0.)"
      ],
      "execution_count": null,
      "outputs": []
    },
    {
      "cell_type": "markdown",
      "metadata": {
        "id": "zu95DKyGfQw1",
        "colab_type": "text"
      },
      "source": [
        "### Determinación de Año a Predecir"
      ]
    },
    {
      "cell_type": "markdown",
      "metadata": {
        "id": "ZZTKaTXafUGF",
        "colab_type": "text"
      },
      "source": [
        "Una vez seleccionados los indicadores a predecir por país para la dimensión de educación, se verifica que todos los indicadores seleccionados tengan información para el año 2019, para elegirlo como año prueba. Si no se cumple la condición, entonces, se replica el análisis para el año 2018, y se opta por considerarlo como año a predecir."
      ]
    },
    {
      "cell_type": "code",
      "metadata": {
        "id": "M8WbXOoAfh0s",
        "colab_type": "code",
        "colab": {}
      },
      "source": [
        "featureWOData_2019_Ed  = EducationData[\"2019\"].isna().sum()\n",
        "Data_2019_Ed = (featureWOData_2019_Ed/len(EducationData[\"2019\"]))*100\n",
        "\n",
        "print(\"De las 21 features seleccionadas para educación, el \\n\" + str(round(Data_2019_Ed, 2)) + \"% no posee información para el año 2019.\" )\n",
        "\n",
        "featureWOData_2018_Ed  = EducationData[\"2018\"].isna().sum()\n",
        "\n",
        "Data_2018_Ed = (featureWOData_2018/len(EducationData[\"2018\"]))*100\n",
        "\n",
        "print(\"De las 21 features seleccionadas para educación, el \\n\" + str(Data_2018_Ed) + \"% no posee información para el año 2018.\" )\n",
        "\n"
      ],
      "execution_count": null,
      "outputs": []
    },
    {
      "cell_type": "markdown",
      "metadata": {
        "id": "fVKx3JNxf2Ab",
        "colab_type": "text"
      },
      "source": [
        "Por lo tanto, tomaremos el año 2018 como base."
      ]
    },
    {
      "cell_type": "markdown",
      "metadata": {
        "id": "kx56-KsjzI1U",
        "colab_type": "text"
      },
      "source": [
        "## PROTECCIÓN SOCIAL"
      ]
    },
    {
      "cell_type": "markdown",
      "metadata": {
        "colab_type": "text",
        "id": "80VoH7hv054g"
      },
      "source": [
        "1. ¿Cuántos **tipos de Features diferentes** existen por indicador considerado? ¿Todos los países mantienen esa misma cantidad para el mismo indicador?"
      ]
    },
    {
      "cell_type": "code",
      "metadata": {
        "colab_type": "code",
        "id": "43y6smDO1Bn-",
        "colab": {}
      },
      "source": [
        "print(\"El indicador de Protección Social tiene \" + str(len(social_protection[\"features\"].unique())) + \" features.\")\n",
        "print(\"El análisis se lleva a cabo consdierando \" + str(len(social_protection[\"Country Name\"].unique())) + \" países.\")\n",
        "print(social_protection[\"Country Name\"].unique())"
      ],
      "execution_count": null,
      "outputs": []
    },
    {
      "cell_type": "code",
      "metadata": {
        "colab_type": "code",
        "id": "cuVOTkzH1BoC",
        "colab": {}
      },
      "source": [
        "countries = social_protection['Country Name'].unique()\n",
        "\n",
        "for countries in countries:\n",
        "    print(\"La cantidad de features que posee \" + str(countries) + \": \" + str(social_protection[social_protection['Country Name']==countries]['features'].count()))"
      ],
      "execution_count": null,
      "outputs": []
    },
    {
      "cell_type": "markdown",
      "metadata": {
        "id": "7RqVdn1gz5vz",
        "colab_type": "text"
      },
      "source": [
        "### Análisis por Feature para toda la Región"
      ]
    },
    {
      "cell_type": "markdown",
      "metadata": {
        "colab_type": "text",
        "id": "ox1XzbJS2H-o"
      },
      "source": [
        "2.  ¿Cuál es la **proporción de valores nulos** para cada Feature dentro de cada Indicador con respecto al intervalo temporal considerado? ¿Estos valores nulos se encuentran dispersos a lo largo de todo el intervalo temporal o existen agrupamientos (más chicos y/o más grandes) de los mismos? ¿Qué decisión se podría tomar con respecto a los mismos en un futuro?\n",
        "3. ¿Cómo es la distribución de valores nulos por año (por columnas del dataset)?. Teniendo en cuenta que el objetivo final de la mentoría es realizar una predicción de cada Feature para el año 2019, ¿se disponen de datos suficientes para comparar las predicciones que se obtendrán con el valor real en ese año?"
      ]
    },
    {
      "cell_type": "code",
      "metadata": {
        "colab_type": "code",
        "id": "Rpnqrc6J2H-q",
        "colab": {}
      },
      "source": [
        "print(\"Los features de Protección Social que existen son los siguientes: \\n\", str(social_protection['features'].unique()))"
      ],
      "execution_count": null,
      "outputs": []
    },
    {
      "cell_type": "markdown",
      "metadata": {
        "colab_type": "text",
        "id": "0zdbOeW338C2"
      },
      "source": [
        "Para llevar a cabo el análisis de los datos nulos, se construye una matriz por feature y por año en la que se muestra el porcentaje de registros existentes para cada combinación considerando toda la región."
      ]
    },
    {
      "cell_type": "code",
      "metadata": {
        "colab_type": "code",
        "id": "22F9oeR838C3",
        "colab": {}
      },
      "source": [
        "SocProtValuesByICode = social_protection.groupby(\"Indicator Code\").count().drop([\"Country Code\", \"Country Name\", \"Indicator\", \"features\"], axis=1)\n",
        "SocProtValuesByICode[\"Valor\"] = SocProtValuesByICode.sum(axis=1)\n",
        "SocProtValuesByICode = SocProtValuesByICode.sort_values(by=['Valor'], ascending=False)\n",
        "SocProtValuesByICode = ((SocProtValuesByICode/12)*100).drop(columns = [\"Valor\"])\n",
        "SocProtValuesByICode = SocProtValuesByICode.rename(columns = lambda x : str(x)[:4])\n",
        "round(SocProtValuesByICode,2)\n"
      ],
      "execution_count": null,
      "outputs": []
    },
    {
      "cell_type": "markdown",
      "metadata": {
        "colab_type": "text",
        "id": "2LsYbC5o4-og"
      },
      "source": [
        "Se construye un mapa de calor para visualizar aquellas features con mayor porcentaje de registros, mientras mas oscuro el color menos proporción de registros hay para dicha combinación."
      ]
    },
    {
      "cell_type": "code",
      "metadata": {
        "colab_type": "code",
        "id": "aCRrXjb34-oh",
        "colab": {}
      },
      "source": [
        "plt.figure(figsize=(60, 30))\n",
        "sns.heatmap(SocProtValuesByICode, cbar=True, linewidths=0.1,  vmin=0, vmax=100)\n",
        "sns.set(font_scale=4)"
      ],
      "execution_count": null,
      "outputs": []
    },
    {
      "cell_type": "markdown",
      "metadata": {
        "colab_type": "text",
        "id": "aDnB9Mcd4-ol"
      },
      "source": [
        "Como puede observarse graficamente, durante el periodo de 1970 a 1990 se concentra la mayor cantidad de nulos."
      ]
    },
    {
      "cell_type": "code",
      "metadata": {
        "colab_type": "code",
        "id": "Onsfq7m-4-ol",
        "colab": {}
      },
      "source": [
        "SocProtByYear = pd.melt(social_protection.drop([\"Country Code\", \"Country Name\", \"Indicator\", \"features\"], axis=1), id_vars = [\"Indicator Code\"])\n",
        "SocProtByYear[\"variable\"] = pd.to_numeric(SocProtByYear[\"variable\"] )\n",
        "SocProtByYear = SocProtByYear.rename(columns = {\"variable\": \"Year\"})\n",
        "TotalData_1990 = (SocProtByYear[\"Year\"]<=1990).sum()\n",
        "WithData_1990 = ((SocProtByYear[\"Year\"]<=1990) & (SocProtByYear[\"value\"]>0)).sum()\n",
        "\n",
        "print( \"El % de registros sin datos para el período de 1970 a 1990 es de: \\n\" +  str(round((1 - (WithData_1990/TotalData_1990))*100,2)) + \"%\") \n",
        "\n",
        "TotalData_2019 = (SocProtByYear[\"Year\"]>1990).sum()\n",
        "WithData_2019 = ((SocProtByYear[\"Year\"]>1990) & (SocProtByYear[\"value\"]>0)).sum()\n",
        "Check = len (SocProtByYear) == (TotalData_2019 + TotalData_1990 )\n",
        "\n",
        "\n",
        "print( \"El % de registros sin datos para el período de 1991 a 2019 es de: \\n\" +  str(round((1 - (WithData_2019/TotalData_2019))*100,2)) + \"%\") \n"
      ],
      "execution_count": null,
      "outputs": []
    },
    {
      "cell_type": "markdown",
      "metadata": {
        "colab_type": "text",
        "id": "OurNEgm84-on"
      },
      "source": [
        "\n",
        "\n",
        "Se seleccionan en un principio los 30 features con mas datos en toda la región:"
      ]
    },
    {
      "cell_type": "code",
      "metadata": {
        "colab_type": "code",
        "id": "uoGNCZUu4-on",
        "colab": {}
      },
      "source": [
        "SocProtByYear = SocProtByYear.copy()\n",
        "\n",
        "SocProtByYear = SocProtByYear.reset_index()\n",
        "SocProtByYear[\"features\"] = SocProtByYear[\"Indicator Code\"]\n",
        "SocProtByYear[\"features\"] = SocProtByYear[\"features\"].map(social_protection.set_index(\"Indicator Code\")[\"features\"].to_dict())\n",
        "FeaturesSocProtSelection = SocProtByYear.iloc[0:30][[\"Indicator Code\", \"features\"]].set_index(\"Indicator Code\")\n",
        "FeaturesSocProtSelection"
      ],
      "execution_count": null,
      "outputs": []
    },
    {
      "cell_type": "markdown",
      "metadata": {
        "colab_type": "text",
        "id": "d_0Fu-rL4-os"
      },
      "source": [
        "### Análisis por País para cada Feature"
      ]
    },
    {
      "cell_type": "markdown",
      "metadata": {
        "colab_type": "text",
        "id": "4nffUoZk4-ot"
      },
      "source": [
        "4. Volviendo a los resultados del punto 2, elegir como mínimo 15 Features por Indicador con al menos el 50% de valores no nulos (y en lo posible los mismos para todos los países) y mostrar gráficamente, con gráficos de distribución o de cajas por ejemplo, la distribución de los mismos. ¿Qué se puede observar de estas distribuciones? ¿Son normales? ¿Qué sucede con los outliers? ¿Observan alguna similitud entre los features elegidos?. Para estos mismos 15 Features realizar el gráfico de línea de su serie temporal y analizarlo."
      ]
    },
    {
      "cell_type": "markdown",
      "metadata": {
        "colab_type": "text",
        "id": "dtQ_oWSz4-ot"
      },
      "source": [
        "Se construye una matriz para determinar cuál es el porcentaje de registros con datos considerando las 32 features seleccionadas por país y año. Es decir, por ejemplo, para Perú en el año 1970 el 3.33% de los features tiene valores."
      ]
    },
    {
      "cell_type": "code",
      "metadata": {
        "colab_type": "code",
        "id": "YFA7I2uE703v",
        "colab": {}
      },
      "source": [
        "SocProtIDCode = FeaturesSocProtSelection.reset_index()['Indicator Code'].to_list()\n",
        "\n",
        "RelevantFeaturesSocProt = social_protection[social_protection[\"Indicator Code\"].isin(SocProtIDCode)]\n",
        "SocProtDataByCountry = RelevantFeaturesSocProt.groupby(\"Country Name\").count().drop([\"features\", \"Indicator\", \"Country Code\", \"Indicator Code\"], axis=1)\n",
        "SocProtDataByCountry[\"Valor\"] = SocProtDataByCountry.sum(axis=1)\n",
        "SocProtDataByCountry = SocProtDataByCountry.sort_values(by=['Valor'], ascending=False)\n",
        "SocProtDataByCountry = ((SocProtDataByCountry/len(RelevantFeaturesSocProt[\"Indicator Code\"].unique()))*100).drop(columns = [\"Valor\"])\n",
        "SocProtDataByCountry = SocProtDataByCountry.rename(columns = lambda x : str(x)[:4])\n",
        "round(SocProtDataByCountry,2)"
      ],
      "execution_count": null,
      "outputs": []
    },
    {
      "cell_type": "code",
      "metadata": {
        "colab_type": "code",
        "id": "jBNCsfiw4-ov",
        "colab": {}
      },
      "source": [
        "plt.figure(figsize=(40, 20))\n",
        "sns.heatmap(SocProtDataByCountry, cbar=True, linewidths=.3, vmin=0, vmax=100)\n",
        "sns.set(font_scale=4)"
      ],
      "execution_count": null,
      "outputs": []
    },
    {
      "cell_type": "markdown",
      "metadata": {
        "colab_type": "text",
        "id": "qmYIYB5O4-ox"
      },
      "source": [
        "Se realiza un heatmap considerando como centro el 50% de esta forma se puede visualizar cuáles son las combinaciones que tienen mas del 50% de registros con datos."
      ]
    },
    {
      "cell_type": "code",
      "metadata": {
        "colab_type": "code",
        "id": "5FGHDq114-ox",
        "colab": {}
      },
      "source": [
        "plt.figure(figsize=(40, 20))\n",
        "sns.heatmap(SocProtDataByCountry, cbar=True, linewidths=.3, center=50, cmap=\"PRGn\")\n",
        "sns.set(font_scale=4)"
      ],
      "execution_count": null,
      "outputs": []
    },
    {
      "cell_type": "code",
      "metadata": {
        "colab_type": "code",
        "id": "6BZoHHjp4-oz",
        "colab": {}
      },
      "source": [
        "_porc_paises_mas_50_sp= round((SocProtDataByCountry[SocProtDataByCountry>50].count()/len(social_protection[\"Country Name\"].unique()))*100, 0).astype(int)\n",
        "\n",
        "print(\"El % de países con más del 50% de los features con datos para cada año es: \\n\" + str(_porc_paises_mas_50_sp))"
      ],
      "execution_count": null,
      "outputs": []
    },
    {
      "cell_type": "code",
      "metadata": {
        "colab_type": "code",
        "id": "qJ7DWDvJ4-o2",
        "colab": {}
      },
      "source": [
        "SocProtByYear = pd.melt(RelevantFeaturesSocProt, id_vars = [\"features\", \"Indicator\" , \"Country Name\",\"Country Code\", \"Indicator Code\"])\n",
        "SocProtByYear[\"variable\"] = pd.to_numeric(SocProtByYear[\"variable\"] )\n",
        "SocProtByYear = SocProtByYear.rename(columns = {\"variable\": \"Year\"})\n",
        "SocProtByYear[\"Year\"] = SocProtByYear[\"Year\"].apply(lambda x: str(x)[:4])\n",
        "\n",
        "SocProtByYear"
      ],
      "execution_count": null,
      "outputs": []
    },
    {
      "cell_type": "markdown",
      "metadata": {
        "colab_type": "text",
        "id": "gF5dEN4t4-o3"
      },
      "source": [
        "A partir de 1991, todos los paises en análisis tienen información para más del 50% de los features relevantes. Esto se evidencia en el heatmap, donde aquellas combinaciones con más del 50% de registros se muestran en diferentes tonalidades de verdes. Aquellas combinaciones que no alcanzan el 50% de los registros tienen diferentes tonalidades de violeta."
      ]
    },
    {
      "cell_type": "markdown",
      "metadata": {
        "colab_type": "text",
        "id": "7DvLdMU04-o4"
      },
      "source": [
        "Se modifica la estructura del dataset para poder analizar el porcentaje de registros con datos por país, por feature y por año, para decidir qué features considerar para cada país."
      ]
    },
    {
      "cell_type": "code",
      "metadata": {
        "id": "b59YejG8Sa_2",
        "colab_type": "code",
        "colab": {}
      },
      "source": [
        "SocProtFeaturesByID = RelevantFeaturesSocProt.drop([\"Country Code\", \"Indicator\", \"features\"], axis=1)\n",
        "SocProtFeaturesByID = SocProtFeaturesByID.groupby([\"Country Name\", \"Indicator Code\"]).count()\n",
        "SocProtFeaturesByID[\"Porcentaje de Registros\"] = (SocProtFeaturesByID.sum(axis=1)/50)*100\n",
        "SocProtFeaturesByID = SocProtFeaturesByID[\"Porcentaje de Registros\"].reset_index().sort_values(by='Indicator Code', ascending=False)\n",
        "\n",
        "countries = social_protection['Country Name'].drop_duplicates().to_list()\n",
        "for country in countries:\n",
        "    plt.figure(figsize=(20, 10))\n",
        "    sns.barplot(x=\"Indicator Code\", y=\"Porcentaje de Registros\", data=SocProtFeaturesByID[SocProtFeaturesByID[\"Country Name\"]== country], color = \"r\")\n",
        "    plt.xticks(fontsize=14, rotation=90)\n",
        "    plt.yticks(fontsize=14)\n",
        "    plt.xlabel('Indicator Code', fontsize=14)\n",
        "    plt.ylabel('Porcentaje con Datos', fontsize=14)\n",
        "    plt.title(\"Porcentaje con Datos por Indicador de \" + str(country) + \"\\n\", fontsize=16)\n",
        "    plt.axhline(y=50,linewidth=1, color='black')"
      ],
      "execution_count": null,
      "outputs": []
    },
    {
      "cell_type": "code",
      "metadata": {
        "id": "LaK6-Ny5Rs4d",
        "colab_type": "code",
        "colab": {}
      },
      "source": [
        "#Se seleccionan del dataset solo aquellas columnas relevantes para el gráfico\n",
        "SocProtFeaturesByID = RelevantFeaturesSocProt.drop([\"Country Code\", \"Indicator\", \"features\"], axis=1)\n",
        "#Contamos todas las combinaciones existentes por país e indicator code para cada año\n",
        "SocProtFeaturesByID = SocProtFeaturesByID.groupby([\"Country Name\", \"Indicator Code\"]).count()\n",
        "#Sumamos las combinaciones de país e indicator code para todos los años, \n",
        "#Para luego, dado que la cantidad de años de análisis es 50, \n",
        "#obtener el porcentaje de registros por país e indicator code para todo el período en análisis\n",
        "SocProtFeaturesByID[\"Porcentaje de Registros\"] = (SocProtFeaturesByID.sum(axis=1)/50)*100\n",
        "#Para Facilitar la lectura del cuadro, se crea una columna que identifica si el % de registros es mayor o menor a 50%\n",
        "SocProtFeaturesByID[\"Mayor a 50%\"] = SocProtFeaturesByID[\"Porcentaje de Registros\"]>50\n",
        "#Ordenamos por Indicator Code, para seleccionar las mismas variables para todos los países, y, luego, en caso que algún\n",
        "# país no tenga más del 50% para algún feature, repetimos el proceso ordenando en base al % de registros.\n",
        "SocProtFeaturesByID = SocProtFeaturesByID[[\"Porcentaje de Registros\" , \"Mayor a 50%\"]].reset_index().sort_values(by='Indicator Code', ascending=False)\n",
        "countries = gender['Country Name'].drop_duplicates()\n",
        "SocProtIDbyCountry = []\n",
        "for country in countries:\n",
        "       SocProtIDbyCountry.append( SocProtFeaturesByID.loc[SocProtFeaturesByID[\"Country Name\"]==country].iloc[0:15] )\n",
        "SocProtIDbyCountry"
      ],
      "execution_count": null,
      "outputs": []
    },
    {
      "cell_type": "code",
      "metadata": {
        "colab_type": "code",
        "id": "N0RaDT7O4-o7",
        "colab": {}
      },
      "source": [
        "#Se definen los features seleccionados\n",
        "\n",
        "SocProtIDFeatures = SocProtIDbyCountry[0][\"Indicator Code\"].unique()\n",
        "SocProtIDFeatures"
      ],
      "execution_count": null,
      "outputs": []
    },
    {
      "cell_type": "code",
      "metadata": {
        "colab_type": "code",
        "id": "oo_5X9nq4-o9",
        "colab": {}
      },
      "source": [
        "                                                                                                 \n",
        "print(\"Asignación de ID Code elegidos con su respectivo feature.\" )\n",
        "social_protection[social_protection[\"Indicator Code\"].isin(SocProtIDFeatures)][[\"Indicator Code\", \"features\"]].drop_duplicates().reset_index().drop(columns=[\"index\"])"
      ],
      "execution_count": null,
      "outputs": []
    },
    {
      "cell_type": "markdown",
      "metadata": {
        "colab_type": "text",
        "id": "BIzxpg-44-o-"
      },
      "source": [
        "#### Funciones de Densidad por Feature para cada país"
      ]
    },
    {
      "cell_type": "markdown",
      "metadata": {
        "colab_type": "text",
        "id": "qRZ4TqmW4-o_"
      },
      "source": [
        "Para realizar los siguientes análisis, se construye un dataset que tenga solo las columnas relevantes de análisis y que solo considere los ID Features seleccionados en el paso anterior. "
      ]
    },
    {
      "cell_type": "code",
      "metadata": {
        "colab_type": "code",
        "id": "hZhKyTUg4-o_",
        "colab": {}
      },
      "source": [
        "columns=social_protection.columns\n",
        "SocProtData=social_protection.drop([\"Indicator\", \"Country Code\", \"features\"], axis=1).rename(columns = lambda x : str(x)[:4] if x in columns[5:] else x)\n",
        "SocProtData=SocProtData[SocProtData[\"Indicator Code\"].isin(SocProtIDFeatures)]"
      ],
      "execution_count": null,
      "outputs": []
    },
    {
      "cell_type": "code",
      "metadata": {
        "colab_type": "code",
        "id": "bgWhcC034-pA",
        "colab": {}
      },
      "source": [
        "SocProtDataMelt = pd.melt(SocProtData, id_vars = [\"Indicator Code\" , \"Country Name\"])\n",
        "SocProtDataMelt[\"variable\"] = pd.to_numeric(SocProtDataMelt[\"variable\"] )\n",
        "SocProtDataMelt = SocProtDataMelt.rename(columns = {\"variable\": \"Year\"})"
      ],
      "execution_count": null,
      "outputs": []
    },
    {
      "cell_type": "markdown",
      "metadata": {
        "colab_type": "text",
        "id": "n6LpLEbI4-pC"
      },
      "source": [
        "Se crea un dataset por país"
      ]
    },
    {
      "cell_type": "code",
      "metadata": {
        "colab_type": "code",
        "id": "SA5Jlo8r4-pC",
        "colab": {}
      },
      "source": [
        "SocProtDataMelt = SocProtDataMelt.copy()\n",
        "arg_sp=SocProtDataMelt[SocProtDataMelt[\"Country Name\"]==\"Argentina\"]\n",
        "bra_sp=SocProtDataMelt[SocProtDataMelt[\"Country Name\"]==\"Brasil\"]\n",
        "ur_sp=SocProtDataMelt[SocProtDataMelt[\"Country Name\"]==\"Uruguay\"]\n",
        "par_sp=SocProtDataMelt[SocProtDataMelt[\"Country Name\"]==\"Paraguay\"]\n",
        "ven_sp=SocProtDataMelt[SocProtDataMelt[\"Country Name\"]==\"Venezuela\"]\n",
        "bol_sp=SocProtDataMelt[SocProtDataMelt[\"Country Name\"]==\"Bolivia\"]\n",
        "chi_sp=SocProtDataMelt[SocProtDataMelt[\"Country Name\"]==\"Chile\"]\n",
        "guy_sp=SocProtDataMelt[SocProtDataMelt[\"Country Name\"]==\"Guyana\"]\n",
        "sur_sp=SocProtDataMelt[SocProtDataMelt[\"Country Name\"]==\"Suriname\"]\n",
        "col_sp=SocProtDataMelt[SocProtDataMelt[\"Country Name\"]==\"Colombia\"]\n",
        "ecu_sp=SocProtDataMelt[SocProtDataMelt[\"Country Name\"]==\"Ecuador\"]\n",
        "per_sp=SocProtDataMelt[SocProtDataMelt[\"Country Name\"]==\"Perú\"]"
      ],
      "execution_count": null,
      "outputs": []
    },
    {
      "cell_type": "markdown",
      "metadata": {
        "colab_type": "text",
        "id": "P7RZyVIp4-pE"
      },
      "source": [
        "Se grafican los histogramas para cada ID Features"
      ]
    },
    {
      "cell_type": "code",
      "metadata": {
        "colab_type": "code",
        "id": "he1mLEZr4-pE",
        "colab": {}
      },
      "source": [
        "SocProtIDbyCountry = SocProtIDbyCountry.copy()\n",
        "SocProtIDFeatures = SocProtIDbyCountry[0][\"Indicator Code\"].unique()\n",
        "\n",
        "for Features in SocProtIDFeatures:\n",
        "    plt.figure(figsize=(13,6))\n",
        "    sns.distplot(arg_sp[arg_sp[\"Indicator Code\"]==Features][\"value\"], label=\"arg\", hist=False)\n",
        "    sns.distplot(bra_sp[bra_sp[\"Indicator Code\"]==Features][\"value\"], label=\"bra\", hist=False)\n",
        "    sns.distplot(ur_sp[ur_sp[\"Indicator Code\"]==Features][\"value\"], label=\"ur\", hist=False)\n",
        "    sns.distplot(par_sp[par_sp[\"Indicator Code\"]==Features][\"value\"], label=\"par\", hist=False)\n",
        "    sns.distplot(ven_sp[ven_sp[\"Indicator Code\"]==Features][\"value\"], label=\"ven\", hist=False)\n",
        "    sns.distplot(bol_sp[bol_sp[\"Indicator Code\"]==Features][\"value\"], label=\"bol\", hist=False)\n",
        "    sns.distplot(chi_sp[chi_sp[\"Indicator Code\"]==Features][\"value\"], label=\"chi\", hist=False)\n",
        "    sns.distplot(guy_sp[guy_sp[\"Indicator Code\"]==Features][\"value\"], label=\"guy\", hist=False)\n",
        "    sns.distplot(sur_sp[sur_sp[\"Indicator Code\"]==Features][\"value\"], label=\"sur\", hist=False)\n",
        "    sns.distplot(col_sp[col_sp[\"Indicator Code\"]==Features][\"value\"], label=\"col\", hist=False)\n",
        "    sns.distplot(ecu_sp[ecu_sp[\"Indicator Code\"]==Features][\"value\"], label=\"ecu\", hist=False)\n",
        "    sns.distplot(per_sp[per_sp[\"Indicator Code\"]==Features][\"value\"], label=\"per\", hist=False)\n",
        "    plt.title(\"Funciones de densidad \"+ str(Features) + \" por país\", fontsize=20)\n",
        "    plt.legend(loc='upper center', bbox_to_anchor=(1.4, 1), shadow=True, ncol=2, fontsize= 'xx-small')\n",
        "    plt.xticks(fontsize=16, rotation=90)\n",
        "    plt.yticks(fontsize=16)\n",
        "    plt.xlabel('Valor', fontsize=16)\n",
        "    "
      ],
      "execution_count": null,
      "outputs": []
    },
    {
      "cell_type": "markdown",
      "metadata": {
        "colab_type": "text",
        "id": "PLjXKu124-pG"
      },
      "source": [
        "Como puede evidenciarse en todos los histogramas, las distribuciones de cada feature en los diferentes países difiere bastante. Es decir, en la región cada uno de los features se distribuye diferente dependiendo del país que se analice. Es posible que con un análisis mas detallado de cada feature, se encuentren países donde la feature se distribuye similar."
      ]
    },
    {
      "cell_type": "markdown",
      "metadata": {
        "colab_type": "text",
        "id": "aW9CTAZ74-pG"
      },
      "source": [
        "#### BoxPlot por Feature"
      ]
    },
    {
      "cell_type": "markdown",
      "metadata": {
        "colab_type": "text",
        "id": "WQnbBwBNQJyA"
      },
      "source": [
        "Para profundizar el análisis llevado a cabo hasta ahora, se construyen Box Plot para cada feature por país. "
      ]
    },
    {
      "cell_type": "code",
      "metadata": {
        "colab_type": "code",
        "id": "pdFKD_jcQJyC",
        "colab": {}
      },
      "source": [
        "SocProtIDbyCountry = SocProtIDbyCountry.copy()\n",
        "SocProtIDFeatures = SocProtIDbyCountry[0][\"Indicator Code\"].unique()\n",
        "SocProtDataMelt = SocProtDataMelt.copy()\n",
        "\n",
        "for Features in SocProtIDFeatures:\n",
        "    plt.figure(figsize=(13,6))\n",
        "    sns.boxplot(data=SocProtDataMelt[SocProtDataMelt[\"Indicator Code\"]==Features], x=\"Country Name\", y=\"value\")\n",
        "    plt.xticks(fontsize=16, rotation=90)\n",
        "    plt.yticks(fontsize=16)\n",
        "    plt.xlabel('País', fontsize=16)\n",
        "    plt.ylabel('Valor', fontsize=16)\n",
        "    plt.title(\"Boxplot del feature \"+ str(Features) + \" por país\", fontsize=24)"
      ],
      "execution_count": null,
      "outputs": []
    },
    {
      "cell_type": "markdown",
      "metadata": {
        "id": "RrXjaPxrAVRY",
        "colab_type": "text"
      },
      "source": [
        "Los boxplot evidencian la presencia de outliers para muchos de los países en la mayoria de los features."
      ]
    },
    {
      "cell_type": "markdown",
      "metadata": {
        "colab_type": "text",
        "id": "KwVbigBjVaiC"
      },
      "source": [
        "#### Series Temporales de los Features por País"
      ]
    },
    {
      "cell_type": "code",
      "metadata": {
        "id": "_vfpYpi2VPVM",
        "colab_type": "code",
        "colab": {}
      },
      "source": [
        "countries = social_protection['Country Name'].drop_duplicates().to_list()\n",
        "SocProtDataMelt = SocProtDataMelt.copy()\n",
        "for country in countries:\n",
        "    plt.figure(figsize=(10,7))\n",
        "    sns.lineplot(data=SocProtDataMelt[SocProtDataMelt[\"Country Name\"]==country], x=\"Year\", y=\"value\", hue=\"Indicator Code\")\n",
        "    plt.title(\"Serie Temporal de los Indicadores en \" + str(country), fontsize=18)\n",
        "    sns.despine()\n",
        "    plt.xticks(fontsize=14, rotation=90)\n",
        "    plt.yticks(fontsize=14)\n",
        "    plt.xlabel('País', fontsize=14)\n",
        "    plt.ylabel('Valor', fontsize=14)\n",
        "    plt.xticks(rotation=90)\n",
        "    plt.legend(loc='upper center', bbox_to_anchor=(2, 1), shadow=True, ncol=2, fontsize= 'xx-small')"
      ],
      "execution_count": null,
      "outputs": []
    },
    {
      "cell_type": "markdown",
      "metadata": {
        "colab_type": "text",
        "id": "B54umDDAV0dT"
      },
      "source": [
        "### Determinación de Año a Predecir"
      ]
    },
    {
      "cell_type": "markdown",
      "metadata": {
        "colab_type": "text",
        "id": "4QtX3m3LV0dU"
      },
      "source": [
        "Una vez seleccionados los indicadores a predecir por país para la dimensión de educación, se verifica que todos los indicadores seleccionados tengan información para el año 2019, para elegirlo como año prueba. Si no se cumple la condición, entonces, se replica el análisis para el año 2018, y se opta por considerarlo como año a predecir."
      ]
    },
    {
      "cell_type": "code",
      "metadata": {
        "colab_type": "code",
        "id": "mnBg156IWCzo",
        "colab": {}
      },
      "source": [
        "featureWOData_2019  = SocProtData[\"2019\"].isna().sum()\n",
        "SPData_2019 = (featureWOData_2019/len(SocProtData[\"2019\"]))*100\n",
        "\n",
        "print(\"De las 15 features seleccionadas para Protección Social, el \" + str(round(SPData_2019, 2)) + \"% no posee información para el año 2019.\" )\n",
        "\n",
        "featureWOData_2018  = SocProtData[\"2018\"].isna().sum()\n",
        "\n",
        "SPData_2018 = (featureWOData_2018/len(SocProtData[\"2018\"]))*100\n",
        "\n",
        "print(\"De las 15 features seleccionadas para Protección Social, el \" + str(round(SPData_2018, 2)) + \"% no posee información para el año 2018.\" )\n",
        "\n"
      ],
      "execution_count": null,
      "outputs": []
    },
    {
      "cell_type": "markdown",
      "metadata": {
        "id": "Fs86TfjrW-4F",
        "colab_type": "text"
      },
      "source": [
        "Teniendo el cuenta que para el año 2019 falta información en mas del 50% se decide seleccionar el año 2018"
      ]
    },
    {
      "cell_type": "markdown",
      "metadata": {
        "colab_type": "text",
        "id": "UlQuXZ8bNuNp"
      },
      "source": [
        "## POBREZA"
      ]
    },
    {
      "cell_type": "markdown",
      "metadata": {
        "colab_type": "text",
        "id": "Wjpv1lhvNuNq"
      },
      "source": [
        "1. ¿Cuántos **tipos de Features diferentes** existen por indicador considerado? ¿Todos los países mantienen esa misma cantidad para el mismo indicador?"
      ]
    },
    {
      "cell_type": "code",
      "metadata": {
        "colab_type": "code",
        "id": "kzEQKn21NuNr",
        "colab": {}
      },
      "source": [
        "print(\"El indicador de Pobreza tiene \" + str(len(poverty[\"features\"].unique())) + \" features.\")\n",
        "print(\"El análisis se lleva a cabo consdierando \" + str(len(poverty[\"Country Name\"].unique())) + \" países.\")\n",
        "print(poverty[\"Country Name\"].unique())"
      ],
      "execution_count": null,
      "outputs": []
    },
    {
      "cell_type": "code",
      "metadata": {
        "colab_type": "code",
        "id": "PSy1LZMaNuNy",
        "colab": {}
      },
      "source": [
        "countries = poverty['Country Name'].unique()\n",
        "\n",
        "for country in countries:\n",
        "    \n",
        "    print(\"La cantidad de features que posee \" + str(country) + \": \" + str(poverty[poverty['Country Name']==country]['features'].count()) )"
      ],
      "execution_count": null,
      "outputs": []
    },
    {
      "cell_type": "markdown",
      "metadata": {
        "colab_type": "text",
        "id": "9ntaX25WNuN4"
      },
      "source": [
        "### Análisis por Feature para toda la Región"
      ]
    },
    {
      "cell_type": "markdown",
      "metadata": {
        "colab_type": "text",
        "id": "G5DhACYHNuN6"
      },
      "source": [
        "2.  ¿Cuál es la **proporción de valores nulos** para cada Feature dentro de cada Indicador con respecto al intervalo temporal considerado? ¿Estos valores nulos se encuentran dispersos a lo largo de todo el intervalo temporal o existen agrupamientos (más chicos y/o más grandes) de los mismos? ¿Qué decisión se podría tomar con respecto a los mismos en un futuro?\n",
        "3. ¿Cómo es la distribución de valores nulos por año (por columnas del dataset)?. Teniendo en cuenta que el objetivo final de la mentoría es realizar una predicción de cada Feature para el año 2019, ¿se disponen de datos suficientes para comparar las predicciones que se obtendrán con el valor real en ese año?"
      ]
    },
    {
      "cell_type": "code",
      "metadata": {
        "colab_type": "code",
        "id": "xWvnzsAmNuN6",
        "colab": {}
      },
      "source": [
        "print(\"Los features de Pobreza que existen son los siguientes: \\n\", str(poverty['features'].unique()))"
      ],
      "execution_count": null,
      "outputs": []
    },
    {
      "cell_type": "markdown",
      "metadata": {
        "colab_type": "text",
        "id": "Y4IdCxPHNuN_"
      },
      "source": [
        "Para llevar a cabo el análisis de los datos nulos, se construye una matriz por feature y por año en la que se muestra el porcentaje de registros existentes para cada combinación considerando toda la región."
      ]
    },
    {
      "cell_type": "code",
      "metadata": {
        "colab_type": "code",
        "id": "IdKpn1xGNuOC",
        "colab": {}
      },
      "source": [
        "PovertyValuesByICode = poverty.groupby(\"Indicator Code\").count().drop([\"Country Code\", \"Country Name\", \"Indicator\", \"features\"], axis=1)\n",
        "PovertyValuesByICode[\"Valor\"] = PovertyValuesByICode.sum(axis=1)\n",
        "PovertyValuesByICode = PovertyValuesByICode.sort_values(by=['Valor'], ascending=False)\n",
        "PovertyValuesByICode = ((PovertyValuesByICode/12)*100).drop(columns = [\"Valor\"])\n",
        "PovertyValuesByICode = PovertyValuesByICode.rename(columns = lambda x : str(x)[:4])\n",
        "round(PovertyValuesByICode,2)"
      ],
      "execution_count": null,
      "outputs": []
    },
    {
      "cell_type": "markdown",
      "metadata": {
        "colab_type": "text",
        "id": "xHmclUs3NuOH"
      },
      "source": [
        "Se construye un mapa de calor para visualizar aquellas features con mayor porcentaje de registros, mientras mas oscuro el color menos proporción de registros hay para dicha combinación."
      ]
    },
    {
      "cell_type": "code",
      "metadata": {
        "colab_type": "code",
        "id": "x3QHlnaPNuOJ",
        "colab": {}
      },
      "source": [
        "plt.figure(figsize=(60, 30))\n",
        "sns.heatmap(PovertyValuesByICode, cbar=True, linewidths=0.1,  vmin=0, vmax=100)\n",
        "sns.set(font_scale=4)"
      ],
      "execution_count": null,
      "outputs": []
    },
    {
      "cell_type": "markdown",
      "metadata": {
        "colab_type": "text",
        "id": "0icCKB-WNuON"
      },
      "source": [
        "Como puede observarse graficamente, durante el periodo de 1970 a 1992 se concentra la mayor cantidad de nulos."
      ]
    },
    {
      "cell_type": "code",
      "metadata": {
        "colab_type": "code",
        "id": "tgpCHNlWNuOO",
        "colab": {}
      },
      "source": [
        "PovertyByYear = pd.melt(poverty.drop([\"Country Code\", \"Country Name\", \"Indicator\", \"features\"], axis=1), id_vars = [\"Indicator Code\"])\n",
        "PovertyByYear[\"variable\"] = pd.to_numeric(PovertyByYear[\"variable\"] )\n",
        "PovertyByYear = PovertyByYear.rename(columns = {\"variable\": \"Year\"})\n",
        "TotalData_1992 = (PovertyByYear[\"Year\"]<=1992).sum()\n",
        "WithData_1992 = ((PovertyByYear[\"Year\"]<=1992) & (PovertyByYear[\"value\"]>0)).sum()\n",
        "\n",
        "print( \"El % de registros sin datos para el período de 1970 a 1992 es de: \\n\" +  str(round((1 - (WithData_1990/TotalData_1990))*100,2)) + \"%\") \n",
        "\n",
        "TotalData_2019 = (PovertyByYear[\"Year\"]>1992).sum()\n",
        "WithData_2019 = ((PovertyByYear[\"Year\"]>1992) & (PovertyByYear[\"value\"]>0)).sum()\n",
        "Check = len (PovertyByYear) == (TotalData_2019 + TotalData_1990 )\n",
        "\n",
        "\n",
        "print( \"El % de registros sin datos para el período de 1993 a 2019 es de: \\n\" +  str(round((1 - (WithData_2019/TotalData_2019))*100,2)) + \"%\") \n"
      ],
      "execution_count": null,
      "outputs": []
    },
    {
      "cell_type": "markdown",
      "metadata": {
        "colab_type": "text",
        "id": "Q6gdBWRlNuOR"
      },
      "source": [
        "Dado que la dimensión pobreza tiene 15 features en total, se analizará en detalle cada uno de ellos."
      ]
    },
    {
      "cell_type": "code",
      "metadata": {
        "colab_type": "code",
        "id": "DPNqvcfoNuOT",
        "colab": {}
      },
      "source": [
        "PovertyByYear = PovertyByYear.copy()\n",
        "PovertyByYear = PovertyByYear.reset_index()\n",
        "PovertyByYear[\"features\"] = PovertyByYear[\"Indicator Code\"]\n",
        "PovertyByYear[\"features\"] = PovertyByYear[\"features\"].map(poverty.set_index(\"Indicator Code\")[\"features\"].to_dict())\n",
        "print( \"La descripción de cada ID Indicator a considerar es la siguiente: \")\n",
        "FeaturesPovertySelection = PovertyByYear[[\"Indicator Code\", \"features\"]].drop_duplicates().set_index(\"Indicator Code\")\n",
        "FeaturesPovertySelection"
      ],
      "execution_count": null,
      "outputs": []
    },
    {
      "cell_type": "markdown",
      "metadata": {
        "colab_type": "text",
        "id": "Bp5RvUowNuOX"
      },
      "source": [
        "### Análisis por País para cada Feature"
      ]
    },
    {
      "cell_type": "markdown",
      "metadata": {
        "colab_type": "text",
        "id": "uoMVaNAnNuOY"
      },
      "source": [
        "4. Volviendo a los resultados del punto 2, elegir como mínimo 15 Features por Indicador con al menos el 50% de valores no nulos (y en lo posible los mismos para todos los países) y mostrar gráficamente, con gráficos de distribución o de cajas por ejemplo, la distribución de los mismos. ¿Qué se puede observar de estas distribuciones? ¿Son normales? ¿Qué sucede con los outliers? ¿Observan alguna similitud entre los features elegidos?. Para estos mismos 15 Features realizar el gráfico de línea de su serie temporal y analizarlo."
      ]
    },
    {
      "cell_type": "code",
      "metadata": {
        "colab_type": "code",
        "id": "yL9eJSvpNuOa",
        "colab": {}
      },
      "source": [
        "PovertyIDCode = FeaturesPovertySelection.reset_index()['Indicator Code'].to_list()\n",
        "\n",
        "RelevantFeaturesPoverty = poverty[poverty[\"Indicator Code\"].isin(PovertyIDCode)]\n",
        "PovertyDataByCountry = RelevantFeaturesPoverty.groupby(\"Country Name\").count().drop([\"features\", \"Indicator\", \"Country Code\", \"Indicator Code\"], axis=1)\n",
        "PovertyDataByCountry[\"Valor\"] = PovertyDataByCountry.sum(axis=1)\n",
        "PovertyDataByCountry = PovertyDataByCountry.sort_values(by=['Valor'], ascending=False)\n",
        "PovertyDataByCountry = ((PovertyDataByCountry/len(RelevantFeaturesPoverty[\"Indicator Code\"].unique()))*100).drop(columns = [\"Valor\"])\n",
        "PovertyDataByCountry = PovertyDataByCountry.rename(columns = lambda x : str(x)[:4])\n",
        "round(PovertyDataByCountry,2)"
      ],
      "execution_count": null,
      "outputs": []
    },
    {
      "cell_type": "markdown",
      "metadata": {
        "id": "qManZNcR-MFI",
        "colab_type": "text"
      },
      "source": [
        "En la tabla es posible observar la falta de información en todos los países para todos los features de pobreza durante el período 1970 a 1979. En 1980 solamente en Argentina se miden algunos indicadores (estaría bueno poner cuáles), sin embargo, es solo hay algo de información para ese año luego viene un período de 5 años (1981-1985) donde nuevamente no se mide ningún indicador en Argentina."
      ]
    },
    {
      "cell_type": "code",
      "metadata": {
        "colab_type": "code",
        "id": "X_IORAxfNuOf",
        "colab": {}
      },
      "source": [
        "PovertyDataByCountry = PovertyDataByCountry.copy()\n",
        "plt.figure(figsize=(40, 20))\n",
        "sns.heatmap(PovertyDataByCountry, cbar=True, linewidths=.3, vmin=0, vmax=100)\n",
        "sns.set(font_scale=4)"
      ],
      "execution_count": null,
      "outputs": []
    },
    {
      "cell_type": "markdown",
      "metadata": {
        "id": "uI65wlAM_Wh1",
        "colab_type": "text"
      },
      "source": [
        "Por su parte en el hetmatp, se evidencia la falta de información de Guyana y Suriname para todo el período en ánalisis."
      ]
    },
    {
      "cell_type": "markdown",
      "metadata": {
        "colab_type": "text",
        "id": "FSvNfxxeNuOk"
      },
      "source": [
        "Se realiza un heatmap considerando como centro el 50% de esta forma se puede visualizar cuáles son las combinaciones que tienen mas del 50% de registros con datos."
      ]
    },
    {
      "cell_type": "code",
      "metadata": {
        "colab_type": "code",
        "id": "dbBFZdgENuOm",
        "colab": {}
      },
      "source": [
        "PovertyDataByCountry = PovertyDataByCountry.copy()\n",
        "plt.figure(figsize=(40, 20))\n",
        "sns.heatmap(PovertyDataByCountry, cbar=True, linewidths=.3, center=50, cmap=\"PRGn\", vmin=0, vmax=100)\n",
        "sns.set(font_scale=4)"
      ],
      "execution_count": null,
      "outputs": []
    },
    {
      "cell_type": "markdown",
      "metadata": {
        "id": "Brl99fSu_3Fs",
        "colab_type": "text"
      },
      "source": [
        "Como puede observarse en el heatmap anteriormente graficado, en general existe muy poca información para el análisis de pobreza. *Pocos* cuadrantes muestran tonalidades verdes, lo que implica que en *pocos* países se tienen más del 50% de los registros con datos."
      ]
    },
    {
      "cell_type": "code",
      "metadata": {
        "id": "mERH3TsmAs5F",
        "colab_type": "code",
        "colab": {}
      },
      "source": [
        "PovertyDataByCountry = PovertyDataByCountry.copy()\n",
        "plt.figure(figsize=(40, 20))\n",
        "sns.heatmap(PovertyDataByCountry, cbar=True, linewidths=.3, center=40, cmap=\"PRGn\", vmin=0, vmax=100)\n",
        "sns.set(font_scale=4)"
      ],
      "execution_count": null,
      "outputs": []
    },
    {
      "cell_type": "markdown",
      "metadata": {
        "id": "NcDJSviAA44g",
        "colab_type": "text"
      },
      "source": [
        "Con el propósito de comprender mejor la falta de datos, se realizó el hetmap anterior, donde se considera como centro 45. Implicando que aquellas combinaciones que tengan más del 45% de los registros con datos mostrarán tonalidades verdes.\n",
        "\n"
      ]
    },
    {
      "cell_type": "code",
      "metadata": {
        "colab_type": "code",
        "id": "gWz56qY9NuOr",
        "colab": {}
      },
      "source": [
        "_porc_paises_mas_50_pov = round((PovertyDataByCountry[PovertyDataByCountry>45].count()/len(poverty[\"Country Name\"].unique()))*100, 0).astype(int)\n",
        "print(\"El % de países que tienen más del 45% de los features con datos para cada año es: \\n\" + str(_porc_paises_mas_50_pov))"
      ],
      "execution_count": null,
      "outputs": []
    },
    {
      "cell_type": "code",
      "metadata": {
        "colab_type": "code",
        "id": "UOuQsOZVNuOx",
        "colab": {}
      },
      "source": [
        "PovertyByYear = pd.melt(poverty, id_vars = [\"features\", \"Indicator\" , \"Country Name\",\"Country Code\", \"Indicator Code\"])\n",
        "PovertyByYear[\"variable\"] = pd.to_numeric(PovertyByYear[\"variable\"] )\n",
        "PovertyByYear = PovertyByYear.rename(columns = {\"variable\": \"Year\"})\n",
        "PovertyByYear[\"Year\"] = PovertyByYear[\"Year\"].apply(lambda x: str(x)[:4])\n",
        "\n",
        "PovertyByYear"
      ],
      "execution_count": null,
      "outputs": []
    },
    {
      "cell_type": "markdown",
      "metadata": {
        "colab_type": "text",
        "id": "xLGpSPGcNuO2"
      },
      "source": [
        "Se modifica la estructura del dataset para poder analizar el porcentaje de registros con datos por país, por feature y por año, para decidir qué features considerar para cada país."
      ]
    },
    {
      "cell_type": "code",
      "metadata": {
        "colab_type": "code",
        "id": "iGoK4OmfNuPB",
        "colab": {}
      },
      "source": [
        "PovertyFeaturesByID = poverty.drop([\"Country Code\", \"Indicator\", \"features\"], axis=1)\n",
        "PovertyFeaturesByID = PovertyFeaturesByID.groupby([\"Country Name\", \"Indicator Code\"]).count()\n",
        "PovertyFeaturesByID[\"Porcentaje de Registros\"] = (PovertyFeaturesByID.sum(axis=1)/50)*100\n",
        "PovertyFeaturesByID = PovertyFeaturesByID[\"Porcentaje de Registros\"].reset_index().sort_values(by='Indicator Code', ascending=False)\n",
        "\n",
        "countries = poverty['Country Name'].drop_duplicates().to_list()\n",
        "\n",
        "for country in countries:\n",
        "    plt.figure(figsize=(20, 10))\n",
        "    sns.barplot(x=\"Indicator Code\", y=\"Porcentaje de Registros\", data=PovertyFeaturesByID[PovertyFeaturesByID[\"Country Name\"]== country], color = \"r\")\n",
        "    plt.xticks(fontsize=14, rotation=90)\n",
        "    plt.yticks(fontsize=14)\n",
        "    plt.xlabel('Indicator Code', fontsize=14)\n",
        "    plt.ylabel('Porcentaje con Datos', fontsize=14)\n",
        "    plt.title(\"Porcentaje con Datos por Indicador de \" + str(country) + \"\\n\", fontsize=16)\n",
        "    plt.gca().set_ylim(0,100)\n",
        "    plt.axhline(y=50,linewidth=1, color='black')\n"
      ],
      "execution_count": null,
      "outputs": []
    },
    {
      "cell_type": "code",
      "metadata": {
        "colab_type": "code",
        "id": "clOCFAspNuPH",
        "colab": {}
      },
      "source": [
        "#Se seleccionan del dataset solo aquellas columnas relevantes para el gráfico\n",
        "PovertyFeaturesByID = poverty.drop([\"Country Code\", \"Indicator\", \"features\"], axis=1)\n",
        "#Contamos todas las combinaciones existentes por país e indicator code para cada año\n",
        "PovertyFeaturesByID = PovertyFeaturesByID.groupby([\"Country Name\", \"Indicator Code\"]).count()\n",
        "#Sumamos las combinaciones de país e indicator code para todos los años, \n",
        "#Para luego, dado que la cantidad de años de análisis es 50, \n",
        "#obtener el porcentaje de registros por país e indicator code para todo el período en análisis\n",
        "PovertyFeaturesByID[\"Porcentaje de Registros\"] = (PovertyFeaturesByID.sum(axis=1)/50)*100\n",
        "#Para Facilitar la lectura del cuadro, se crea una columna que identifica si el % de registros es mayor o menor a 50%\n",
        "PovertyFeaturesByID[\"Mayor a 50%\"] = PovertyFeaturesByID[\"Porcentaje de Registros\"]>50\n",
        "#Ordenamos por Indicator Code, para seleccionar las mismas variables para todos los países, y, luego, en caso que algún\n",
        "# país no tenga más del 50% para algún feature, repetimos el proceso ordenando en base al % de registros.\n",
        "PovertyFeaturesByID = PovertyFeaturesByID[[\"Porcentaje de Registros\" , \"Mayor a 50%\"]].reset_index().sort_values(by='Indicator Code', ascending=False)\n",
        "countries = poverty['Country Name'].drop_duplicates()\n",
        "PovertyIDbyCountry = []\n",
        "for country in countries:\n",
        "       PovertyIDbyCountry.append( PovertyFeaturesByID.loc[PovertyFeaturesByID[\"Country Name\"]==country].iloc[0:15] )\n",
        "PovertyIDbyCountry"
      ],
      "execution_count": null,
      "outputs": []
    },
    {
      "cell_type": "markdown",
      "metadata": {
        "colab_type": "text",
        "id": "24-3QwUmNuPT"
      },
      "source": [
        "#### Funciones de Densidad por Feature para cada país"
      ]
    },
    {
      "cell_type": "markdown",
      "metadata": {
        "colab_type": "text",
        "id": "f1PlnLyANuPV"
      },
      "source": [
        "Para realizar los siguientes análisis, se construye un dataset que tenga solo las columnas relevantes de análisis y que solo considere los ID Features seleccionados en el paso anterior. "
      ]
    },
    {
      "cell_type": "code",
      "metadata": {
        "colab_type": "code",
        "id": "xCJsYmUiNuPV",
        "colab": {}
      },
      "source": [
        "PovertyIDFeatures = poverty[\"Indicator Code\"].unique()\n",
        "columns=poverty.columns\n",
        "PovertyData=poverty.drop([\"Indicator\", \"Country Code\", \"features\"], axis=1).rename(columns = lambda x : str(x)[:4] if x in columns[5:] else x)\n",
        "PovertyData=PovertyData[PovertyData[\"Indicator Code\"].isin(PovertyIDFeatures)]"
      ],
      "execution_count": null,
      "outputs": []
    },
    {
      "cell_type": "code",
      "metadata": {
        "colab_type": "code",
        "id": "gwlTbE-mNuPa",
        "colab": {}
      },
      "source": [
        "\n",
        "PovertyData=PovertyData.copy()\n",
        "PovertyDataMelt = pd.melt(PovertyData, id_vars = [\"Indicator Code\" , \"Country Name\"])\n",
        "PovertyDataMelt[\"variable\"] = pd.to_numeric(PovertyDataMelt[\"variable\"] )\n",
        "PovertyDataMelt = PovertyDataMelt.rename(columns = {\"variable\": \"Year\"})"
      ],
      "execution_count": null,
      "outputs": []
    },
    {
      "cell_type": "markdown",
      "metadata": {
        "colab_type": "text",
        "id": "8CrTKNzzNuPd"
      },
      "source": [
        "Se crea un dataset por país"
      ]
    },
    {
      "cell_type": "code",
      "metadata": {
        "colab_type": "code",
        "id": "MLBhl398NuPe",
        "colab": {}
      },
      "source": [
        "PovertyDataMelt = PovertyDataMelt.copy()\n",
        "\n",
        "arg_pov=PovertyDataMelt[PovertyDataMelt[\"Country Name\"]==\"Argentina\"]\n",
        "bra_pov=PovertyDataMelt[PovertyDataMelt[\"Country Name\"]==\"Brasil\"]\n",
        "ur_pov=PovertyDataMelt[PovertyDataMelt[\"Country Name\"]==\"Uruguay\"]\n",
        "par_pov=PovertyDataMelt[PovertyDataMelt[\"Country Name\"]==\"Paraguay\"]\n",
        "ven_pov=PovertyDataMelt[PovertyDataMelt[\"Country Name\"]==\"Venezuela\"]\n",
        "bol_pov=PovertyDataMelt[PovertyDataMelt[\"Country Name\"]==\"Bolivia\"]\n",
        "chi_pov=PovertyDataMelt[PovertyDataMelt[\"Country Name\"]==\"Chile\"]\n",
        "guy_pov=PovertyDataMelt[PovertyDataMelt[\"Country Name\"]==\"Guyana\"]\n",
        "sur_pov=PovertyDataMelt[PovertyDataMelt[\"Country Name\"]==\"Suriname\"]\n",
        "col_pov=PovertyDataMelt[PovertyDataMelt[\"Country Name\"]==\"Colombia\"]\n",
        "ecu_pov=PovertyDataMelt[PovertyDataMelt[\"Country Name\"]==\"Ecuador\"]\n",
        "per_pov=PovertyDataMelt[PovertyDataMelt[\"Country Name\"]==\"Perú\"]"
      ],
      "execution_count": null,
      "outputs": []
    },
    {
      "cell_type": "markdown",
      "metadata": {
        "colab_type": "text",
        "id": "2-Nku0ZaNuPi"
      },
      "source": [
        "Se grafican los histogramas para cada ID Features"
      ]
    },
    {
      "cell_type": "code",
      "metadata": {
        "colab_type": "code",
        "id": "oSVxzZJmNuPk",
        "colab": {}
      },
      "source": [
        "PovertyIDbyCountry = PovertyIDbyCountry.copy()\n",
        "PovertyIDFeatures = PovertyIDbyCountry[0][\"Indicator Code\"].unique()\n",
        "\n",
        "for PovertyIDFeatures in PovertyIDFeatures:\n",
        "    plt.figure(figsize=(13,6))\n",
        "    sns.distplot(arg_pov[arg_pov[\"Indicator Code\"]==PovertyIDFeatures][\"value\"], label=\"arg\", hist=False)\n",
        "    sns.distplot(bra_pov[bra_pov[\"Indicator Code\"]==PovertyIDFeatures][\"value\"], label=\"bra\", hist=False)\n",
        "    sns.distplot(ur_pov[ur_pov[\"Indicator Code\"]==PovertyIDFeatures][\"value\"], label=\"ur\", hist=False)\n",
        "    sns.distplot(par_pov[par_pov[\"Indicator Code\"]==PovertyIDFeatures][\"value\"], label=\"par\", hist=False)\n",
        "    sns.distplot(ven_pov[ven_pov[\"Indicator Code\"]==PovertyIDFeatures][\"value\"], label=\"ven\", hist=False)\n",
        "    sns.distplot(bol_pov[bol_pov[\"Indicator Code\"]==PovertyIDFeatures][\"value\"], label=\"bol\", hist=False)\n",
        "    sns.distplot(chi_pov[chi_pov[\"Indicator Code\"]==PovertyIDFeatures][\"value\"], label=\"chi\", hist=False)\n",
        "    sns.distplot(guy_pov[guy_pov[\"Indicator Code\"]==PovertyIDFeatures][\"value\"], label=\"guy\", hist=False)\n",
        "    sns.distplot(sur_pov[sur_pov[\"Indicator Code\"]==PovertyIDFeatures][\"value\"], label=\"sur\", hist=False)\n",
        "    sns.distplot(col_pov[col_pov[\"Indicator Code\"]==PovertyIDFeatures][\"value\"], label=\"col\", hist=False)\n",
        "    sns.distplot(ecu_pov[ecu_pov[\"Indicator Code\"]==PovertyIDFeatures][\"value\"], label=\"ecu\", hist=False)\n",
        "    sns.distplot(per_pov[per_pov[\"Indicator Code\"]==PovertyIDFeatures][\"value\"], label=\"per\", hist=False)\n",
        "    plt.title(\"Funciones de densidad \"+ str(PovertyIDFeatures) + \" por país\", fontsize=20)\n",
        "    plt.legend(loc='upper center', bbox_to_anchor=(1.4, 1), shadow=True, ncol=2, fontsize= 'xx-small')\n",
        "    plt.xticks(fontsize=16, rotation=90)\n",
        "    plt.yticks(fontsize=16)\n",
        "    plt.xlabel('Valor', fontsize=16)"
      ],
      "execution_count": null,
      "outputs": []
    },
    {
      "cell_type": "markdown",
      "metadata": {
        "colab_type": "text",
        "id": "IRACIhDSNuPp"
      },
      "source": [
        "A pesar de la falta de información, puede observarse que las distribuciones de cada feature en los diferentes países difiere bastante."
      ]
    },
    {
      "cell_type": "markdown",
      "metadata": {
        "colab_type": "text",
        "id": "oWFtfEl0NuPp"
      },
      "source": [
        "#### BoxPlot por Feature"
      ]
    },
    {
      "cell_type": "markdown",
      "metadata": {
        "id": "boTNsrGHGbe6",
        "colab_type": "text"
      },
      "source": [
        "Para profundizar el análisis llevado a cabo hasta ahora, se construyen Box Plot para cada feature por país."
      ]
    },
    {
      "cell_type": "code",
      "metadata": {
        "colab_type": "code",
        "id": "7hZVbYDmZgva",
        "colab": {}
      },
      "source": [
        "PovertyIDbyCountry = PovertyIDbyCountry.copy()\n",
        "PovertyIDFeatures = PovertyIDbyCountry[0][\"Indicator Code\"].unique()\n",
        "PovertyDataMelt = PovertyDataMelt.copy()\n",
        "\n",
        "for Features in PovertyIDFeatures:\n",
        "    plt.figure(figsize=(13,6))\n",
        "    sns.boxplot(data=PovertyDataMelt[PovertyDataMelt[\"Indicator Code\"]==Features], x=\"Country Name\", y=\"value\")\n",
        "    plt.title(\"Boxplot del feature \"+ str(Features) + \" por país\", fontsize=24)\n",
        "    plt.legend(loc='upper center', bbox_to_anchor=(1.4, 1), shadow=True)\n",
        "    plt.xticks(fontsize=16, rotation=90)\n",
        "    plt.yticks(fontsize=16)\n",
        "    plt.xlabel('País', fontsize=16)\n",
        "    plt.ylabel('Valor', fontsize=16)\n"
      ],
      "execution_count": null,
      "outputs": []
    },
    {
      "cell_type": "markdown",
      "metadata": {
        "colab_type": "text",
        "id": "L3JVsPQ5Zgvd"
      },
      "source": [
        "#### Series Temporales de los Features por País"
      ]
    },
    {
      "cell_type": "code",
      "metadata": {
        "colab_type": "code",
        "id": "Vp-jQkZnZgve",
        "colab": {}
      },
      "source": [
        "countries = poverty['Country Name'].drop_duplicates().to_list()\n",
        "PovertyDataMelt = PovertyDataMelt.copy()\n",
        "for country in countries:\n",
        "    plt.figure(figsize=(10,7))\n",
        "    sns.lineplot(data=PovertyDataMelt[PovertyDataMelt[\"Country Name\"]==country], x=\"Year\", y=\"value\", hue=\"Indicator Code\")\n",
        "    plt.title(\"Serie Temporal de los Indicadores en \" + str(country), fontsize=18)\n",
        "    sns.despine()\n",
        "    plt.xticks(fontsize=14, rotation=90)\n",
        "    plt.yticks(fontsize=14)\n",
        "    plt.xlabel('País', fontsize=14)\n",
        "    plt.ylabel('Valor', fontsize=14)\n",
        "    plt.legend(loc='upper center', bbox_to_anchor=(2, 1), shadow=True, ncol=2, fontsize= 'xx-small')"
      ],
      "execution_count": null,
      "outputs": []
    },
    {
      "cell_type": "markdown",
      "metadata": {
        "colab_type": "text",
        "id": "xRwHgbprZgvg"
      },
      "source": [
        "### Determinación de Año a Predecir"
      ]
    },
    {
      "cell_type": "markdown",
      "metadata": {
        "colab_type": "text",
        "id": "JqTnnDvdZgvg"
      },
      "source": [
        "Una vez seleccionados los indicadores a predecir por país para la dimensión de educación, se verifica que todos los indicadores seleccionados tengan información para el año 2019, para elegirlo como año prueba. Si no se cumple la condición, entonces, se replica el análisis para el año 2018, y se opta por considerarlo como año a predecir."
      ]
    },
    {
      "cell_type": "code",
      "metadata": {
        "colab_type": "code",
        "id": "2w_GPjbeZgvh",
        "colab": {}
      },
      "source": [
        "featureWOData_2019  = PovertyData[\"2019\"].isna().sum()\n",
        "POData_2019 = (featureWOData_2019/len(PovertyData[\"2019\"]))*100\n",
        "\n",
        "print(\"De las 15 features para Pobreza, el \\n\" + str(round(POData_2019, 2)) + \"% no posee información para el año 2019.\" )\n",
        "\n",
        "featureWOData_2018  = PovertyData[\"2018\"].isna().sum()\n",
        "\n",
        "POData_2018 = (featureWOData_2018/len(PovertyData[\"2018\"]))*100\n",
        "\n",
        "print(\"De las 15 features para Pobreza, el \\n\" + str(round(POData_2018, 2)) + \"% no posee información para el año 2018.\" )\n",
        "\n"
      ],
      "execution_count": null,
      "outputs": []
    },
    {
      "cell_type": "markdown",
      "metadata": {
        "colab_type": "text",
        "id": "9G5-Md95Zgvj"
      },
      "source": [
        "Teniendo el cuenta que para el año 2019 falta información, se decide seleccionar el año 2018."
      ]
    },
    {
      "cell_type": "markdown",
      "metadata": {
        "colab_type": "text",
        "id": "C8LcBJNLUsdJ"
      },
      "source": [
        "## MEDIO AMBIENTE"
      ]
    },
    {
      "cell_type": "markdown",
      "metadata": {
        "colab_type": "text",
        "id": "Mw7SbmwjUsdK"
      },
      "source": [
        "1. ¿Cuántos **tipos de Features diferentes** existen por indicador considerado? ¿Todos los países mantienen esa misma cantidad para el mismo indicador?"
      ]
    },
    {
      "cell_type": "code",
      "metadata": {
        "colab_type": "code",
        "id": "1LdWEbHjUsdL",
        "colab": {}
      },
      "source": [
        "print(\"El indicador de Medio Ambiente tiene \" + str(len(environment[\"features\"].unique())) + \" features.\")\n",
        "print(\"El análisis se lleva a cabo consdierando \" + str(len(environment[\"Country Name\"].unique())) + \" países.\")\n",
        "print(environment[\"Country Name\"].unique())"
      ],
      "execution_count": null,
      "outputs": []
    },
    {
      "cell_type": "code",
      "metadata": {
        "colab_type": "code",
        "id": "SbLWjd8_UsdO",
        "colab": {}
      },
      "source": [
        "countries = environment['Country Name'].unique()\n",
        "\n",
        "for countries in countries:\n",
        "    \n",
        "    print(\"La cantidad de features que posee \" + str(countries) + \": \" + str(environment[environment['Country Name']==countries]['features'].count()) )"
      ],
      "execution_count": null,
      "outputs": []
    },
    {
      "cell_type": "markdown",
      "metadata": {
        "colab_type": "text",
        "id": "icJrkKQbUsdQ"
      },
      "source": [
        "### Análisis por Feature para toda la Región"
      ]
    },
    {
      "cell_type": "markdown",
      "metadata": {
        "colab_type": "text",
        "id": "the_4AE4UsdQ"
      },
      "source": [
        "2.  ¿Cuál es la **proporción de valores nulos** para cada Feature dentro de cada Indicador con respecto al intervalo temporal considerado? ¿Estos valores nulos se encuentran dispersos a lo largo de todo el intervalo temporal o existen agrupamientos (más chicos y/o más grandes) de los mismos? ¿Qué decisión se podría tomar con respecto a los mismos en un futuro?\n",
        "3. ¿Cómo es la distribución de valores nulos por año (por columnas del dataset)?. Teniendo en cuenta que el objetivo final de la mentoría es realizar una predicción de cada Feature para el año 2019, ¿se disponen de datos suficientes para comparar las predicciones que se obtendrán con el valor real en ese año?"
      ]
    },
    {
      "cell_type": "code",
      "metadata": {
        "colab_type": "code",
        "id": "VOh9F_NXUsdR",
        "colab": {}
      },
      "source": [
        "print(\"Los features de Medio Ambiente que existen son los siguientes: \\n\", str(environment['features'].unique()))"
      ],
      "execution_count": null,
      "outputs": []
    },
    {
      "cell_type": "markdown",
      "metadata": {
        "colab_type": "text",
        "id": "y0h7OvadUsdT"
      },
      "source": [
        "Para llevar a cabo el análisis de los datos nulos, se construye una matriz por feature y por año en la que se muestra el porcentaje de registros existentes para cada combinación considerando toda la región."
      ]
    },
    {
      "cell_type": "code",
      "metadata": {
        "colab_type": "code",
        "id": "LGlyfA19UsdT",
        "colab": {}
      },
      "source": [
        "EnviroValuesByICode = environment.groupby(\"Indicator Code\").count().drop([\"Country Code\", \"Country Name\", \"Indicator\", \"features\"], axis=1)\n",
        "EnviroValuesByICode[\"Valor\"] = EnviroValuesByICode.sum(axis=1)\n",
        "EnviroValuesByICode = EnviroValuesByICode.sort_values(by=['Valor'], ascending=False)\n",
        "EnviroValuesByICode = ((EnviroValuesByICode/12)*100).drop(columns = [\"Valor\"])\n",
        "EnviroValuesByICode = EnviroValuesByICode.rename(columns = lambda x : str(x)[:4])\n",
        "round(EnviroValuesByICode,2)"
      ],
      "execution_count": null,
      "outputs": []
    },
    {
      "cell_type": "markdown",
      "metadata": {
        "colab_type": "text",
        "id": "prSJ_KqqUsdV"
      },
      "source": [
        "Se construye un mapa de calor para visualizar aquellas features con mayor porcentaje de registros, mientras mas oscuro el color menos proporción de registros hay para dicha combinación."
      ]
    },
    {
      "cell_type": "code",
      "metadata": {
        "colab_type": "code",
        "id": "7zPqKYsyUsdV",
        "colab": {}
      },
      "source": [
        "plt.figure(figsize=(60, 30))\n",
        "sns.heatmap(EnviroValuesByICode, cbar=True, linewidths=0.1,  vmin=0, vmax=100)\n",
        "sns.set(font_scale=4)"
      ],
      "execution_count": null,
      "outputs": []
    },
    {
      "cell_type": "markdown",
      "metadata": {
        "colab_type": "text",
        "id": "OudyuRfXUsdX"
      },
      "source": [
        "Como se observa en el grafico, durante el periodo de 1970 a 1990 para ciertos indicadores se concentra la mayor cantidad de nulos. Es importante destacar que desde el año 2009 hasta la actualidad empieza a crecer la cantidad de datos nulos de los indicadores. Para el año 2013 ya hay una gran cantidad de datos nulos que sigue creciendo hasta el punto en el cual no hay indicador que tenga informacion en el año 2019, lo que condicionará nuestra predicción."
      ]
    },
    {
      "cell_type": "code",
      "metadata": {
        "id": "0bSgn_U7i-la",
        "colab_type": "code",
        "colab": {}
      },
      "source": [
        "EnviroByYear = pd.melt(environment.drop([\"Country Code\", \"Country Name\", \"Indicator\", \"features\"], axis=1), id_vars = [\"Indicator Code\"])\n",
        "EnviroByYear[\"variable\"] = pd.to_numeric(EnviroByYear[\"variable\"] )\n",
        "EnviroByYear = EnviroByYear.rename(columns = {\"variable\": \"Year\"})\n",
        "TotalData_1990 = (EnviroByYear[\"Year\"]<1990).sum()\n",
        "WithData_1990 = ((EnviroByYear[\"Year\"]<1990) & (EnviroByYear[\"value\"]>0)).sum()\n",
        "\n",
        "print(\"El % de registros sin datos para el período de 1970 a 1990 es de: \\n\" +  str(round((1 - (WithData_1990/TotalData_1990))*100,2)) + \"%\") \n",
        "\n",
        "TotalData_2008 = ((1990<=EnviroByYear[\"Year\"])&(EnviroByYear[\"Year\"]<=2008)).sum()\n",
        "WithData_2008 = (((1990<=EnviroByYear[\"Year\"])&(EnviroByYear[\"Year\"]<=2008)) & (EnviroByYear[\"value\"]>0)).sum()\n",
        "\n",
        "print(\"El % de registros sin datos para el período de 1991 a 2008 es de: \\n\" +  str(round((1 - (WithData_2008/TotalData_2008))*100,2)) + \"%\") \n",
        "\n",
        "TotalData_2019 = (EnviroByYear[\"Year\"]>=2009).sum()\n",
        "WithData_2019 = ((EnviroByYear[\"Year\"]>=2009) & (EnviroByYear[\"value\"]>0)).sum()\n",
        "\n",
        "Check = len (EnviroByYear) == (TotalData_2019 + TotalData_2008 + TotalData_1990 )\n",
        "\n",
        "print(\"El % de registros sin datos para el período de 2009 a 2019 es de: \\n\" +  str(round((1 - (WithData_2019/TotalData_2019))*100,2)) + \"%\") "
      ],
      "execution_count": null,
      "outputs": []
    },
    {
      "cell_type": "markdown",
      "metadata": {
        "colab_type": "text",
        "id": "EK3pIarIUsdZ"
      },
      "source": [
        "Se seleccionan en un principio los 30 features con mas datos en toda la región:"
      ]
    },
    {
      "cell_type": "code",
      "metadata": {
        "colab_type": "code",
        "id": "o9lIHqMGUsdZ",
        "colab": {}
      },
      "source": [
        "EnviroByYear = EnviroByYear.reset_index()\n",
        "EnviroByYear[\"features\"] = EnviroByYear[\"Indicator Code\"]\n",
        "EnviroByYear[\"features\"] = EnviroByYear[\"features\"].map(environment.set_index(\"Indicator Code\")[\"features\"].to_dict())\n",
        "FeaturesEnviroSelection = EnviroByYear.iloc[0:15][[\"Indicator Code\", \"features\"]].set_index(\"Indicator Code\")\n",
        "FeaturesEnviroSelection"
      ],
      "execution_count": null,
      "outputs": []
    },
    {
      "cell_type": "markdown",
      "metadata": {
        "colab_type": "text",
        "id": "fZ2fpV-mUsdb"
      },
      "source": [
        "### Análisis por País para cada Feature"
      ]
    },
    {
      "cell_type": "markdown",
      "metadata": {
        "colab_type": "text",
        "id": "ssEJcED_Usdc"
      },
      "source": [
        "4. Volviendo a los resultados del punto 2, elegir como mínimo 15 Features por Indicador con al menos el 50% de valores no nulos (y en lo posible los mismos para todos los países) y mostrar gráficamente, con gráficos de distribución o de cajas por ejemplo, la distribución de los mismos. ¿Qué se puede observar de estas distribuciones? ¿Son normales? ¿Qué sucede con los outliers? ¿Observan alguna similitud entre los features elegidos?. Para estos mismos 15 Features realizar el gráfico de línea de su serie temporal y analizarlo."
      ]
    },
    {
      "cell_type": "markdown",
      "metadata": {
        "colab_type": "text",
        "id": "TAGIWSOvUsdc"
      },
      "source": [
        "Se construye una matriz para determinar cuál es el porcentaje de registros con datos considerando las 30 features seleccionadas por país y año. "
      ]
    },
    {
      "cell_type": "code",
      "metadata": {
        "colab_type": "code",
        "id": "9Pqq8XU7Usdc",
        "colab": {}
      },
      "source": [
        "EnviroIDCode = FeaturesEnviroSelection.reset_index()['Indicator Code'].to_list()\n",
        "RelevantFeaturesEnviro = environment[environment[\"Indicator Code\"].isin(EnviroIDCode)]\n",
        "\n",
        "EnviroDataByCountry = RelevantFeaturesEnviro.groupby(\"Country Name\").count().drop([\"features\", \"Indicator\", \"Country Code\", \"Indicator Code\"], axis=1)\n",
        "EnviroDataByCountry[\"Valor\"] = EnviroDataByCountry.sum(axis=1)\n",
        "EnviroDataByCountry = EnviroDataByCountry.sort_values(by=['Valor'], ascending=False)\n",
        "EnviroDataByCountry = ((EnviroDataByCountry/len(RelevantFeaturesEnviro[\"Indicator Code\"].unique()))*100).drop(columns = [\"Valor\"])\n",
        "EnviroDataByCountry = EnviroDataByCountry.rename(columns = lambda x : str(x)[:4])\n",
        "round(EnviroDataByCountry,2)"
      ],
      "execution_count": null,
      "outputs": []
    },
    {
      "cell_type": "code",
      "metadata": {
        "colab_type": "code",
        "id": "t4gmW0MHUsde",
        "colab": {}
      },
      "source": [
        "plt.figure(figsize=(40, 20))\n",
        "sns.heatmap(EnviroDataByCountry, cbar=True, linewidths=.3, vmin=0, vmax=100)\n",
        "sns.set(font_scale=4)"
      ],
      "execution_count": null,
      "outputs": []
    },
    {
      "cell_type": "markdown",
      "metadata": {
        "colab_type": "text",
        "id": "yk9LophnUsdg"
      },
      "source": [
        "Se realiza un heatmap considerando como centro el 50% de esta forma se puede visualizar cuáles son las combinaciones que tienen mas del 50% de registros con datos."
      ]
    },
    {
      "cell_type": "code",
      "metadata": {
        "colab_type": "code",
        "id": "gpd12A1PUsdg",
        "colab": {}
      },
      "source": [
        "plt.figure(figsize=(40, 20))\n",
        "sns.heatmap(EnviroDataByCountry, cbar=True, linewidths=.3, center=50, cmap=\"PRGn\")\n",
        "sns.set(font_scale=4)"
      ],
      "execution_count": null,
      "outputs": []
    },
    {
      "cell_type": "code",
      "metadata": {
        "colab_type": "code",
        "id": "s2XQQif6Usdh",
        "colab": {}
      },
      "source": [
        "_porc_paises_mas_50_env = round((EnviroDataByCountry[EnviroDataByCountry>50].count()/len(environment[\"Country Name\"].unique()))*100, 0).astype(int)\n",
        "\n",
        "print(\"El % de países que tienen más del 50% de los features con datos para cada año es: \\n\" + str(_porc_paises_mas_50_env))"
      ],
      "execution_count": null,
      "outputs": []
    },
    {
      "cell_type": "code",
      "metadata": {
        "colab_type": "code",
        "id": "oRIzrWfQUsdj",
        "colab": {}
      },
      "source": [
        "EnviroByYear = pd.melt(RelevantFeaturesEnviro, id_vars = [\"features\", \"Indicator\" , \"Country Name\",\"Country Code\", \"Indicator Code\"])\n",
        "EnviroByYear[\"variable\"] = pd.to_numeric(EnviroByYear[\"variable\"] )\n",
        "EnviroByYear = EnviroByYear.rename(columns = {\"variable\": \"Year\"})\n",
        "EnviroByYear[\"Year\"] = EnviroByYear[\"Year\"].apply(lambda x: str(x)[:4])\n",
        "\n",
        "EnviroByYear"
      ],
      "execution_count": null,
      "outputs": []
    },
    {
      "cell_type": "markdown",
      "metadata": {
        "colab_type": "text",
        "id": "SMjQlSeLUsdl"
      },
      "source": [
        "A partir de 1991, todos los paises en análisis tienen información para más del 50% de los features relevantes. Esto se evidencia en el heatmap, donde aquellas combinaciones con más del 50% de registros se muestran en diferentes tonalidades de verdes. A partir del 2015 abundan las conmbinaciones que no alcanzan el 50% de los registros, lo que se visualiza al irse perdiendo el color verde y apareciendo las diferentes tonalidades de violeta."
      ]
    },
    {
      "cell_type": "markdown",
      "metadata": {
        "colab_type": "text",
        "id": "gmT_NH7_Usdr"
      },
      "source": [
        "Se modifica la estructura del dataset para poder analizar el porcentaje de registros con datos por país, por feature y por año, para decidir qué features considerar para cada país."
      ]
    },
    {
      "cell_type": "code",
      "metadata": {
        "colab_type": "code",
        "id": "wCdQ31iVUsdr",
        "colab": {}
      },
      "source": [
        "RelevantFeaturesByID = RelevantFeaturesEnviro.drop([\"Country Code\", \"Indicator\", \"features\"], axis=1)\n",
        "RelevantFeaturesByID = RelevantFeaturesByID.groupby([\"Country Name\", \"Indicator Code\"]).count()\n",
        "RelevantFeaturesByID[\"Porcentaje de Registros\"] = (RelevantFeaturesByID.sum(axis=1)/50)*100\n",
        "# RelevantFeaturesByID = RelevantFeaturesByID[\"Porcentaje de Registros\"].reset_index().sort_values(by='Porcentaje de Registros', ascending=True)\n",
        "RelevantFeaturesByID = RelevantFeaturesByID[\"Porcentaje de Registros\"].reset_index().sort_values(by='Indicator Code', ascending=False)\n",
        "\n",
        "countries = environment['Country Name'].drop_duplicates().to_list()\n",
        "for countries in countries:\n",
        "    plt.figure(figsize=(20, 10))\n",
        "    sns.barplot(x=\"Indicator Code\", y=\"Porcentaje de Registros\", data=RelevantFeaturesByID[RelevantFeaturesByID[\"Country Name\"]== countries], color = \"r\")\n",
        "    plt.xticks(fontsize=14, rotation=90)\n",
        "    plt.yticks(fontsize=14)\n",
        "    plt.xlabel('Indicator Code', fontsize=14)\n",
        "    plt.ylabel('Porcentaje con Datos', fontsize=14)\n",
        "    plt.title(\"Porcentaje con Datos por Indicador de \" + str(countries) + \"\\n\", fontsize=16)\n",
        "    plt.axhline(y=50,linewidth=1, color='black')\n"
      ],
      "execution_count": null,
      "outputs": []
    },
    {
      "cell_type": "code",
      "metadata": {
        "colab_type": "code",
        "id": "DUdkSMzAUsdu",
        "colab": {}
      },
      "source": [
        "#Se seleccionan del dataset solo aquellas columnas relevantes para el gráfico\n",
        "EnviroRelevantFeaturesByID = RelevantFeaturesEnviro.drop([\"Country Code\", \"Indicator\", \"features\"], axis=1)\n",
        "#Contamos todas las combinaciones existentes por país e indicator code para cada año\n",
        "EnviroRelevantFeaturesByID = EnviroRelevantFeaturesByID.groupby([\"Country Name\", \"Indicator Code\"]).count()\n",
        "#Sumamos las combinaciones de país e indicator code para todos los años, \n",
        "#Para luego, dado que la cantidad de años de análisis es 50, \n",
        "#obtener el porcentaje de registros por país e indicator code para todo el período en análisis\n",
        "EnviroRelevantFeaturesByID[\"Porcentaje de Registros\"] = (EnviroRelevantFeaturesByID.sum(axis=1)/50)*100\n",
        "#Para Facilitar la lectura del cuadro, se crea una columna que identifica si el % de registros es mayor o menor a 50%\n",
        "EnviroRelevantFeaturesByID[\"Mayor a 50%\"] = EnviroRelevantFeaturesByID[\"Porcentaje de Registros\"]>50\n",
        "#Ordenamos por Indicator Code, para seleccionar las mismas variables para todos los países, y, luego, en caso que algún\n",
        "# país no tenga más del 50% para algún feature, repetimos el proceso ordenando en base al % de registros.\n",
        "EnviroRelevantFeaturesByID = EnviroRelevantFeaturesByID[[\"Porcentaje de Registros\" , \"Mayor a 50%\"]].reset_index().sort_values(by='Indicator Code', ascending=False)\n",
        "countries = environment['Country Name'].drop_duplicates()\n",
        "EnviroIDbyCountry = []\n",
        "for countries in countries:\n",
        "       EnviroIDbyCountry.append( EnviroRelevantFeaturesByID.loc[EnviroRelevantFeaturesByID[\"Country Name\"]==countries].iloc[0:15] )\n",
        "EnviroIDbyCountry"
      ],
      "execution_count": null,
      "outputs": []
    },
    {
      "cell_type": "markdown",
      "metadata": {
        "id": "gS3NDMdoB6D8",
        "colab_type": "text"
      },
      "source": [
        "De la salida anterior se desprende que no todos los features seleccionados posee más del 50% de datos para todos los países. En particular, para Paraguay, Venezuela, Guyana y Suriname tendremos que considerar features adicionales. Se prosigue armando una lista general que contenga la lista de features anterior con algunos adicionales en funcion de los features con más datos para estos ultimos países."
      ]
    },
    {
      "cell_type": "code",
      "metadata": {
        "id": "h9XyW40tG6fg",
        "colab_type": "code",
        "colab": {}
      },
      "source": [
        "# Buscamos primeros 15 features con mas datos para Paraguay\n",
        "\n",
        "ParEnviroValuesByICode = environment[environment[\"Country Name\"]==\"Paraguay\"].groupby(\"Indicator Code\").count().drop([\"Country Code\", \"Indicator\", \"features\"], axis=1)\n",
        "ParEnviroValuesByICode[\"Valor\"] = ParEnviroValuesByICode.sum(axis=1)\n",
        "ParEnviroValuesByICode = ParEnviroValuesByICode.sort_values(by=['Valor'], ascending=False)\n",
        "ParEnviroValuesByICode = ((ParEnviroValuesByICode/12)*100).drop(columns = [\"Valor\"])\n",
        "ParEnviroValuesByICode = ParEnviroValuesByICode.rename(columns = lambda x : str(x)[:4])\n",
        "\n",
        "ParEnviroValuesByICode.reset_index().iloc[0:15][\"Indicator Code\"].to_list()"
      ],
      "execution_count": null,
      "outputs": []
    },
    {
      "cell_type": "code",
      "metadata": {
        "id": "rVkNyIPFHsq_",
        "colab_type": "code",
        "colab": {}
      },
      "source": [
        "# Buscamos primeros 15 features con mas datos para Venezuela\n",
        "\n",
        "VenEnviroValuesByICode = environment[environment[\"Country Name\"]==\"Venezuela\"].groupby(\"Indicator Code\").count().drop([\"Country Code\", \"Indicator\", \"features\"], axis=1)\n",
        "VenEnviroValuesByICode[\"Valor\"] = VenEnviroValuesByICode.sum(axis=1)\n",
        "VenEnviroValuesByICode = VenEnviroValuesByICode.sort_values(by=['Valor'], ascending=False)\n",
        "VenEnviroValuesByICode = ((VenEnviroValuesByICode/12)*100).drop(columns = [\"Valor\"])\n",
        "VenEnviroValuesByICode = VenEnviroValuesByICode.rename(columns = lambda x : str(x)[:4])\n",
        "\n",
        "VenEnviroValuesByICode.reset_index().iloc[0:15][\"Indicator Code\"].to_list()"
      ],
      "execution_count": null,
      "outputs": []
    },
    {
      "cell_type": "code",
      "metadata": {
        "id": "SxBFTiVxHLBu",
        "colab_type": "code",
        "colab": {}
      },
      "source": [
        "# Buscamos primeros 15 features con mas datos para Guyana\n",
        "\n",
        "GuyEnviroValuesByICode = environment[environment[\"Country Name\"]==\"Guyana\"].groupby(\"Indicator Code\").count().drop([\"Country Code\", \"Indicator\", \"features\"], axis=1)\n",
        "GuyEnviroValuesByICode[\"Valor\"] = GuyEnviroValuesByICode.sum(axis=1)\n",
        "GuyEnviroValuesByICode = GuyEnviroValuesByICode.sort_values(by=['Valor'], ascending=False)\n",
        "GuyEnviroValuesByICode = ((GuyEnviroValuesByICode/12)*100).drop(columns = [\"Valor\"])\n",
        "GuyEnviroValuesByICode = GuyEnviroValuesByICode.rename(columns = lambda x : str(x)[:4])\n",
        "\n",
        "GuyEnviroValuesByICode.reset_index().iloc[0:15][\"Indicator Code\"].to_list()"
      ],
      "execution_count": null,
      "outputs": []
    },
    {
      "cell_type": "code",
      "metadata": {
        "id": "4ugts_55H4Tu",
        "colab_type": "code",
        "colab": {}
      },
      "source": [
        "# Buscamos primeros 15 features con mas datos para Suriname\n",
        "\n",
        "SurEnviroValuesByICode = environment[environment[\"Country Name\"]==\"Suriname\"].groupby(\"Indicator Code\").count().drop([\"Country Code\", \"Indicator\", \"features\"], axis=1)\n",
        "SurEnviroValuesByICode[\"Valor\"] = SurEnviroValuesByICode.sum(axis=1)\n",
        "SurEnviroValuesByICode = SurEnviroValuesByICode.sort_values(by=['Valor'], ascending=False)\n",
        "SurEnviroValuesByICode = ((SurEnviroValuesByICode/12)*100).drop(columns = [\"Valor\"])\n",
        "SurEnviroValuesByICode = SurEnviroValuesByICode.rename(columns = lambda x : str(x)[:4])\n",
        "\n",
        "SurEnviroValuesByICode.reset_index().iloc[0:15][\"Indicator Code\"].to_list()"
      ],
      "execution_count": null,
      "outputs": []
    },
    {
      "cell_type": "markdown",
      "metadata": {
        "id": "RAWzNfsxKX3B",
        "colab_type": "text"
      },
      "source": [
        "Como Paraguay tenía 8 False, deberiamos agregar 8 features por él. Visualizando sus primeros 15 features con más datos, que no coincidan con la lista original, elegimos los siguientes: \n",
        "\"AG.LND.TOTL.K2\", \n",
        "\"AG.SRF.TOTL.K2\", \n",
        "\"NY.ADJ.DKAP.CD'\", \n",
        "\"NY.ADJ.AEDU.GN.ZS\", \n",
        "\"NY.ADJ.DCO2.CD\", \n",
        "\"NY.ADJ.DFOR.CD\", \n",
        "\"NY.ADJ.DMIN.CD\", \n",
        "\"ER.FSH.PROD.MT\".\n",
        "\n",
        "Venezuela debería agregar 4 features, y dentro de su lista se encuentran features coincidentes con los de Paraguay, de manera que no agregamos ningun extra por el. En el caso de Guyana deberiamos agregar dos y sucede lo mismo que antes, de modo que tampoco agregamos ninguno por el. \n",
        "\n",
        "En el caso de Suriname, por su parte, deberiamos agregar 8 features. Visualizando sus primeros 15 features con más datos se observa que 7 de ellos coinciden con los de Paraguay. Consecuentemente, solo debemos agregar 1 y se escoje:\n",
        "\"NY.ADJ.AEDU.CD\""
      ]
    },
    {
      "cell_type": "code",
      "metadata": {
        "colab_type": "code",
        "id": "j1DPNqf4Usdv",
        "colab": {}
      },
      "source": [
        "#Se definen los features seleccionados\n",
        "\n",
        "EnviroIDbyCountry = EnviroIDbyCountry.copy()\n",
        "EnviroIDFeatures = EnviroIDbyCountry[0][\"Indicator Code\"].to_list() +  [ \"AG.LND.TOTL.K2\", \"AG.SRF.TOTL.K2\", \"NY.ADJ.DKAP.CD'\", \"NY.ADJ.AEDU.GN.ZS\", \"NY.ADJ.DCO2.CD\", \"NY.ADJ.DFOR.CD\", \"NY.ADJ.DMIN.CD\", \"ER.FSH.PROD.MT\", \"NY.ADJ.AEDU.CD\"]\n",
        "EnviroIDFeatures"
      ],
      "execution_count": null,
      "outputs": []
    },
    {
      "cell_type": "code",
      "metadata": {
        "id": "Dx_kDWErsbAA",
        "colab_type": "code",
        "colab": {}
      },
      "source": [
        "print(\"Asignación de ID Code elegidos con su respectivo feature.\" )\n",
        "environment[environment[\"Indicator Code\"].isin(EnviroIDFeatures)][[\"Indicator Code\", \"features\"]].drop_duplicates().reset_index().drop(columns=[\"index\"])"
      ],
      "execution_count": null,
      "outputs": []
    },
    {
      "cell_type": "markdown",
      "metadata": {
        "colab_type": "text",
        "id": "3XnnXdcyUsdz"
      },
      "source": [
        "#### Funciones de Densidad por Feature para cada país"
      ]
    },
    {
      "cell_type": "markdown",
      "metadata": {
        "colab_type": "text",
        "id": "3sQEWkcRUsd0"
      },
      "source": [
        "Para realizar los siguientes análisis, se construye un dataset que tenga solo las columnas relevantes de análisis y que solo considere los ID Features seleccionados en el paso anterior. "
      ]
    },
    {
      "cell_type": "code",
      "metadata": {
        "colab_type": "code",
        "id": "co5n_jmHUsd0",
        "colab": {}
      },
      "source": [
        "columns=environment.columns\n",
        "EnviroData=environment.drop([\"Indicator\", \"Country Code\", \"features\"], axis=1).rename(columns = lambda x : str(x)[:4] if x in columns[5:] else x)\n",
        "EnviroData=EnviroData[EnviroData[\"Indicator Code\"].isin(EnviroIDFeatures)]"
      ],
      "execution_count": null,
      "outputs": []
    },
    {
      "cell_type": "code",
      "metadata": {
        "colab_type": "code",
        "id": "mlo0R773Usd2",
        "colab": {}
      },
      "source": [
        "EnviroDataMelt = pd.melt(EnviroData, id_vars = [\"Indicator Code\" , \"Country Name\"])\n",
        "EnviroDataMelt[\"variable\"] = pd.to_numeric(EnviroDataMelt[\"variable\"] )\n",
        "EnviroDataMelt = EnviroDataMelt.rename(columns = {\"variable\": \"Year\"})"
      ],
      "execution_count": null,
      "outputs": []
    },
    {
      "cell_type": "markdown",
      "metadata": {
        "colab_type": "text",
        "id": "VvGhrKzEUsd3"
      },
      "source": [
        "Se crea un dataset por país"
      ]
    },
    {
      "cell_type": "code",
      "metadata": {
        "colab_type": "code",
        "id": "QH8hTXcsUsd4",
        "colab": {}
      },
      "source": [
        "arg_env=EnviroDataMelt[EnviroDataMelt[\"Country Name\"]==\"Argentina\"]\n",
        "bra_env=EnviroDataMelt[EnviroDataMelt[\"Country Name\"]==\"Brasil\"]\n",
        "ur_env=EnviroDataMelt[EnviroDataMelt[\"Country Name\"]==\"Uruguay\"]\n",
        "par_env=EnviroDataMelt[EnviroDataMelt[\"Country Name\"]==\"Paraguay\"]\n",
        "ven_env=EnviroDataMelt[EnviroDataMelt[\"Country Name\"]==\"Venezuela\"]\n",
        "bol_env=EnviroDataMelt[EnviroDataMelt[\"Country Name\"]==\"Bolivia\"]\n",
        "chi_env=EnviroDataMelt[EnviroDataMelt[\"Country Name\"]==\"Chile\"]\n",
        "guy_env=EnviroDataMelt[EnviroDataMelt[\"Country Name\"]==\"Guyana\"]\n",
        "sur_env=EnviroDataMelt[EnviroDataMelt[\"Country Name\"]==\"Suriname\"]\n",
        "col_env=EnviroDataMelt[EnviroDataMelt[\"Country Name\"]==\"Colombia\"]\n",
        "ecu_env=EnviroDataMelt[EnviroDataMelt[\"Country Name\"]==\"Ecuador\"]\n",
        "per_env=EnviroDataMelt[EnviroDataMelt[\"Country Name\"]==\"Perú\"]"
      ],
      "execution_count": null,
      "outputs": []
    },
    {
      "cell_type": "markdown",
      "metadata": {
        "colab_type": "text",
        "id": "sVDeiFuxUsd5"
      },
      "source": [
        "Se grafican los histogramas para cada ID Features"
      ]
    },
    {
      "cell_type": "code",
      "metadata": {
        "colab_type": "code",
        "id": "YIvL-R1cUsd5",
        "colab": {}
      },
      "source": [
        "for Features in EnviroIDFeatures:\n",
        "    plt.figure(figsize=(13,6))\n",
        "    sns.distplot(arg_env[arg_env[\"Indicator Code\"]==Features][\"value\"], label=\"arg\", hist=False)\n",
        "    sns.distplot(bra_env[bra_env[\"Indicator Code\"]==Features][\"value\"], label=\"bra\", hist=False)\n",
        "    sns.distplot(ur_env[ur_env[\"Indicator Code\"]==Features][\"value\"], label=\"ur\", hist=False)\n",
        "    sns.distplot(par_env[par_env[\"Indicator Code\"]==Features][\"value\"], label=\"par\", hist=False)\n",
        "    sns.distplot(ven_env[ven_env[\"Indicator Code\"]==Features][\"value\"], label=\"ven\", hist=False)\n",
        "    sns.distplot(bol_env[bol_env[\"Indicator Code\"]==Features][\"value\"], label=\"bol\", hist=False)\n",
        "    sns.distplot(chi_env[chi_env[\"Indicator Code\"]==Features][\"value\"], label=\"chi\", hist=False)\n",
        "    sns.distplot(guy_env[guy_env[\"Indicator Code\"]==Features][\"value\"], label=\"guy\", hist=False)\n",
        "    sns.distplot(sur_env[sur_env[\"Indicator Code\"]==Features][\"value\"], label=\"sur\", hist=False)\n",
        "    sns.distplot(col_env[col_env[\"Indicator Code\"]==Features][\"value\"], label=\"col\", hist=False)\n",
        "    sns.distplot(ecu_env[ecu_env[\"Indicator Code\"]==Features][\"value\"], label=\"ecu\", hist=False)\n",
        "    sns.distplot(per_env[per_env[\"Indicator Code\"]==Features][\"value\"], label=\"per\", hist=False)\n",
        "    plt.title(\"Funciones de densidad \"+ str(Features) + \" por país\", fontsize=20)\n",
        "    plt.legend(loc='upper center', bbox_to_anchor=(1.4, 1), shadow=True, ncol=2, fontsize= 'xx-small')\n",
        "    plt.xticks(fontsize=16, rotation=90)\n",
        "    plt.yticks(fontsize=16)\n",
        "    plt.xlabel('Valor', fontsize=16)\n",
        "    "
      ],
      "execution_count": null,
      "outputs": []
    },
    {
      "cell_type": "markdown",
      "metadata": {
        "colab_type": "text",
        "id": "RXtwkluQUsd7"
      },
      "source": [
        "En el caso de Environment, no se observa una heterogeneidad tan grande entre las distribuciones de las features entre países como para otros indicadores. Sin embargo, existen algunas diferencias para casos particulares de features. El país de la región que pareciera tener un comportamiento sustanciamente distinto al de sus pares de la región para muchos features es Suriname."
      ]
    },
    {
      "cell_type": "markdown",
      "metadata": {
        "colab_type": "text",
        "id": "xeEVNuhEUsd7"
      },
      "source": [
        "#### BoxPlot por Feature"
      ]
    },
    {
      "cell_type": "markdown",
      "metadata": {
        "colab_type": "text",
        "id": "r7Hb60ayUsd8"
      },
      "source": [
        "Para profundizar el análisis llevado a cabo hasta ahora, se construyen Box Plot para cada feature por país. "
      ]
    },
    {
      "cell_type": "code",
      "metadata": {
        "id": "YZ0EZbE86NPw",
        "colab_type": "code",
        "colab": {}
      },
      "source": [
        "EnviroIDbyCountry = EnviroIDbyCountry.copy()\n",
        "EnviroIDFeatures = EnviroIDbyCountry[0][\"Indicator Code\"].unique()\n",
        "EnviroDataMelt = EnviroDataMelt.copy()\n",
        "\n",
        "for Features in EnviroIDFeatures:\n",
        "    plt.figure(figsize=(13,6))\n",
        "    sns.boxplot(data=EnviroDataMelt[EnviroDataMelt[\"Indicator Code\"]==Features], x=\"Country Name\", y=\"value\")\n",
        "    plt.title(\"Boxplot del feature \"+ str(Features) + \" por país\", fontsize=24)\n",
        "    plt.xticks(fontsize=16, rotation=90)\n",
        "    plt.yticks(fontsize=16)\n",
        "    plt.xlabel('País', fontsize=16)\n",
        "    plt.ylabel('Valor', fontsize=16)"
      ],
      "execution_count": null,
      "outputs": []
    },
    {
      "cell_type": "markdown",
      "metadata": {
        "id": "HqVdm23J7H0C",
        "colab_type": "text"
      },
      "source": [
        "El analisis del boxplot permite observar las grandes diferencias que existen entre países para muchos de los features en cuanto a sus medidas de posición. Algunos países presentan un gran rango de datos y otros países tienen mayor concentración de los mismos, dependiendo del feature particular. Brasil, Bolivia y Venezuela en general son países de mayor dispersión de datos, respecto a otros como Argentina o Uruguay que para ningún feature presentan gran variabilidad. "
      ]
    },
    {
      "cell_type": "markdown",
      "metadata": {
        "id": "tiVK0kus9C_E",
        "colab_type": "text"
      },
      "source": [
        "#### Series Temporales de los Features por País"
      ]
    },
    {
      "cell_type": "code",
      "metadata": {
        "id": "Zku__slP9Rkf",
        "colab_type": "code",
        "colab": {}
      },
      "source": [
        "countries = environment['Country Name'].drop_duplicates().to_list()\n",
        "\n",
        "for country in countries:\n",
        "    plt.figure(figsize=(10,7))\n",
        "    sns.lineplot(data=EnviroDataMelt[EnviroDataMelt[\"Country Name\"]==country], x=\"Year\", y=\"value\", hue=\"Indicator Code\")\n",
        "    plt.title(\"Serie Temporal de los Indicadores en \" + str(country), fontsize=18)\n",
        "    sns.despine()\n",
        "    plt.xticks(fontsize=14, rotation=90)\n",
        "    plt.yticks(fontsize=14)\n",
        "    plt.xlabel('País', fontsize=14)\n",
        "    plt.ylabel('Valor', fontsize=14)\n",
        "    plt.legend(loc='upper center', bbox_to_anchor=(2, 1), shadow=True, ncol=2, fontsize= 'xx-small')"
      ],
      "execution_count": null,
      "outputs": []
    },
    {
      "cell_type": "markdown",
      "metadata": {
        "id": "lwndvY607-oc",
        "colab_type": "text"
      },
      "source": [
        "### Determinación del Año a Predecir"
      ]
    },
    {
      "cell_type": "markdown",
      "metadata": {
        "id": "cfc-FPHN-H5P",
        "colab_type": "text"
      },
      "source": [
        "Una vez seleccionados los indicadores a predecir por país para la dimensión de educación, se verifica que todos los indicadores seleccionados tengan información para el año 2019, para elegirlo como año prueba. Si no se cumple la condición, entonces, se replica el análisis para años anteriores hasta encontrar un año con la totalidad de datos."
      ]
    },
    {
      "cell_type": "code",
      "metadata": {
        "id": "N7GECdHU-HeR",
        "colab_type": "code",
        "colab": {}
      },
      "source": [
        "featureWOData_2019_Env  = EnviroData[\"2019\"].isna().sum()\n",
        "Data_2019_Env = (featureWOData_2019_Env/len(EnviroData[\"2019\"]))*100\n",
        "print(\"De las features seleccionadas para medio ambiente, el \" + str(round(Data_2019_Env, 2)) + \"% no posee información para el año 2019.\" )\n",
        "\n",
        "featureWOData_2018_Env  = EnviroData[\"2018\"].isna().sum()\n",
        "Data_2018_Env = (featureWOData_2018_Env/len(EnviroData[\"2018\"]))*100\n",
        "print(\"De las features seleccionadas para medio ambiente, el \" + str(Data_2018_Env) + \"% no posee información para el año 2018.\" )\n",
        "\n",
        "featureWOData_2017_Env  = EnviroData[\"2017\"].isna().sum()\n",
        "Data_2017_Env = (featureWOData_2017_Env/len(EnviroData[\"2017\"]))*100\n",
        "print(\"De las features seleccionadas para medio ambiente, el \" + str(Data_2017_Env) + \"% no posee información para el año 2017.\" )\n"
      ],
      "execution_count": null,
      "outputs": []
    },
    {
      "cell_type": "markdown",
      "metadata": {
        "id": "9bJbDWVyA0wQ",
        "colab_type": "text"
      },
      "source": [
        "En este caso convendría estimar el año 2018."
      ]
    },
    {
      "cell_type": "markdown",
      "metadata": {
        "id": "dXD3rh9uGiOk",
        "colab_type": "text"
      },
      "source": [
        "## ANÁLISIS GENERAL"
      ]
    },
    {
      "cell_type": "markdown",
      "metadata": {
        "id": "3qlWDegGaBdP",
        "colab_type": "text"
      },
      "source": [
        "### Selección de 5 features preferidos"
      ]
    },
    {
      "cell_type": "markdown",
      "metadata": {
        "id": "BcTiRl_ChQCM",
        "colab_type": "text"
      },
      "source": [
        "Elegir un Indicador de su interés y 5 features relacionados al mismo, también de su interés, y trazar la serie temporal sus valores a lo largo de los años. ¿Se observa alguna tendencia o algún patrón que se repite cada tanto?\n",
        "\n"
      ]
    },
    {
      "cell_type": "code",
      "metadata": {
        "id": "DfnkUgC-J48C",
        "colab_type": "code",
        "colab": {}
      },
      "source": [
        "# Seleccion de las features de interés\n",
        "preferred_features_list=[\"Tasa de mortalidad, adultos, mujeres (por cada 1.000 mujeres adultas)\", \"Tasa de mortalidad, adultos, varones (por cada 1.000 varones adultos)\",\n",
        "                         \"Tasa de incidencia de la pobreza, sobre la base de la línea de pobreza nacional (% de la población)\",\n",
        "                         'Desempleo, varones (% de la población activa masculina) (estimación modelado OIT)',\n",
        "                         'Desempleo, mujeres (% de la población activa femenina) (estimación modelado OIT)']\n",
        "preferred_features_list"
      ],
      "execution_count": null,
      "outputs": []
    },
    {
      "cell_type": "code",
      "metadata": {
        "id": "EaMtk5JhMweX",
        "colab_type": "code",
        "colab": {}
      },
      "source": [
        "#Se construye dataset para graficar heatmap\n",
        "AllValuesByICode = dataset[dataset[\"features\"].isin(preferred_features_list)]\n",
        "AllValuesByICode = AllValuesByICode.drop([\"Indicator\", \"Indicator Code\", \"Country Code\", \"Country Name\"], axis=1).drop_duplicates()\n",
        "AllValuesByICode = AllValuesByICode.groupby(\"features\").count()\n",
        "AllValuesByICode[\"Valor\"] = AllValuesByICode.sum(axis=1)\n",
        "AllValuesByICode = ((AllValuesByICode/12)*100).drop(columns = [\"Valor\"])\n",
        "AllValuesByICode = AllValuesByICode.rename(columns = lambda x : str(x)[:4])\n",
        "AllValuesByICode = round(AllValuesByICode,2)\n",
        "\n",
        "# Se cambia acorta el nombre de de los features para una mejor visualización\n",
        "AllValuesByICode = AllValuesByICode.rename(index={ \"Tasa de mortalidad, adultos, mujeres (por cada 1.000 mujeres adultas)\": \"Tasa de mortalidad, Mujeres\" ,\n",
        "                         \"Tasa de mortalidad, adultos, varones (por cada 1.000 varones adultos)\" : \"Tasa de mortalidad, Varones\" ,\n",
        "                         \"Tasa de incidencia de la pobreza, sobre la base de la línea de pobreza nacional (% de la población)\" : \"Tasa de incidencia de la pobreza\" ,\n",
        "                         \"Desempleo, varones (% de la población activa masculina) (estimación modelado OIT)\" : \"Desempleo, Varones\",\n",
        "                         \"Desempleo, mujeres (% de la población activa femenina) (estimación modelado OIT)\": \"Desempleo, Mujeres\"}, inplace=False)"
      ],
      "execution_count": null,
      "outputs": []
    },
    {
      "cell_type": "code",
      "metadata": {
        "id": "alsONMaHM_3j",
        "colab_type": "code",
        "colab": {}
      },
      "source": [
        "plt.figure(figsize=(40, 20))\n",
        "sns.heatmap(AllValuesByICode, cbar=True, linewidths=.3, center=50, cmap=\"PRGn\")\n",
        "sns.set(font_scale=4)"
      ],
      "execution_count": null,
      "outputs": []
    },
    {
      "cell_type": "markdown",
      "metadata": {
        "id": "xX2dv0n0WPwy",
        "colab_type": "text"
      },
      "source": [
        "De los 5 features seleccionados, puede observarse que:\n",
        "* La **tasa de mortalidad por género**, tiene información para todos los países en todo el periódo de análisis.\n",
        "\n",
        "* La **tasa de desempleo por género**, empieza a medirse recién a partir de 1990.\n",
        "\n",
        "* La **tasa de incidencia de la pobreza**, empieza medirse en algunos países a partir de 1997. Durante el período de 1970-1997 no existe información de la incidencia de la pobreza en los países del Mercosur.\n",
        "\n",
        "Esto implica que aquellos indicadores seleccionados relacionados a cuestiones socio-económicas empezaron a medirse oficialmente mas tarde que los indicadores demográficos  y de salud.\n",
        "\n",
        "\n"
      ]
    },
    {
      "cell_type": "code",
      "metadata": {
        "id": "9h64hDluPwUG",
        "colab_type": "code",
        "colab": {}
      },
      "source": [
        "# Se modifica la estructura del dataset para poder graficarlo\n",
        "\n",
        "preferred_features_dataset = dataset.drop([\"Indicator\", \"Country Code\", \"Indicator Code\"], axis=1).rename(columns = lambda x : str(x)[:4] if x in columns[5:] else x)\n",
        "preferred_features_dataset_alt = pd.melt(preferred_features_dataset[preferred_features_dataset[\"features\"].isin(preferred_features_list)], id_vars = [\"features\" , \"Country Name\"])\n",
        "preferred_features_dataset_alt[\"variable\"] = pd.to_numeric(preferred_features_dataset_alt[\"variable\"] )\n",
        "preferred_features_dataset_alt = preferred_features_dataset_alt.rename(columns = {\"variable\": \"Year\"})\n",
        "\n",
        "# Se eliminan las combinaciones repetidas\n",
        "preferred_features_dataset_alt = preferred_features_dataset_alt.drop_duplicates()\n",
        "\n",
        "# Se cambia acorta el nombre de de los features para una mejor visualización\n",
        "preferred_features_dataset_alt[\"features\"] = preferred_features_dataset_alt[\"features\"].replace({ \"Tasa de mortalidad, adultos, mujeres (por cada 1.000 mujeres adultas)\": \"Tasa de mortalidad, Mujeres\" ,\n",
        "                         \"Tasa de mortalidad, adultos, varones (por cada 1.000 varones adultos)\" : \"Tasa de mortalidad, Varones\" ,\n",
        "                         \"Tasa de incidencia de la pobreza, sobre la base de la línea de pobreza nacional (% de la población)\" : \"Tasa de incidencia de la pobreza\" ,\n",
        "                         \"Desempleo, varones (% de la población activa masculina) (estimación modelado OIT)\" : \"Desempleo, Varones\",\n",
        "                         \"Desempleo, mujeres (% de la población activa femenina) (estimación modelado OIT)\": \"Desempleo, Mujeres\"}, inplace=False)"
      ],
      "execution_count": null,
      "outputs": []
    },
    {
      "cell_type": "code",
      "metadata": {
        "id": "1Y07Xsz9YXfq",
        "colab_type": "code",
        "colab": {}
      },
      "source": [
        "mortality_features = [\"Tasa de mortalidad, Mujeres\" , \"Tasa de mortalidad, Varones\"] \n",
        "\n",
        "for Features in mortality_features:\n",
        "    plt.figure(figsize=(20,10))\n",
        "    sns.lineplot(data=preferred_features_dataset_alt[preferred_features_dataset_alt[\"features\"]==Features], x=\"Year\", y=\"value\", hue=\"Country Name\")\n",
        "    plt.title(\"Series Temporales de los Features en \\n\" + str(Features))\n",
        "    plt.xticks(rotation=90)\n",
        "    plt.legend(bbox_to_anchor=(1.05, 1), loc=2, borderaxespad=0., fontsize= 'xx-small')"
      ],
      "execution_count": null,
      "outputs": []
    },
    {
      "cell_type": "markdown",
      "metadata": {
        "id": "lbOFahzicwQq",
        "colab_type": "text"
      },
      "source": [
        "En las líneas de tiempo graficadas anteriormente, se evidencia de la tandencia a la baja de la tasa de mortalidad tanto de hombres como mujeres para todos los países del Mercosur."
      ]
    },
    {
      "cell_type": "code",
      "metadata": {
        "id": "zaI-sOfrc81C",
        "colab_type": "code",
        "colab": {}
      },
      "source": [
        "countries = dataset['Country Name'].drop_duplicates().to_list()\n",
        "mortality_dataset = preferred_features_dataset_alt[preferred_features_dataset_alt[\"features\"].isin(mortality_features)]\n",
        "\n",
        "for country in countries:\n",
        "    plt.figure(figsize=(20,10))\n",
        "    sns.lineplot(data=mortality_dataset[mortality_dataset[\"Country Name\"]==country], x=\"Year\", y=\"value\", hue=\"features\")\n",
        "    plt.title(\"Series Temporales de las tasas de mortalidad en \\n\" + str(country))\n",
        "    plt.xticks(rotation=90)\n",
        "    plt.legend(bbox_to_anchor=(1.05, 1), loc=2, borderaxespad=0., fontsize= 'xx-small')"
      ],
      "execution_count": null,
      "outputs": []
    },
    {
      "cell_type": "markdown",
      "metadata": {
        "id": "U5zgLp9ddnEL",
        "colab_type": "text"
      },
      "source": [
        "A su vez, en los doce países en análisis, la tasa de mortalidad masculina es mayor a la tasa de mortalidad femenina. El indicador de la tasa de mortalidad se mide sobre 1000 adultos del sexo correspondiente. Es decir, la tasa de mortalidad de mujeres adultas es la tasa de mortalidad de mujeres adultas cada 1000 mujeres adultas; lo mismo se aplica para el hombre.\n",
        "\n",
        "Además, como ya se mostró en graficos anteriores, en todos los países existe una tendencia a la baja de dichos indicadores. Bolivia y Perú son los países que con una tasa de mortalidad femenina y masculina menos heterogeneas por sexo. Estos dos países, junto con Chile, muestran una caída sostenida en todo el período de ambas tasas."
      ]
    },
    {
      "cell_type": "code",
      "metadata": {
        "id": "TG07WXt3cn-b",
        "colab_type": "code",
        "colab": {}
      },
      "source": [
        "unemployment_features = [\"Desempleo, Varones\", \"Desempleo, Mujeres\"]\n",
        "\n",
        "for Features in unemployment_features:\n",
        "    plt.figure(figsize=(20,10))\n",
        "    sns.lineplot(data=preferred_features_dataset_alt[preferred_features_dataset_alt[\"features\"]==Features], x=\"Year\", y=\"value\", hue=\"Country Name\")\n",
        "    plt.title(\"Series Temporales del \\n\" + str(Features) + \" por país\")\n",
        "    plt.xticks(rotation=90)\n",
        "    plt.legend(bbox_to_anchor=(1.05, 1), loc=2, borderaxespad=0., fontsize= 'xx-small')"
      ],
      "execution_count": null,
      "outputs": []
    },
    {
      "cell_type": "code",
      "metadata": {
        "id": "RM4oTr6WfsDJ",
        "colab_type": "code",
        "colab": {}
      },
      "source": [
        "countries = dataset['Country Name'].drop_duplicates().to_list()\n",
        "unemployment_dataset = preferred_features_dataset_alt[preferred_features_dataset_alt[\"features\"].isin(unemployment_features)]\n",
        "\n",
        "for country in countries:\n",
        "    plt.figure(figsize=(20,10))\n",
        "    sns.lineplot(data=unemployment_dataset[unemployment_dataset[\"Country Name\"]==country], x=\"Year\", y=\"value\", hue=\"features\")\n",
        "    plt.title(\"Series Temporales de Desempleo por sexo en \\n\" + str(country))\n",
        "    plt.xticks(rotation=90)\n",
        "    plt.legend(bbox_to_anchor=(1.05, 1), loc=2, borderaxespad=0., fontsize= 'xx-small')"
      ],
      "execution_count": null,
      "outputs": []
    },
    {
      "cell_type": "markdown",
      "metadata": {
        "id": "reVKQCDpb--0",
        "colab_type": "text"
      },
      "source": [
        "En todos los países el desempleo femenino es mayor al masculino y pareciera respoden a los mismos shocks dado que tiene un comportamiento similar. Para algunos países en particular, la diferencia positiva entre desempleo femenino y masculino ha disminuido en la última decada, como es el caso de Bolivia, Paraguay y Chile.\n"
      ]
    },
    {
      "cell_type": "code",
      "metadata": {
        "id": "74DIt3MQgSVS",
        "colab_type": "code",
        "colab": {}
      },
      "source": [
        "poverty_features = [\"Tasa de incidencia de la pobreza\"]\n",
        "\n",
        "for Features in poverty_features:\n",
        "    plt.figure(figsize=(20,10))\n",
        "    sns.lineplot(data=preferred_features_dataset_alt[preferred_features_dataset_alt[\"features\"]==Features], x=\"Year\", y=\"value\", hue=\"Country Name\")\n",
        "    plt.title(\"Serie Temporal de la \\n\" + str(Features) + \" por país.\")\n",
        "    plt.xticks(rotation=90)\n",
        "    plt.legend(bbox_to_anchor=(1.05, 1), loc=2, borderaxespad=0., fontsize= 'xx-small')"
      ],
      "execution_count": null,
      "outputs": []
    },
    {
      "cell_type": "markdown",
      "metadata": {
        "id": "PiqbI_n6gkTn",
        "colab_type": "text"
      },
      "source": [
        "Respecto a la tasa de incidencia de la pobreza, a partir de los años en que empieza a existir información para analizar, se observa en todos los países una tendencia a la baja."
      ]
    },
    {
      "cell_type": "code",
      "metadata": {
        "id": "6SBIZBY-g1dz",
        "colab_type": "code",
        "colab": {}
      },
      "source": [
        "countries = dataset['Country Name'].drop_duplicates().to_list()\n",
        "poverty_dataset = preferred_features_dataset_alt[preferred_features_dataset_alt[\"features\"].isin(poverty_features)]\n",
        "\n",
        "for country in countries:\n",
        "      if poverty_dataset[poverty_dataset[\"Country Name\"]== country][\"value\"].count()!=0:\n",
        "        plt.figure(figsize=(20,10))\n",
        "        sns.lineplot(data=poverty_dataset[poverty_dataset[\"Country Name\"]==country], x=\"Year\", y=\"value\", hue=\"features\")\n",
        "        plt.title(\"Serie Temporal de la Tasa de Incidencia de la Pobreza de \\n\" + str(country))\n",
        "        plt.xticks(rotation=90)\n",
        "        plt.legend(bbox_to_anchor=(1.05, 1), loc=2, borderaxespad=0.)\n",
        "      else:\n",
        "        print(\"No existen datos para el país: \" + str(country))"
      ],
      "execution_count": null,
      "outputs": []
    },
    {
      "cell_type": "markdown",
      "metadata": {
        "id": "gUqFQi6mkEx2",
        "colab_type": "text"
      },
      "source": [
        "Como puede observarse:\n",
        "* No existe información de la tasa de incidencia de la pobreza en todo el período en análsis para:\n",
        "    * Brasil\n",
        "    * Guyana\n",
        "    * Suriname\n",
        "* El país con mas información en el período de análsis es Venezuela, se tiene información desde 1997; sin embargo, no presenta información actualizada para los últimos años  .\n",
        "\n",
        "* Por su parte, llama la atención la situación de Argentina, que solo tiene información para el período 2016-2018."
      ]
    },
    {
      "cell_type": "markdown",
      "metadata": {
        "id": "oTCbIcxgnndW",
        "colab_type": "text"
      },
      "source": [
        "### Features compartidos entre indicadores"
      ]
    },
    {
      "cell_type": "code",
      "metadata": {
        "id": "fGvN1sQvrzsu",
        "colab_type": "code",
        "colab": {}
      },
      "source": [
        "#renombrar la columna Country Name\n",
        "new_df = dataset.rename(columns={'Country Name':'Country'})\n",
        "\n",
        "#selecciono por un país\n",
        "select_arg = new_df.loc[new_df['Country'] == 'Argentina']\n",
        "select_bra = new_df.loc[new_df['Country'] == 'Brasil']\n",
        "select_uru = new_df.loc[new_df['Country'] == 'Uruguay']\n",
        "select_par = new_df.loc[new_df['Country'] == 'Paraguay']\n",
        "select_ven = new_df.loc[new_df['Country'] == 'Venezuela']\n",
        "select_bol = new_df.loc[new_df['Country'] == 'Bolivia']\n",
        "select_chi = new_df.loc[new_df['Country'] == 'Chile']\n",
        "select_guy = new_df.loc[new_df['Country'] == 'Guyana']\n",
        "select_sur = new_df.loc[new_df['Country'] == 'Suriname']\n",
        "select_col = new_df.loc[new_df['Country'] == 'Colombia']\n",
        "select_ecu = new_df.loc[new_df['Country'] == 'Ecuador']\n",
        "select_per = new_df.loc[new_df['Country'] == 'Perú']\n",
        "\n",
        "#busco los features duplicados\n",
        "duparg = select_arg[select_arg.duplicated(['features'])]\n",
        "dupbra = select_bra[select_bra.duplicated(['features'])]\n",
        "dupuru = select_uru[select_uru.duplicated(['features'])]\n",
        "duppar = select_par[select_par.duplicated(['features'])]\n",
        "dupven = select_ven[select_ven.duplicated(['features'])]\n",
        "dupbol = select_bol[select_bol.duplicated(['features'])]\n",
        "dupchi = select_chi[select_chi.duplicated(['features'])]\n",
        "dupguy = select_guy[select_guy.duplicated(['features'])]\n",
        "dupsur = select_sur[select_sur.duplicated(['features'])]\n",
        "dupcol = select_col[select_col.duplicated(['features'])]\n",
        "dupecu = select_ecu[select_ecu.duplicated(['features'])]\n",
        "dupper = select_per[select_per.duplicated(['features'])]"
      ],
      "execution_count": null,
      "outputs": []
    },
    {
      "cell_type": "code",
      "metadata": {
        "id": "aK9dL4ca3tAW",
        "colab_type": "code",
        "colab": {}
      },
      "source": [
        "print(duparg['features'])"
      ],
      "execution_count": null,
      "outputs": []
    },
    {
      "cell_type": "markdown",
      "metadata": {
        "id": "vgxb2fvu-2P8",
        "colab_type": "text"
      },
      "source": [
        "Existen 89 features que se repiten en al menos dos indicadores para cada uno de los paises.\n",
        "\n",
        "En general las features que se repiten son variables que aportan al análisis de los indicadores de Género, Educación y Protección Social."
      ]
    },
    {
      "cell_type": "markdown",
      "metadata": {
        "id": "5t7P62eOLZ-1",
        "colab_type": "text"
      },
      "source": [
        "## CONCLUSIONES"
      ]
    },
    {
      "cell_type": "markdown",
      "metadata": {
        "id": "IE9HTW1laFY6",
        "colab_type": "text"
      },
      "source": [
        "A lo largo de la notebook se ha explorado el comportamiento de los indicadores sociales de género, salud, educación, protección social, pobreza y ambiente en los distintos países del MERCOSUR, poniendo especial énfasis en aquellos features por indicador con mayor proporción de datos.\n",
        "\n",
        "Dado que el objetivo último del trabajo es la proyección de los features para los diversos indicadores, se realizó un análisis profundo de los valores faltantes, debido a que la presencia de los mismos interfiere en la predicción y, en el limite, la imposibilita para casos específicos. \n",
        "\n",
        "La ausencia de datos es un problema del dataset en general para todos los indicadores, que se acentúa en determinados intervalos de tiempo o, eventualmente, en ciertos países según indicador. A continuación se resume el perfil de cada indicador al respecto, teniendo en cuenta los heatmap graficados. \n",
        "-\tEl indicador en situación más complicada en cuanto a valores faltantes es el de pobreza. La mayor cantidad de NaNs se encuentra en el periodo de tiempo de 1970 a 1992, a la vez que para el año 2019 ningún feature tiene dato. Adicionalmente, como se observa en el heatmap del indicador que distingue entre países, Guyana y Suriname presentan gran cantidad de valores faltantes en todo el intervalo de tiempo considerado, tratandose de países que debieran descartarse para la proyección.\n",
        "-\tEducación es otro indicador con gran cantidad de NaNs. Los mismos se concentran en el intervalo de tiempo de 1970 a 1997, y en el de 2018 a 2019. Además, hay países particulares que son críticos en cuanto a la falta de información para todos los años, como es el caso de Brasil.  \n",
        "-\tEl indicador de ambiente evidencia una situación más comprometedora para la predicción, dado que, no sólo presenta gran proporción de NaNs de 1970 a 1990, sino que también presenta gran cantidad de nulos en la última década. Desde el año 2009 hasta la actualidad empieza a crecer la cantidad de datos nulos de los features. Para el año 2013 ya hay una gran cantidad de datos nulos que sigue creciendo hasta el punto en el cual no hay feature que tenga información en el año 2019, lo que condicionará nuestra predicción. En este caso, paralelamente, no hay un país que no presente datos para todo el intervalo de tiempo como sucede en otros indicadores, pero Suriname se encuentra en desventaja en relación al resto de los países. \n",
        "-\tPara el caso de los indicadores de género y protección social, la mayoría de los valores faltantes se sitúan en las décadas de 1970 y 1980, aumentando la proporción de datos desde 1990.  Ambos indicadores presentan alta proporción de valores nulos para 2019, pero no es una situación tan crítica como para otros indicadores. En relación a la presencia de algún país con mayor cantidad de valores faltantes, para el caso de género no hay un país demasiado delicado, aunque Brasil se encuentra en desventaja respecto al resto de países (en línea con lo que sucede para educación), mientras que para protección social, Suriname y Guyana se encuentran muy comprometidos (en línea con lo que sucede para pobreza).\n",
        "-\tPara el indicador salud, por su parte, se tiene muy poca proporción de valores faltantes salvo para el año 2019 en el que ningún feature tiene dato. Cabe destacar que unos pocos features, los últimos del heatmap general del indicador, presentan el fenómeno de los indicadores de genero y protección social de presentar valores faltantes de 1970 a 1990.\n",
        "\n",
        "Finalmente, cabe destacar que los features escogidos para la predicción para todos los indicadores, dada la falta de datos para 2019, se proyectarían para tal año, a excepción de los correspondientes al indicador Ambiente para el cual cabria una predicción del año 2018 (\n",
        "\n",
        "En lo que concierne a la distribución y las medidas de posición de los features elegidos, manifestadas en las funciones de densidad y los boxplot respectivamente, se evidencia gran heterogeneidad entre los países analizados para la mayoría de los indicadores. \n",
        "\n",
        "Para algunos indicadores es posible advertir ciertas particularidades entre o para determinados países en cuanto a sus funciones de densidad. En el caso de salud, por ejemplo, se observa cómo, para muchos de los features, Bolivia y Argentina presentan una elevada curtosis en relación al resto de los países. Por otra parte, en el caso de ambiente no se observan tantas diferencias entre países (hay menos heterogeneidad en las funciones de densidad), aunque el país de la región que pareciera tener un comportamiento sustancialmente distinto al de sus pares para muchos features es Suriname.\n",
        "\n",
        "En relación a los boxplot, es interesante advertir cómo para algunos indicadores son siempre los mismos países los que presentan menor rango de variación de datos (cajas más pequeñas) o mayor rango de variación de datos (cajas más grandes). En género se manifiesta que los países con mayor rango de variación de datos son Bolivia, Brasil, Chile y Perú, mientras que no es posible categorizar un conjunto de países con menor rango de variación. En el caso de salud, a la inversa, se aprecia cómo en términos generales los países con menor rango de variación de datos son Argentina y Bolivia, mientras que el resto de los países presentan cajas disimiles para los diferentes features y no es posible categorizar a aquellos con mayor rango de variación. Ambiente, por su parte, presenta a Brasil, Bolivia y Venezuela como países con mayor dispersión de datos, y a Uruguay y Argentina como países con poca variabilidad. \n"
      ]
    }
  ]
}